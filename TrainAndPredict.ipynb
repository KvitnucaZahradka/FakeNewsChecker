{
 "cells": [
  {
   "cell_type": "code",
   "execution_count": 1,
   "metadata": {
    "collapsed": true
   },
   "outputs": [],
   "source": [
    "import sklearn\n",
    "import matplotlib\n",
    "\n",
    "import numpy as np\n",
    "import pandas as pd\n",
    "import sklearn.preprocessing as prep\n",
    "\n",
    "import pickle\n",
    "\n",
    "import re\n",
    "import os\n",
    "\n"
   ]
  },
  {
   "cell_type": "code",
   "execution_count": 4,
   "metadata": {
    "collapsed": true
   },
   "outputs": [],
   "source": [
    "## helpful functions"
   ]
  },
  {
   "cell_type": "code",
   "execution_count": 5,
   "metadata": {
    "collapsed": true
   },
   "outputs": [],
   "source": [
    "### safely open the saved pickle file\n",
    "def safelyOpen(nameOfSavedDictionary):\n",
    "    try:\n",
    "        with open(nameOfSavedDictionary + '.pickle', 'rb') as handle:\n",
    "            return pickle.load(handle)\n",
    "    except FileNotFoundError:\n",
    "        print(\"File was not found \")"
   ]
  },
  {
   "cell_type": "code",
   "execution_count": 3,
   "metadata": {
    "collapsed": false
   },
   "outputs": [
    {
     "name": "stdout",
     "output_type": "stream",
     "text": [
      "['.DS_Store', '.idea', '.ipynb_checkpoints', '__pycache__', 'dirty_data_code_NYT.py', 'fake.csv', 'FakeData.ipynb', 'FakeData.py', 'fakeDictionaryTrialNUMBERSTrue.pickle', 'fakeKaggleEnglishOver300.pickle', 'getting_data.ipynb', 'kucapaca.pickle', 'LargerNytDataSetQuery.ipynb', 'newDict.pickle', 'NLPanalysis.ipynb', 'NLPanalysis.py', 'numericalFakeFromKaggle.pickle', 'numericalTrue2016NYT.pickle', 'nyt.csv', 'nyt.jsongetTimesArticles_testing.log', 'NytData.py', 'nytRawTestText2016.pickle', 'nytRawText2015.pickle', 'nytRawText2016.pickle', 'nytSnippets2015.pickle', 'nytSnippets2016.pickle', 'PutDataIntoSQL.ipynb', 'PutDataIntoSQL.py', 'testDic.pickle', 'TrainAndPredict.ipynb', 'TrainAndPredict.py', 'trial.pickle', 'trialList.pickle', 'trialList1.pickle', 'trueDictionaryTrialNUMBERSFalse.pickle']\n"
     ]
    }
   ],
   "source": [
    "print(os.listdir())"
   ]
  },
  {
   "cell_type": "code",
   "execution_count": null,
   "metadata": {
    "collapsed": true
   },
   "outputs": [],
   "source": []
  },
  {
   "cell_type": "code",
   "execution_count": 111,
   "metadata": {
    "collapsed": true
   },
   "outputs": [],
   "source": [
    "def addClassOfNewsToData(dictionary, fake):\n",
    "    if fake:\n",
    "        for key in dictionary.keys():\n",
    "            dictionary[key].append(0)\n",
    "    else:\n",
    "        for key in dictionary.keys():\n",
    "            dictionary[key].append(1)\n"
   ]
  },
  {
   "cell_type": "code",
   "execution_count": 112,
   "metadata": {
    "collapsed": true
   },
   "outputs": [],
   "source": [
    "aa = {'a':[33]}"
   ]
  },
  {
   "cell_type": "code",
   "execution_count": null,
   "metadata": {
    "collapsed": false
   },
   "outputs": [],
   "source": []
  },
  {
   "cell_type": "code",
   "execution_count": 114,
   "metadata": {
    "collapsed": false
   },
   "outputs": [],
   "source": [
    "addClassOfNewsToData(aa,True)"
   ]
  },
  {
   "cell_type": "code",
   "execution_count": null,
   "metadata": {
    "collapsed": false
   },
   "outputs": [],
   "source": []
  },
  {
   "cell_type": "code",
   "execution_count": 92,
   "metadata": {
    "collapsed": false
   },
   "outputs": [],
   "source": [
    "## adding a class number"
   ]
  },
  {
   "cell_type": "code",
   "execution_count": 142,
   "metadata": {
    "collapsed": true
   },
   "outputs": [],
   "source": [
    "numericFake = safelyOpen('fakeDictionaryTrialNUMBERSTrue')"
   ]
  },
  {
   "cell_type": "code",
   "execution_count": 91,
   "metadata": {
    "collapsed": false
   },
   "outputs": [],
   "source": [
    "addClassOfNewsToData(numericFake, True)"
   ]
  },
  {
   "cell_type": "code",
   "execution_count": 194,
   "metadata": {
    "collapsed": false
   },
   "outputs": [],
   "source": [
    "dime = dfFake.shape[0]"
   ]
  },
  {
   "cell_type": "code",
   "execution_count": 195,
   "metadata": {
    "collapsed": false
   },
   "outputs": [
    {
     "data": {
      "text/plain": [
       "10"
      ]
     },
     "execution_count": 195,
     "metadata": {},
     "output_type": "execute_result"
    }
   ],
   "source": [
    "dime"
   ]
  },
  {
   "cell_type": "code",
   "execution_count": null,
   "metadata": {
    "collapsed": true
   },
   "outputs": [],
   "source": []
  },
  {
   "cell_type": "code",
   "execution_count": null,
   "metadata": {
    "collapsed": true
   },
   "outputs": [],
   "source": []
  },
  {
   "cell_type": "code",
   "execution_count": 197,
   "metadata": {
    "collapsed": false
   },
   "outputs": [
    {
     "data": {
      "text/plain": [
       "00bbdb926ee71e47369fd87ed17cd8cd8a39b265    0.0\n",
       "00ecd7fc7097c0078eabe3f6dcb3077da971f47e    0.0\n",
       "00f517120f9b9e44bb767a8b043f855c7b95d001    0.0\n",
       "01ecb742e8362f5e76355c22c8b95d871aa52a5b    0.0\n",
       "020dd1a987c7d843b00ab63c9002fd3236baa76f    0.0\n",
       "026520baa2fee5c05689f0617265ff13d4030091    0.0\n",
       "02de739e29f46efde14c9fbb829a99b06fabbbe0    0.0\n",
       "02f63f4e6aa8762440c536ed704d28dcdb274eff    0.0\n",
       "035bf73a677dd27abbc585169af2c0a891c433ea    0.0\n",
       "03622929f3c700e5aaba5922edeaf9a7329e32fd    0.0\n",
       "0370a29c613c5e673dd2589c9a37d83dc9dd411d    0.0\n",
       "0375cd051f558218d12274777f24d52c0f701987    0.0\n",
       "0457746a16bf1e39f178ae20fa2a6e517e2bca26    0.0\n",
       "046dc3d06f7181f4e9e7e0ba7d0bfc521befe988    0.0\n",
       "0512858c9b51b0d98126834016d8ba9265e45351    0.0\n",
       "0636f14f2284930e017aa0211b6e32e0ed1cf932    0.0\n",
       "06c219b4163f8bb3618c7ce61e3f5b7fbfbf849d    0.0\n",
       "07a0d42cffb547bab18660895f9f7f218f20cedd    0.0\n",
       "07f932c9278628708ace0d2268b2a8c9019accf7    0.0\n",
       "0964c5c6a86fd36e4b712bc4f2b1b31bd056e6d0    0.0\n",
       "0965af9d2fd769e70490cb75417157a887ea5af6    0.0\n",
       "09712b8e5796b613b937b1d227fce70cf47c24b0    0.0\n",
       "097bdb7d2dc0c90a201113535b485ea33e031eb5    0.0\n",
       "09813d90cf65399701a225d1532d1be09e3588c6    0.0\n",
       "0a04b2c430623e8699502e1d8381af65de638f6a    0.0\n",
       "0a3cc70c88fa9e34125472c807e83153a36f4f0e    0.0\n",
       "0b3c43e5f7265fdbc41274b46a652be190474b08    0.0\n",
       "0b9233b7f71c2ab06559c69e3ecc7745ffd1f2b1    0.0\n",
       "0c0ff93384f5a5df6a03cb2e6cb4d421210525b0    0.0\n",
       "0c9d01b2bc7e6e5be2ebecd52b54468b5bf1e731    0.0\n",
       "                                           ... \n",
       "faabff8c1d94a6933751bdafe6fe054a39f37502    0.0\n",
       "facd3b35fee9a42cc19c07bc424bc0701b4eb53f    0.0\n",
       "fad86e67dea53d3a3dc9cb276230ff2869e1577e    0.0\n",
       "fb0722d1c940646ac214fd216336a72e8defb0cf    0.0\n",
       "fb567ca2a8f4ef48e4dbaf37a64bee423c0b89c3    0.0\n",
       "fb57c970d12afe7b5f176f641b88451923373be5    0.0\n",
       "fbbcc17d7b999e8ce1a179864da712b2de5ea491    0.0\n",
       "fc190b7d0f9628c7408ef75f9441cdc6ae7ba20c    0.0\n",
       "fc2fa67e8ae0e5802e424c57642390cea7b77669    0.0\n",
       "fc3b004a266a28fe2e74fb0f4618acd6c892eb55    0.0\n",
       "fc5993f8a28a1d4997e03ecb76ba4fae6ca96f27    0.0\n",
       "fcfe9ef48bb3f0f1288d3a0976ca15e8d2c93bdd    0.0\n",
       "fd0aa2198f84acbb7af1770567ad946037c34289    0.0\n",
       "fd4528b94a38297e8dae20de00abb6908c410dfc    0.0\n",
       "fd9d528e9bad8813c45836fd41bd83cadcefca48    0.0\n",
       "fde9a9441c55e2aa15c148f064880d744a8f9b94    0.0\n",
       "fdeded04a88ec2946b2d0792cff2fa7d3ee540ab    0.0\n",
       "fe070842076caeed33954c33d99e264a63f7d50b    0.0\n",
       "fe7c35efd9a1b48a186343e89d47827e1601bf66    0.0\n",
       "fe88118b5cc98d1d4b8e9644f00b06d52f54b242    0.0\n",
       "feda634378d10c9727e4601ad17622954c6d27bf    0.0\n",
       "fef154fb0c6317022ca4132d2325797172a11398    0.0\n",
       "fef7abd5fa9fffabffa5792adb618e0a1537a3f0    0.0\n",
       "ff513d17706b4cada61daefdb194da8079cc1f51    0.0\n",
       "ff5530621968a76a280c82d1ae6e10c4f9e8324c    0.0\n",
       "ffa7abe0749798a06d48f28a0cc45ca4ca5470bb    0.0\n",
       "ffbb5414c0a32f23781e99569f8addcf190edeb0    0.0\n",
       "ffc9556ad614b43948e1d0ec58ea685be124d540    0.0\n",
       "ffe5085e4228287ae26ceedf6da29dea45857341    0.0\n",
       "ffeab4e0a458333a020ffb48526a76e4d3de7da0    0.0\n",
       "Name: 9, dtype: float64"
      ]
     },
     "execution_count": 197,
     "metadata": {},
     "output_type": "execute_result"
    }
   ],
   "source": [
    "dfFake.ix[(dime-1),:]"
   ]
  },
  {
   "cell_type": "code",
   "execution_count": 85,
   "metadata": {
    "collapsed": false
   },
   "outputs": [],
   "source": [
    "#numericFake"
   ]
  },
  {
   "cell_type": "code",
   "execution_count": 143,
   "metadata": {
    "collapsed": true
   },
   "outputs": [],
   "source": [
    "numericTrue = safelyOpen('trueDictionaryTrialNUMBERSFalse')"
   ]
  },
  {
   "cell_type": "code",
   "execution_count": 94,
   "metadata": {
    "collapsed": true
   },
   "outputs": [],
   "source": [
    "addClassOfNewsToData(numericTrue, False)"
   ]
  },
  {
   "cell_type": "code",
   "execution_count": 103,
   "metadata": {
    "collapsed": false
   },
   "outputs": [
    {
     "data": {
      "text/plain": [
       "546"
      ]
     },
     "execution_count": 103,
     "metadata": {},
     "output_type": "execute_result"
    }
   ],
   "source": [
    "len(numericTrue)"
   ]
  },
  {
   "cell_type": "code",
   "execution_count": 104,
   "metadata": {
    "collapsed": false
   },
   "outputs": [
    {
     "data": {
      "text/plain": [
       "800"
      ]
     },
     "execution_count": 104,
     "metadata": {},
     "output_type": "execute_result"
    }
   ],
   "source": [
    "len(numericFake)"
   ]
  },
  {
   "cell_type": "code",
   "execution_count": 106,
   "metadata": {
    "collapsed": false
   },
   "outputs": [],
   "source": [
    "dfFake = pd.DataFrame(numericFake)\n",
    "dfTrue = pd.DataFrame(numericTrue)"
   ]
  },
  {
   "cell_type": "code",
   "execution_count": 167,
   "metadata": {
    "collapsed": false
   },
   "outputs": [
    {
     "data": {
      "text/html": [
       "<div>\n",
       "<table border=\"1\" class=\"dataframe\">\n",
       "  <thead>\n",
       "    <tr style=\"text-align: right;\">\n",
       "      <th></th>\n",
       "      <th>00bbdb926ee71e47369fd87ed17cd8cd8a39b265</th>\n",
       "      <th>00ecd7fc7097c0078eabe3f6dcb3077da971f47e</th>\n",
       "      <th>00f517120f9b9e44bb767a8b043f855c7b95d001</th>\n",
       "      <th>01ecb742e8362f5e76355c22c8b95d871aa52a5b</th>\n",
       "      <th>020dd1a987c7d843b00ab63c9002fd3236baa76f</th>\n",
       "      <th>026520baa2fee5c05689f0617265ff13d4030091</th>\n",
       "      <th>02de739e29f46efde14c9fbb829a99b06fabbbe0</th>\n",
       "      <th>02f63f4e6aa8762440c536ed704d28dcdb274eff</th>\n",
       "      <th>035bf73a677dd27abbc585169af2c0a891c433ea</th>\n",
       "      <th>03622929f3c700e5aaba5922edeaf9a7329e32fd</th>\n",
       "      <th>...</th>\n",
       "      <th>feda634378d10c9727e4601ad17622954c6d27bf</th>\n",
       "      <th>fef154fb0c6317022ca4132d2325797172a11398</th>\n",
       "      <th>fef7abd5fa9fffabffa5792adb618e0a1537a3f0</th>\n",
       "      <th>ff513d17706b4cada61daefdb194da8079cc1f51</th>\n",
       "      <th>ff5530621968a76a280c82d1ae6e10c4f9e8324c</th>\n",
       "      <th>ffa7abe0749798a06d48f28a0cc45ca4ca5470bb</th>\n",
       "      <th>ffbb5414c0a32f23781e99569f8addcf190edeb0</th>\n",
       "      <th>ffc9556ad614b43948e1d0ec58ea685be124d540</th>\n",
       "      <th>ffe5085e4228287ae26ceedf6da29dea45857341</th>\n",
       "      <th>ffeab4e0a458333a020ffb48526a76e4d3de7da0</th>\n",
       "    </tr>\n",
       "  </thead>\n",
       "  <tbody>\n",
       "    <tr>\n",
       "      <th>0</th>\n",
       "      <td>4.000000</td>\n",
       "      <td>4.000000</td>\n",
       "      <td>23.000000</td>\n",
       "      <td>15.000000</td>\n",
       "      <td>10.000000</td>\n",
       "      <td>16.000000</td>\n",
       "      <td>7.000000</td>\n",
       "      <td>14.000000</td>\n",
       "      <td>16.000000</td>\n",
       "      <td>18.000000</td>\n",
       "      <td>...</td>\n",
       "      <td>3.000000</td>\n",
       "      <td>16.000000</td>\n",
       "      <td>17.000000</td>\n",
       "      <td>9.000000</td>\n",
       "      <td>11.000000</td>\n",
       "      <td>0.000000</td>\n",
       "      <td>49.000000</td>\n",
       "      <td>27.000000</td>\n",
       "      <td>4.000000</td>\n",
       "      <td>58.000000</td>\n",
       "    </tr>\n",
       "    <tr>\n",
       "      <th>1</th>\n",
       "      <td>0.003591</td>\n",
       "      <td>0.004386</td>\n",
       "      <td>0.005273</td>\n",
       "      <td>0.009868</td>\n",
       "      <td>0.009747</td>\n",
       "      <td>0.012158</td>\n",
       "      <td>0.002577</td>\n",
       "      <td>0.003636</td>\n",
       "      <td>0.012800</td>\n",
       "      <td>0.016423</td>\n",
       "      <td>...</td>\n",
       "      <td>0.004249</td>\n",
       "      <td>0.008475</td>\n",
       "      <td>0.018889</td>\n",
       "      <td>0.004782</td>\n",
       "      <td>0.005467</td>\n",
       "      <td>0.000000</td>\n",
       "      <td>0.008951</td>\n",
       "      <td>0.008523</td>\n",
       "      <td>0.005263</td>\n",
       "      <td>0.009787</td>\n",
       "    </tr>\n",
       "    <tr>\n",
       "      <th>2</th>\n",
       "      <td>8.890000</td>\n",
       "      <td>10.820000</td>\n",
       "      <td>9.550000</td>\n",
       "      <td>9.660000</td>\n",
       "      <td>9.180000</td>\n",
       "      <td>8.780000</td>\n",
       "      <td>9.870000</td>\n",
       "      <td>9.590000</td>\n",
       "      <td>10.140000</td>\n",
       "      <td>10.220000</td>\n",
       "      <td>...</td>\n",
       "      <td>9.850000</td>\n",
       "      <td>9.440000</td>\n",
       "      <td>11.020000</td>\n",
       "      <td>10.180000</td>\n",
       "      <td>9.060000</td>\n",
       "      <td>10.310000</td>\n",
       "      <td>9.480000</td>\n",
       "      <td>9.570000</td>\n",
       "      <td>11.100000</td>\n",
       "      <td>8.950000</td>\n",
       "    </tr>\n",
       "    <tr>\n",
       "      <th>3</th>\n",
       "      <td>0.000000</td>\n",
       "      <td>0.000000</td>\n",
       "      <td>7.000000</td>\n",
       "      <td>4.000000</td>\n",
       "      <td>0.000000</td>\n",
       "      <td>0.000000</td>\n",
       "      <td>2.000000</td>\n",
       "      <td>1.000000</td>\n",
       "      <td>4.000000</td>\n",
       "      <td>1.000000</td>\n",
       "      <td>...</td>\n",
       "      <td>2.000000</td>\n",
       "      <td>0.000000</td>\n",
       "      <td>0.000000</td>\n",
       "      <td>5.000000</td>\n",
       "      <td>0.000000</td>\n",
       "      <td>0.000000</td>\n",
       "      <td>2.000000</td>\n",
       "      <td>2.000000</td>\n",
       "      <td>0.000000</td>\n",
       "      <td>5.000000</td>\n",
       "    </tr>\n",
       "    <tr>\n",
       "      <th>4</th>\n",
       "      <td>0.000000</td>\n",
       "      <td>0.000000</td>\n",
       "      <td>0.003210</td>\n",
       "      <td>0.005263</td>\n",
       "      <td>0.000000</td>\n",
       "      <td>0.000000</td>\n",
       "      <td>0.001473</td>\n",
       "      <td>0.000519</td>\n",
       "      <td>0.006400</td>\n",
       "      <td>0.001825</td>\n",
       "      <td>...</td>\n",
       "      <td>0.005666</td>\n",
       "      <td>0.000000</td>\n",
       "      <td>0.000000</td>\n",
       "      <td>0.005313</td>\n",
       "      <td>0.000000</td>\n",
       "      <td>0.000000</td>\n",
       "      <td>0.000731</td>\n",
       "      <td>0.001263</td>\n",
       "      <td>0.000000</td>\n",
       "      <td>0.001687</td>\n",
       "    </tr>\n",
       "    <tr>\n",
       "      <th>5</th>\n",
       "      <td>0.000000</td>\n",
       "      <td>0.000000</td>\n",
       "      <td>0.000000</td>\n",
       "      <td>0.000000</td>\n",
       "      <td>0.000000</td>\n",
       "      <td>0.000000</td>\n",
       "      <td>2.000000</td>\n",
       "      <td>1.000000</td>\n",
       "      <td>0.000000</td>\n",
       "      <td>0.000000</td>\n",
       "      <td>...</td>\n",
       "      <td>0.000000</td>\n",
       "      <td>0.000000</td>\n",
       "      <td>0.000000</td>\n",
       "      <td>1.000000</td>\n",
       "      <td>0.000000</td>\n",
       "      <td>0.000000</td>\n",
       "      <td>4.000000</td>\n",
       "      <td>1.000000</td>\n",
       "      <td>2.000000</td>\n",
       "      <td>6.000000</td>\n",
       "    </tr>\n",
       "    <tr>\n",
       "      <th>6</th>\n",
       "      <td>0.000000</td>\n",
       "      <td>0.000000</td>\n",
       "      <td>0.000000</td>\n",
       "      <td>0.000000</td>\n",
       "      <td>0.000000</td>\n",
       "      <td>0.000000</td>\n",
       "      <td>0.001473</td>\n",
       "      <td>0.000519</td>\n",
       "      <td>0.000000</td>\n",
       "      <td>0.000000</td>\n",
       "      <td>...</td>\n",
       "      <td>0.000000</td>\n",
       "      <td>0.000000</td>\n",
       "      <td>0.000000</td>\n",
       "      <td>0.001063</td>\n",
       "      <td>0.000000</td>\n",
       "      <td>0.000000</td>\n",
       "      <td>0.001461</td>\n",
       "      <td>0.000631</td>\n",
       "      <td>0.005263</td>\n",
       "      <td>0.002025</td>\n",
       "    </tr>\n",
       "    <tr>\n",
       "      <th>7</th>\n",
       "      <td>0.082432</td>\n",
       "      <td>0.073990</td>\n",
       "      <td>0.091365</td>\n",
       "      <td>0.076106</td>\n",
       "      <td>0.050142</td>\n",
       "      <td>0.048017</td>\n",
       "      <td>0.096983</td>\n",
       "      <td>0.123811</td>\n",
       "      <td>0.052650</td>\n",
       "      <td>0.045247</td>\n",
       "      <td>...</td>\n",
       "      <td>0.041327</td>\n",
       "      <td>0.071882</td>\n",
       "      <td>0.074203</td>\n",
       "      <td>0.073838</td>\n",
       "      <td>0.073311</td>\n",
       "      <td>0.068358</td>\n",
       "      <td>0.096463</td>\n",
       "      <td>0.075219</td>\n",
       "      <td>0.087456</td>\n",
       "      <td>0.099971</td>\n",
       "    </tr>\n",
       "    <tr>\n",
       "      <th>8</th>\n",
       "      <td>0.096223</td>\n",
       "      <td>0.082969</td>\n",
       "      <td>0.078906</td>\n",
       "      <td>0.071845</td>\n",
       "      <td>0.054254</td>\n",
       "      <td>0.031976</td>\n",
       "      <td>0.082992</td>\n",
       "      <td>0.103777</td>\n",
       "      <td>0.038853</td>\n",
       "      <td>0.029315</td>\n",
       "      <td>...</td>\n",
       "      <td>0.029203</td>\n",
       "      <td>0.087394</td>\n",
       "      <td>0.045037</td>\n",
       "      <td>0.061148</td>\n",
       "      <td>0.073946</td>\n",
       "      <td>0.059245</td>\n",
       "      <td>0.061379</td>\n",
       "      <td>0.063484</td>\n",
       "      <td>0.101302</td>\n",
       "      <td>0.069912</td>\n",
       "    </tr>\n",
       "    <tr>\n",
       "      <th>9</th>\n",
       "      <td>0.000000</td>\n",
       "      <td>0.000000</td>\n",
       "      <td>0.000000</td>\n",
       "      <td>0.000000</td>\n",
       "      <td>0.000000</td>\n",
       "      <td>0.000000</td>\n",
       "      <td>0.000000</td>\n",
       "      <td>0.000000</td>\n",
       "      <td>0.000000</td>\n",
       "      <td>0.000000</td>\n",
       "      <td>...</td>\n",
       "      <td>0.000000</td>\n",
       "      <td>0.000000</td>\n",
       "      <td>0.000000</td>\n",
       "      <td>0.000000</td>\n",
       "      <td>0.000000</td>\n",
       "      <td>0.000000</td>\n",
       "      <td>0.000000</td>\n",
       "      <td>0.000000</td>\n",
       "      <td>0.000000</td>\n",
       "      <td>0.000000</td>\n",
       "    </tr>\n",
       "  </tbody>\n",
       "</table>\n",
       "<p>10 rows × 800 columns</p>\n",
       "</div>"
      ],
      "text/plain": [
       "   00bbdb926ee71e47369fd87ed17cd8cd8a39b265  \\\n",
       "0                                  4.000000   \n",
       "1                                  0.003591   \n",
       "2                                  8.890000   \n",
       "3                                  0.000000   \n",
       "4                                  0.000000   \n",
       "5                                  0.000000   \n",
       "6                                  0.000000   \n",
       "7                                  0.082432   \n",
       "8                                  0.096223   \n",
       "9                                  0.000000   \n",
       "\n",
       "   00ecd7fc7097c0078eabe3f6dcb3077da971f47e  \\\n",
       "0                                  4.000000   \n",
       "1                                  0.004386   \n",
       "2                                 10.820000   \n",
       "3                                  0.000000   \n",
       "4                                  0.000000   \n",
       "5                                  0.000000   \n",
       "6                                  0.000000   \n",
       "7                                  0.073990   \n",
       "8                                  0.082969   \n",
       "9                                  0.000000   \n",
       "\n",
       "   00f517120f9b9e44bb767a8b043f855c7b95d001  \\\n",
       "0                                 23.000000   \n",
       "1                                  0.005273   \n",
       "2                                  9.550000   \n",
       "3                                  7.000000   \n",
       "4                                  0.003210   \n",
       "5                                  0.000000   \n",
       "6                                  0.000000   \n",
       "7                                  0.091365   \n",
       "8                                  0.078906   \n",
       "9                                  0.000000   \n",
       "\n",
       "   01ecb742e8362f5e76355c22c8b95d871aa52a5b  \\\n",
       "0                                 15.000000   \n",
       "1                                  0.009868   \n",
       "2                                  9.660000   \n",
       "3                                  4.000000   \n",
       "4                                  0.005263   \n",
       "5                                  0.000000   \n",
       "6                                  0.000000   \n",
       "7                                  0.076106   \n",
       "8                                  0.071845   \n",
       "9                                  0.000000   \n",
       "\n",
       "   020dd1a987c7d843b00ab63c9002fd3236baa76f  \\\n",
       "0                                 10.000000   \n",
       "1                                  0.009747   \n",
       "2                                  9.180000   \n",
       "3                                  0.000000   \n",
       "4                                  0.000000   \n",
       "5                                  0.000000   \n",
       "6                                  0.000000   \n",
       "7                                  0.050142   \n",
       "8                                  0.054254   \n",
       "9                                  0.000000   \n",
       "\n",
       "   026520baa2fee5c05689f0617265ff13d4030091  \\\n",
       "0                                 16.000000   \n",
       "1                                  0.012158   \n",
       "2                                  8.780000   \n",
       "3                                  0.000000   \n",
       "4                                  0.000000   \n",
       "5                                  0.000000   \n",
       "6                                  0.000000   \n",
       "7                                  0.048017   \n",
       "8                                  0.031976   \n",
       "9                                  0.000000   \n",
       "\n",
       "   02de739e29f46efde14c9fbb829a99b06fabbbe0  \\\n",
       "0                                  7.000000   \n",
       "1                                  0.002577   \n",
       "2                                  9.870000   \n",
       "3                                  2.000000   \n",
       "4                                  0.001473   \n",
       "5                                  2.000000   \n",
       "6                                  0.001473   \n",
       "7                                  0.096983   \n",
       "8                                  0.082992   \n",
       "9                                  0.000000   \n",
       "\n",
       "   02f63f4e6aa8762440c536ed704d28dcdb274eff  \\\n",
       "0                                 14.000000   \n",
       "1                                  0.003636   \n",
       "2                                  9.590000   \n",
       "3                                  1.000000   \n",
       "4                                  0.000519   \n",
       "5                                  1.000000   \n",
       "6                                  0.000519   \n",
       "7                                  0.123811   \n",
       "8                                  0.103777   \n",
       "9                                  0.000000   \n",
       "\n",
       "   035bf73a677dd27abbc585169af2c0a891c433ea  \\\n",
       "0                                 16.000000   \n",
       "1                                  0.012800   \n",
       "2                                 10.140000   \n",
       "3                                  4.000000   \n",
       "4                                  0.006400   \n",
       "5                                  0.000000   \n",
       "6                                  0.000000   \n",
       "7                                  0.052650   \n",
       "8                                  0.038853   \n",
       "9                                  0.000000   \n",
       "\n",
       "   03622929f3c700e5aaba5922edeaf9a7329e32fd  \\\n",
       "0                                 18.000000   \n",
       "1                                  0.016423   \n",
       "2                                 10.220000   \n",
       "3                                  1.000000   \n",
       "4                                  0.001825   \n",
       "5                                  0.000000   \n",
       "6                                  0.000000   \n",
       "7                                  0.045247   \n",
       "8                                  0.029315   \n",
       "9                                  0.000000   \n",
       "\n",
       "                     ...                     \\\n",
       "0                    ...                      \n",
       "1                    ...                      \n",
       "2                    ...                      \n",
       "3                    ...                      \n",
       "4                    ...                      \n",
       "5                    ...                      \n",
       "6                    ...                      \n",
       "7                    ...                      \n",
       "8                    ...                      \n",
       "9                    ...                      \n",
       "\n",
       "   feda634378d10c9727e4601ad17622954c6d27bf  \\\n",
       "0                                  3.000000   \n",
       "1                                  0.004249   \n",
       "2                                  9.850000   \n",
       "3                                  2.000000   \n",
       "4                                  0.005666   \n",
       "5                                  0.000000   \n",
       "6                                  0.000000   \n",
       "7                                  0.041327   \n",
       "8                                  0.029203   \n",
       "9                                  0.000000   \n",
       "\n",
       "   fef154fb0c6317022ca4132d2325797172a11398  \\\n",
       "0                                 16.000000   \n",
       "1                                  0.008475   \n",
       "2                                  9.440000   \n",
       "3                                  0.000000   \n",
       "4                                  0.000000   \n",
       "5                                  0.000000   \n",
       "6                                  0.000000   \n",
       "7                                  0.071882   \n",
       "8                                  0.087394   \n",
       "9                                  0.000000   \n",
       "\n",
       "   fef7abd5fa9fffabffa5792adb618e0a1537a3f0  \\\n",
       "0                                 17.000000   \n",
       "1                                  0.018889   \n",
       "2                                 11.020000   \n",
       "3                                  0.000000   \n",
       "4                                  0.000000   \n",
       "5                                  0.000000   \n",
       "6                                  0.000000   \n",
       "7                                  0.074203   \n",
       "8                                  0.045037   \n",
       "9                                  0.000000   \n",
       "\n",
       "   ff513d17706b4cada61daefdb194da8079cc1f51  \\\n",
       "0                                  9.000000   \n",
       "1                                  0.004782   \n",
       "2                                 10.180000   \n",
       "3                                  5.000000   \n",
       "4                                  0.005313   \n",
       "5                                  1.000000   \n",
       "6                                  0.001063   \n",
       "7                                  0.073838   \n",
       "8                                  0.061148   \n",
       "9                                  0.000000   \n",
       "\n",
       "   ff5530621968a76a280c82d1ae6e10c4f9e8324c  \\\n",
       "0                                 11.000000   \n",
       "1                                  0.005467   \n",
       "2                                  9.060000   \n",
       "3                                  0.000000   \n",
       "4                                  0.000000   \n",
       "5                                  0.000000   \n",
       "6                                  0.000000   \n",
       "7                                  0.073311   \n",
       "8                                  0.073946   \n",
       "9                                  0.000000   \n",
       "\n",
       "   ffa7abe0749798a06d48f28a0cc45ca4ca5470bb  \\\n",
       "0                                  0.000000   \n",
       "1                                  0.000000   \n",
       "2                                 10.310000   \n",
       "3                                  0.000000   \n",
       "4                                  0.000000   \n",
       "5                                  0.000000   \n",
       "6                                  0.000000   \n",
       "7                                  0.068358   \n",
       "8                                  0.059245   \n",
       "9                                  0.000000   \n",
       "\n",
       "   ffbb5414c0a32f23781e99569f8addcf190edeb0  \\\n",
       "0                                 49.000000   \n",
       "1                                  0.008951   \n",
       "2                                  9.480000   \n",
       "3                                  2.000000   \n",
       "4                                  0.000731   \n",
       "5                                  4.000000   \n",
       "6                                  0.001461   \n",
       "7                                  0.096463   \n",
       "8                                  0.061379   \n",
       "9                                  0.000000   \n",
       "\n",
       "   ffc9556ad614b43948e1d0ec58ea685be124d540  \\\n",
       "0                                 27.000000   \n",
       "1                                  0.008523   \n",
       "2                                  9.570000   \n",
       "3                                  2.000000   \n",
       "4                                  0.001263   \n",
       "5                                  1.000000   \n",
       "6                                  0.000631   \n",
       "7                                  0.075219   \n",
       "8                                  0.063484   \n",
       "9                                  0.000000   \n",
       "\n",
       "   ffe5085e4228287ae26ceedf6da29dea45857341  \\\n",
       "0                                  4.000000   \n",
       "1                                  0.005263   \n",
       "2                                 11.100000   \n",
       "3                                  0.000000   \n",
       "4                                  0.000000   \n",
       "5                                  2.000000   \n",
       "6                                  0.005263   \n",
       "7                                  0.087456   \n",
       "8                                  0.101302   \n",
       "9                                  0.000000   \n",
       "\n",
       "   ffeab4e0a458333a020ffb48526a76e4d3de7da0  \n",
       "0                                 58.000000  \n",
       "1                                  0.009787  \n",
       "2                                  8.950000  \n",
       "3                                  5.000000  \n",
       "4                                  0.001687  \n",
       "5                                  6.000000  \n",
       "6                                  0.002025  \n",
       "7                                  0.099971  \n",
       "8                                  0.069912  \n",
       "9                                  0.000000  \n",
       "\n",
       "[10 rows x 800 columns]"
      ]
     },
     "execution_count": 167,
     "metadata": {},
     "output_type": "execute_result"
    }
   ],
   "source": [
    "dfFake"
   ]
  },
  {
   "cell_type": "code",
   "execution_count": null,
   "metadata": {
    "collapsed": true
   },
   "outputs": [],
   "source": []
  },
  {
   "cell_type": "code",
   "execution_count": 177,
   "metadata": {
    "collapsed": false
   },
   "outputs": [],
   "source": [
    "import seaborn as sns\n",
    "%matplotlib inline\n",
    "\n",
    "\n",
    "#sns.distplot(dfTrue.transpose()[7])"
   ]
  },
  {
   "cell_type": "code",
   "execution_count": 175,
   "metadata": {
    "collapsed": false
   },
   "outputs": [
    {
     "data": {
      "text/plain": [
       "<seaborn.axisgrid.JointGrid at 0x11615e978>"
      ]
     },
     "execution_count": 175,
     "metadata": {},
     "output_type": "execute_result"
    },
    {
     "data": {
      "image/png": "[encoded data removed]",
      "text/plain": [
       "<matplotlib.figure.Figure at 0x11615e9e8>"
      ]
     },
     "metadata": {},
     "output_type": "display_data"
    }
   ],
   "source": [
    "sns.jointplot(dfFake.transpose()[1], dfFake.transpose()[0], kind='hex')"
   ]
  },
  {
   "cell_type": "code",
   "execution_count": 176,
   "metadata": {
    "collapsed": false
   },
   "outputs": [
    {
     "data": {
      "text/plain": [
       "<seaborn.axisgrid.JointGrid at 0x116155a58>"
      ]
     },
     "execution_count": 176,
     "metadata": {},
     "output_type": "execute_result"
    },
    {
     "data": {
      "image/png": "[encoded data removed]",
      "text/plain": [
       "<matplotlib.figure.Figure at 0x1161559e8>"
      ]
     },
     "metadata": {},
     "output_type": "display_data"
    }
   ],
   "source": [
    "sns.jointplot(dfTrue.transpose()[1], dfTrue.transpose()[0], kind='hex')"
   ]
  },
  {
   "cell_type": "code",
   "execution_count": 107,
   "metadata": {
    "collapsed": false
   },
   "outputs": [],
   "source": [
    "result = dfFake.join(dfTrue)"
   ]
  },
  {
   "cell_type": "code",
   "execution_count": 108,
   "metadata": {
    "collapsed": false
   },
   "outputs": [],
   "source": [
    "result = result.transpose()"
   ]
  },
  {
   "cell_type": "code",
   "execution_count": 109,
   "metadata": {
    "collapsed": false
   },
   "outputs": [
    {
     "data": {
      "text/plain": [
       "1346"
      ]
     },
     "execution_count": 109,
     "metadata": {},
     "output_type": "execute_result"
    }
   ],
   "source": [
    "len(result)"
   ]
  },
  {
   "cell_type": "code",
   "execution_count": 110,
   "metadata": {
    "collapsed": false
   },
   "outputs": [],
   "source": [
    "## splitting the data set after doing the shuffling"
   ]
  },
  {
   "cell_type": "code",
   "execution_count": 116,
   "metadata": {
    "collapsed": true
   },
   "outputs": [],
   "source": [
    "def split_training_testing_and_validation(joinedDataFrame):\n",
    "    ## shuffles and splits to train validation and test\n",
    "    ## note: [int(.7*len(df)), int(.8*len(df))] are: indices_or_sections array for numpy.split()\n",
    "\n",
    "    train, validate, test = np.split(joinedDataFrame.sample(frac=1),\n",
    "                                         [int(.7 * len(joinedDataFrame)), int(.8 * len(joinedDataFrame))])\n",
    "\n",
    "    print('returning: @ 0 = training set, @ 1 = testing set, @ 2 = validation set')\n",
    "    return [train, test, validate]\n"
   ]
  },
  {
   "cell_type": "code",
   "execution_count": 118,
   "metadata": {
    "collapsed": false
   },
   "outputs": [
    {
     "name": "stdout",
     "output_type": "stream",
     "text": [
      "returning: @ 0 = training set, @ 1 = testing set, @ 2 = validation set\n"
     ]
    }
   ],
   "source": [
    "data = split_training_testing_and_validation(result)"
   ]
  },
  {
   "cell_type": "code",
   "execution_count": null,
   "metadata": {
    "collapsed": false
   },
   "outputs": [],
   "source": [
    "## training split to X and Y"
   ]
  },
  {
   "cell_type": "code",
   "execution_count": 135,
   "metadata": {
    "collapsed": false
   },
   "outputs": [],
   "source": [
    "trainingX = data[0].ix[:,0:8]"
   ]
  },
  {
   "cell_type": "code",
   "execution_count": 136,
   "metadata": {
    "collapsed": false
   },
   "outputs": [],
   "source": [
    "trainingY = data[0].ix[:,9]"
   ]
  },
  {
   "cell_type": "code",
   "execution_count": 138,
   "metadata": {
    "collapsed": false
   },
   "outputs": [],
   "source": [
    "## testing split to X and Y"
   ]
  },
  {
   "cell_type": "code",
   "execution_count": 139,
   "metadata": {
    "collapsed": true
   },
   "outputs": [],
   "source": [
    "### testing my own class TrainAndPredict"
   ]
  },
  {
   "cell_type": "code",
   "execution_count": 140,
   "metadata": {
    "collapsed": false
   },
   "outputs": [
    {
     "name": "stderr",
     "output_type": "stream",
     "text": [
      "/Users/Pipjak/anaconda/envs/py36/lib/python3.6/site-packages/sklearn/cross_validation.py:44: DeprecationWarning: This module was deprecated in version 0.18 in favor of the model_selection module into which all the refactored classes and functions are moved. Also note that the interface of the new CV iterators are different from that of this module. This module will be removed in 0.20.\n",
      "  \"This module will be removed in 0.20.\", DeprecationWarning)\n",
      "/Users/Pipjak/anaconda/envs/py36/lib/python3.6/site-packages/sklearn/grid_search.py:43: DeprecationWarning: This module was deprecated in version 0.18 in favor of the model_selection module into which all the refactored classes and functions are moved. This module will be removed in 0.20.\n",
      "  DeprecationWarning)\n"
     ]
    }
   ],
   "source": [
    "import numpy as np\n",
    "import pandas as pd\n",
    "\n",
    "from sklearn.ensemble import AdaBoostClassifier\n",
    "from sklearn.metrics import accuracy_score\n",
    "from sklearn.tree import DecisionTreeClassifier\n",
    "from sklearn.metrics import f1_score\n",
    "from sklearn.grid_search import GridSearchCV\n",
    "from sklearn.cross_validation import train_test_split\n",
    "import six.moves.cPickle as cPickle\n",
    "\n",
    "\n",
    "\n",
    "\n",
    "class TrainAndPredict:\n",
    "\n",
    "    # FIELDS\n",
    "    # models I have already implemented\n",
    "    __models = ['AdaBoost']\n",
    "    # numeric fake keeps the numeric data for fake news\n",
    "    __numericFake = {}\n",
    "\n",
    "    # numeric true keeps the numeric data for true news\n",
    "    __numericTrue = {}\n",
    "\n",
    "    __modelName = ''\n",
    "\n",
    "    # CONSTRUCTOR\n",
    "    # at this stage you are picking up the Ada Boost\n",
    "    def __init__(self, numericFake, numericTrue, modelName = 'AdaBoost'):\n",
    "        if (type(numericFake) == dict) and (type(numericTrue) == dict):\n",
    "\n",
    "            ## you add a class true/fake as 1/0\n",
    "            self.__addClassOfNewsToData(numericFake, fake=True)\n",
    "            self.__addClassOfNewsToData(numericTrue, fake=False)\n",
    "\n",
    "            self.__numericFake = numericFake\n",
    "            self.__numericTrue = numericTrue\n",
    "\n",
    "            self.__modelName = modelName\n",
    "        else:\n",
    "            raise ValueError\n",
    "\n",
    "    # HELPFUL METHODS\n",
    "\n",
    "    ## this function adds a class (fakeNews = 0 or trueNews = 1)\n",
    "    def __addClassOfNewsToData(self, dictionary, fake):\n",
    "        if fake:\n",
    "            for key in dictionary.keys():\n",
    "                dictionary[key].append(0)\n",
    "        else:\n",
    "            for key in dictionary.keys():\n",
    "                dictionary[key].append(1)\n",
    "\n",
    "    ## create the data frames to use in predictions\n",
    "    def __createDataFrames(self):\n",
    "        trueDf = pd.DataFrame(self.__numericTrue)\n",
    "        fakeDf = pd.DataFrame(self.__numericFake)\n",
    "\n",
    "        return trueDf.join(fakeDf).transpose()\n",
    "\n",
    "    ## this function splits data into training and testing set\n",
    "    def __split_training_testing_and_validation(self, joinedDataFrame):\n",
    "        ## shuffles and splits to train validation and test\n",
    "        ## note: [int(.7*len(df)), int(.8*len(df))] are: indices_or_sections array for numpy.split()\n",
    "\n",
    "        train, validate, test = np.split(joinedDataFrame.sample(frac=1),\n",
    "                                         [int(.7 * len(joinedDataFrame)), int(.8 * len(joinedDataFrame))])\n",
    "\n",
    "        print('returning: @ 0 = training set, @ 1 = testing set, @ 2 = validation set')\n",
    "        return [train, test, validate]\n",
    "\n",
    "    # ADA-BOOSTed classifier WITH grid search\n",
    "    def __ada_function_specific(self, data_train, y_train, data_test, y_test, data_valid, y_valid):\n",
    "        name = self.__modelName + '_ADA_MODEL'\n",
    "        # Ada-Boost grid search\n",
    "        param_grid = {\"base_estimator__criterion\": [\"gini\", \"entropy\"],\n",
    "                          \"base_estimator__splitter\": [\"best\", \"random\"],\n",
    "                          \"n_estimators\": [150]}\n",
    "\n",
    "        DTC = DecisionTreeClassifier(random_state=11, max_features=\"auto\", class_weight=\"auto\", max_depth=None)\n",
    "        ABC = AdaBoostClassifier(base_estimator=DTC, n_estimators=150,\n",
    "                                     learning_rate=1.5,\n",
    "                                     algorithm=\"SAMME\")\n",
    "\n",
    "        grid_search_ABC = GridSearchCV(ABC, param_grid=param_grid, scoring='accuracy', n_jobs=-1)\n",
    "        griddi = grid_search_ABC.fit(data_train, y_train)\n",
    "\n",
    "        # Save the grid searched model as the \"name\".pkl\n",
    "        print('saving the model as: ' + name + '.pkl')\n",
    "        with open(name, 'wb') as fid:\n",
    "            cPickle.dump(griddi, fid)\n",
    "\n",
    "        # Print accuracy scores and return the model\n",
    "        print(\"Test set accuracy score for the model \" + name + \" is \" + \\\n",
    "                str(accuracy_score(y_test, griddi.predict(data_test))))\n",
    "        print(\"Validation set accuracy score for the model \" + name + \" is \" + \\\n",
    "                  str(accuracy_score(y_valid, griddi.predict(data_valid))))\n",
    "        return griddi\n",
    "\n",
    "    def trainModel(self, modelName):\n",
    "        if type(modelName) == str:\n",
    "            if modelName == 'AdaBoost':\n",
    "                fullDataFrame = self.__createDataFrames()\n",
    "                splitData = self.__split_training_testing_and_validation(fullDataFrame)\n",
    "\n",
    "                ## picking up training, testing and validation\n",
    "                trainX = splitData[0].ix[:, 0:8]\n",
    "                trainY = splitData[0].ix[:, 9]\n",
    "                \n",
    "                testX = splitData[1].ix[:, 0:8]\n",
    "                testY = splitData[1].ix[:, 9]\n",
    "                \n",
    "                validationX = splitData[2].ix[:, 0:8]\n",
    "                validationY = splitData[2].ix[:, 9]\n",
    "\n",
    "                print('start grid-search for ada - boost')\n",
    "                model = self.__ada_function_specific(trainX, trainY, testX, testY, \n",
    "                                                     validationX, validationY)\n",
    "\n",
    "                print('ada - boost grid search finished')\n",
    "\n",
    "\n",
    "            else:\n",
    "                print('the requested model ' + modelName + ' is not supported')\n",
    "        else:\n",
    "            raise ValueError\n",
    "    \n",
    "    ## this function predicts\n",
    "    def predict(self, text):\n",
    "        pass"
   ]
  },
  {
   "cell_type": "code",
   "execution_count": 148,
   "metadata": {
    "collapsed": true
   },
   "outputs": [],
   "source": [
    "smallModel = TrainAndPredict(numericFake, numericTrue, 'AdaBoost')"
   ]
  },
  {
   "cell_type": "code",
   "execution_count": 149,
   "metadata": {
    "collapsed": false
   },
   "outputs": [
    {
     "name": "stdout",
     "output_type": "stream",
     "text": [
      "returning: @ 0 = training set, @ 1 = testing set, @ 2 = validation set\n",
      "start grid-search for ada - boost\n"
     ]
    },
    {
     "name": "stderr",
     "output_type": "stream",
     "text": [
      "/Users/Pipjak/anaconda/envs/py36/lib/python3.6/site-packages/sklearn/utils/class_weight.py:65: DeprecationWarning: The class_weight='auto' heuristic is deprecated in 0.17 in favor of a new heuristic class_weight='balanced'. 'auto' will be removed in 0.19\n",
      "  \" 0.19\", DeprecationWarning)\n",
      "/Users/Pipjak/anaconda/envs/py36/lib/python3.6/site-packages/sklearn/utils/class_weight.py:65: DeprecationWarning: The class_weight='auto' heuristic is deprecated in 0.17 in favor of a new heuristic class_weight='balanced'. 'auto' will be removed in 0.19\n",
      "  \" 0.19\", DeprecationWarning)\n",
      "/Users/Pipjak/anaconda/envs/py36/lib/python3.6/site-packages/sklearn/utils/class_weight.py:65: DeprecationWarning: The class_weight='auto' heuristic is deprecated in 0.17 in favor of a new heuristic class_weight='balanced'. 'auto' will be removed in 0.19\n",
      "  \" 0.19\", DeprecationWarning)\n",
      "/Users/Pipjak/anaconda/envs/py36/lib/python3.6/site-packages/sklearn/utils/class_weight.py:65: DeprecationWarning: The class_weight='auto' heuristic is deprecated in 0.17 in favor of a new heuristic class_weight='balanced'. 'auto' will be removed in 0.19\n",
      "  \" 0.19\", DeprecationWarning)\n",
      "/Users/Pipjak/anaconda/envs/py36/lib/python3.6/site-packages/sklearn/utils/class_weight.py:65: DeprecationWarning: The class_weight='auto' heuristic is deprecated in 0.17 in favor of a new heuristic class_weight='balanced'. 'auto' will be removed in 0.19\n",
      "  \" 0.19\", DeprecationWarning)\n",
      "/Users/Pipjak/anaconda/envs/py36/lib/python3.6/site-packages/sklearn/utils/class_weight.py:65: DeprecationWarning: The class_weight='auto' heuristic is deprecated in 0.17 in favor of a new heuristic class_weight='balanced'. 'auto' will be removed in 0.19\n",
      "  \" 0.19\", DeprecationWarning)\n",
      "/Users/Pipjak/anaconda/envs/py36/lib/python3.6/site-packages/sklearn/utils/class_weight.py:65: DeprecationWarning: The class_weight='auto' heuristic is deprecated in 0.17 in favor of a new heuristic class_weight='balanced'. 'auto' will be removed in 0.19\n",
      "  \" 0.19\", DeprecationWarning)\n",
      "/Users/Pipjak/anaconda/envs/py36/lib/python3.6/site-packages/sklearn/utils/class_weight.py:65: DeprecationWarning: The class_weight='auto' heuristic is deprecated in 0.17 in favor of a new heuristic class_weight='balanced'. 'auto' will be removed in 0.19\n",
      "  \" 0.19\", DeprecationWarning)\n",
      "/Users/Pipjak/anaconda/envs/py36/lib/python3.6/site-packages/sklearn/utils/class_weight.py:65: DeprecationWarning: The class_weight='auto' heuristic is deprecated in 0.17 in favor of a new heuristic class_weight='balanced'. 'auto' will be removed in 0.19\n",
      "  \" 0.19\", DeprecationWarning)\n",
      "/Users/Pipjak/anaconda/envs/py36/lib/python3.6/site-packages/sklearn/utils/class_weight.py:65: DeprecationWarning: The class_weight='auto' heuristic is deprecated in 0.17 in favor of a new heuristic class_weight='balanced'. 'auto' will be removed in 0.19\n",
      "  \" 0.19\", DeprecationWarning)\n",
      "/Users/Pipjak/anaconda/envs/py36/lib/python3.6/site-packages/sklearn/utils/class_weight.py:65: DeprecationWarning: The class_weight='auto' heuristic is deprecated in 0.17 in favor of a new heuristic class_weight='balanced'. 'auto' will be removed in 0.19\n",
      "  \" 0.19\", DeprecationWarning)\n",
      "/Users/Pipjak/anaconda/envs/py36/lib/python3.6/site-packages/sklearn/utils/class_weight.py:65: DeprecationWarning: The class_weight='auto' heuristic is deprecated in 0.17 in favor of a new heuristic class_weight='balanced'. 'auto' will be removed in 0.19\n",
      "  \" 0.19\", DeprecationWarning)\n"
     ]
    },
    {
     "name": "stdout",
     "output_type": "stream",
     "text": [
      "saving the model as: AdaBoost_ADA_MODEL.pkl\n",
      "Test set accuracy score for the model AdaBoost_ADA_MODEL is 0.796296296296\n",
      "Validation set accuracy score for the model AdaBoost_ADA_MODEL is 0.791044776119\n",
      "ada - boost grid search finished\n"
     ]
    },
    {
     "name": "stderr",
     "output_type": "stream",
     "text": [
      "/Users/Pipjak/anaconda/envs/py36/lib/python3.6/site-packages/sklearn/utils/class_weight.py:65: DeprecationWarning: The class_weight='auto' heuristic is deprecated in 0.17 in favor of a new heuristic class_weight='balanced'. 'auto' will be removed in 0.19\n",
      "  \" 0.19\", DeprecationWarning)\n"
     ]
    }
   ],
   "source": [
    "smallModel.trainModel('AdaBoost')"
   ]
  },
  {
   "cell_type": "code",
   "execution_count": 154,
   "metadata": {
    "collapsed": false
   },
   "outputs": [],
   "source": [
    "with open('AdaBoost_ADA_MODEL', 'rb') as handle:\n",
    "    model = pickle.load(handle)"
   ]
  },
  {
   "cell_type": "code",
   "execution_count": 180,
   "metadata": {
    "collapsed": false
   },
   "outputs": [
    {
     "data": {
      "text/plain": [
       "{'cv': None,\n",
       " 'error_score': 'raise',\n",
       " 'estimator': AdaBoostClassifier(algorithm='SAMME',\n",
       "           base_estimator=DecisionTreeClassifier(class_weight='auto', criterion='gini', max_depth=None,\n",
       "             max_features='auto', max_leaf_nodes=None,\n",
       "             min_impurity_split=1e-07, min_samples_leaf=1,\n",
       "             min_samples_split=2, min_weight_fraction_leaf=0.0,\n",
       "             presort=False, random_state=11, splitter='best'),\n",
       "           learning_rate=1.5, n_estimators=150, random_state=None),\n",
       " 'estimator__algorithm': 'SAMME',\n",
       " 'estimator__base_estimator': DecisionTreeClassifier(class_weight='auto', criterion='gini', max_depth=None,\n",
       "             max_features='auto', max_leaf_nodes=None,\n",
       "             min_impurity_split=1e-07, min_samples_leaf=1,\n",
       "             min_samples_split=2, min_weight_fraction_leaf=0.0,\n",
       "             presort=False, random_state=11, splitter='best'),\n",
       " 'estimator__base_estimator__class_weight': 'auto',\n",
       " 'estimator__base_estimator__criterion': 'gini',\n",
       " 'estimator__base_estimator__max_depth': None,\n",
       " 'estimator__base_estimator__max_features': 'auto',\n",
       " 'estimator__base_estimator__max_leaf_nodes': None,\n",
       " 'estimator__base_estimator__min_impurity_split': 1e-07,\n",
       " 'estimator__base_estimator__min_samples_leaf': 1,\n",
       " 'estimator__base_estimator__min_samples_split': 2,\n",
       " 'estimator__base_estimator__min_weight_fraction_leaf': 0.0,\n",
       " 'estimator__base_estimator__presort': False,\n",
       " 'estimator__base_estimator__random_state': 11,\n",
       " 'estimator__base_estimator__splitter': 'best',\n",
       " 'estimator__learning_rate': 1.5,\n",
       " 'estimator__n_estimators': 150,\n",
       " 'estimator__random_state': None,\n",
       " 'fit_params': {},\n",
       " 'iid': True,\n",
       " 'n_jobs': -1,\n",
       " 'param_grid': {'base_estimator__criterion': ['gini', 'entropy'],\n",
       "  'base_estimator__splitter': ['best', 'random'],\n",
       "  'n_estimators': [150]},\n",
       " 'pre_dispatch': '2*n_jobs',\n",
       " 'refit': True,\n",
       " 'scoring': 'accuracy',\n",
       " 'verbose': 0}"
      ]
     },
     "execution_count": 180,
     "metadata": {},
     "output_type": "execute_result"
    }
   ],
   "source": [
    "model.get_params()"
   ]
  },
  {
   "cell_type": "code",
   "execution_count": null,
   "metadata": {
    "collapsed": true
   },
   "outputs": [],
   "source": []
  },
  {
   "cell_type": "code",
   "execution_count": 182,
   "metadata": {
    "collapsed": true
   },
   "outputs": [],
   "source": [
    "## ok lets train the model on large data set"
   ]
  },
  {
   "cell_type": "code",
   "execution_count": null,
   "metadata": {
    "collapsed": false
   },
   "outputs": [],
   "source": []
  },
  {
   "cell_type": "code",
   "execution_count": null,
   "metadata": {
    "collapsed": true
   },
   "outputs": [],
   "source": []
  },
  {
   "cell_type": "code",
   "execution_count": null,
   "metadata": {
    "collapsed": true
   },
   "outputs": [],
   "source": []
  },
  {
   "cell_type": "code",
   "execution_count": null,
   "metadata": {
    "collapsed": true
   },
   "outputs": [],
   "source": []
  }
 ],
 "metadata": {
  "kernelspec": {
   "display_name": "Python 3",
   "language": "python",
   "name": "python3"
  },
  "language_info": {
   "codemirror_mode": {
    "name": "ipython",
    "version": 3
   },
   "file_extension": ".py",
   "mimetype": "text/x-python",
   "name": "python",
   "nbconvert_exporter": "python",
   "pygments_lexer": "ipython3",
   "version": "3.6.0"
  }
 },
 "nbformat": 4,
 "nbformat_minor": 2
}
