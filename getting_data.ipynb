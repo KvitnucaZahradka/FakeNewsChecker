{
 "cells": [
  {
   "cell_type": "code",
   "execution_count": 1,
   "metadata": {
    "collapsed": true
   },
   "outputs": [],
   "source": [
    "from bs4 import BeautifulSoup as bs"
   ]
  },
  {
   "cell_type": "code",
   "execution_count": 18,
   "metadata": {
    "collapsed": false
   },
   "outputs": [],
   "source": [
    "import urllib\n",
    "import feedparser\n",
    "import pickle"
   ]
  },
  {
   "cell_type": "code",
   "execution_count": null,
   "metadata": {
    "collapsed": true
   },
   "outputs": [],
   "source": [
    ""
   ]
  },
  {
   "cell_type": "code",
   "execution_count": null,
   "metadata": {
    "collapsed": true
   },
   "outputs": [],
   "source": [
    "## querying the nyt data\n",
    "\n",
    "https://api.nytimes.com/svc/books/v3/lists/overview.json?api-key=<your-api-key>\n",
    "http://api.nytimes.com/svc/search/v1/article?format=json&query=smoking&api-key=####"
   ]
  },
  {
   "cell_type": "code",
   "execution_count": 96,
   "metadata": {
    "collapsed": false
   },
   "outputs": [],
   "source": [
    "def getArticles(date, api_key, json_file_path):\n",
    "    # LOOP THROUGH THE 101 PAGES NYTIMES ALLOWS FOR THAT DATE\n",
    "    for page in range(101):\n",
    "        try:\n",
    "            request_string = \"http://api.nytimes.com/svc/search/v2/articlesearch.json?begin_date=\" + date + \"&end_date=\" + date + \"&page=\" + str(page) + \"&api-key=\" + api_key\n",
    "            response = urllib.urlopen(request_string)\n",
    "            content = response.read()\n",
    "            if content:\n",
    "                articles = convert(json.loads(content))\n",
    "                # if there are articles here\n",
    "                if len(articles[\"response\"][\"docs\"]) >= 1:\n",
    "                    json_file_name = getJsonFileName(date, page, json_file_path)\n",
    "                    json_file = open(json_file_name, 'w')\n",
    "                    json_file.write(content)\n",
    "                    json_file.close()\n",
    "                # if no more articles, go to next date\n",
    "                else:\n",
    "                    return\n",
    "            # else:\n",
    "            #     break\n",
    "            time.sleep(3)\n",
    "        except HTTPError as e:\n",
    "            logging.error(\"HTTPError on page %s on %s (err no. %s: %s) Here's the URL of the call: %s\", page, date, e.code, e.reason, request_string)\n",
    "        except: \n",
    "            logging.error(\"Error on %s page %s: %s\", date, file_number, sys.exc_info()[0])\n",
    "            continue"
   ]
  },
  {
   "cell_type": "code",
   "execution_count": null,
   "metadata": {
    "collapsed": false
   },
   "outputs": [],
   "source": [
    ""
   ]
  },
  {
   "cell_type": "code",
   "execution_count": 45,
   "metadata": {
    "collapsed": false
   },
   "outputs": [],
   "source": [
    "import urllib\n",
    "import json\n",
    "import datetime\n",
    "import time\n",
    "import sys\n",
    "import argparse\n",
    "import logging\n",
    "\n",
    "\n",
    "# helper function to iterate through dates\n",
    "def daterange( start_date, end_date ):\n",
    "    if start_date <= end_date:\n",
    "        for n in range( ( end_date - start_date ).days + 1 ):\n",
    "            yield start_date + datetime.timedelta( n )\n",
    "    else:\n",
    "        for n in range( ( start_date - end_date ).days + 1 ):\n",
    "            yield start_date - datetime.timedelta( n )\n",
    " \n",
    "# helper function to get json into a form I can work with       \n",
    "def convert(input):\n",
    "    if isinstance(input, dict):\n",
    "        return {convert(key): convert(value) for key, value in input.iteritems()}\n",
    "    elif isinstance(input, list):\n",
    "        return [convert(element) for element in input]\n",
    "    elif isinstance(input, unicode):\n",
    "        return input.encode('utf-8')\n",
    "    else:\n",
    "        return input\n",
    " \n",
    "# helpful function to figure out what to name individual JSON files        \n",
    "def getJsonFileName(date, page, json_file_path):\n",
    "    json_file_name = \".\".join([date,str(page),'json'])\n",
    "    json_file_name = \"\".join([json_file_path,json_file_name])\n",
    "    return json_file_name\n",
    " \n",
    "# helpful function for processing keywords, mostly    \n",
    "def getMultiples(items, key):\n",
    "    values_list = \"\"\n",
    "    if len(items) > 0:\n",
    "        num_keys = 0\n",
    "        for item in items:\n",
    "            if num_keys == 0:\n",
    "                values_list = item[key]                \n",
    "            else:\n",
    "                values_list =  \"; \".join([values_list,item[key]])\n",
    "            num_keys += 1\n",
    "    return values_list\n",
    " \n",
    "# get the articles from the NYTimes Article API\n",
    "\n",
    "def getArticles(date, api_key, json_file_path):\n",
    "    # LOOP THROUGH THE 101 PAGES NYTIMES ALLOWS FOR THAT DATE\n",
    "    for page in range(101):\n",
    "        try:\n",
    "            request_string = \"http://api.nytimes.com/svc/search/v2/articlesearch.json?begin_date=\" + date + \"&end_date=\" + date + \"&page=\" + str(page) + \"&api-key=\" + api_key\n",
    "            response = urllib.request.urlopen(request_string)\n",
    "            content = response.read()\n",
    "            if content:\n",
    "                articles = convert(json.loads(content))\n",
    "                # if there are articles here\n",
    "                if len(articles[\"response\"][\"docs\"]) >= 1:\n",
    "                    json_file_name = getJsonFileName(date, page, json_file_path)\n",
    "                    json_file = open(json_file_name, 'w')\n",
    "                    json_file.write(content)\n",
    "                    json_file.close()\n",
    "                # if no more articles, go to next date\n",
    "                else:\n",
    "                    return\n",
    "            # else:\n",
    "            #     break\n",
    "            time.sleep(3)\n",
    "        except HTTPError as e:\n",
    "            logging.error(\"HTTPError on page %s on %s (err no. %s: %s) Here's the URL of the call: %s\", page, date, e.code, e.reason, request_string)\n",
    "        except: \n",
    "            logging.error(\"Error on %s page %s: %s\", date, file_number, sys.exc_info()[0])\n",
    "            continue\n",
    " \n",
    "# parse the JSON files you stored into a tab-delimited file\n",
    "def parseArticles(date, csv_file_name, json_file_path):\n",
    "    for file_number in range(101):\n",
    "        # get the articles and put them into a dictionary\n",
    "        try:\n",
    "            file_name = getJsonFileName(date,file_number, json_file_path)\n",
    "            in_file = open(file_name, 'r')\n",
    "            articles = convert(json.loads(in_file.read()))\n",
    "            in_file.close()\n",
    "        except IOError as e:\n",
    "            logging.error(\"IOError in %s page %s: %s %s\", date, file_number, e.errno, e.strerror)\n",
    "            continue\n",
    " \n",
    "        # if there are articles in that document, parse them\n",
    "        if len(articles[\"response\"][\"docs\"]) >= 1:  \n",
    "            # open the CSV for appending\n",
    "            try:\n",
    "                out_file = open(csv_file_name, 'ab')\n",
    "            except IOError as e:\n",
    "                logging.error(\"IOError: %s %s\", date, file_number, e.errno, e.strerror)\n",
    "                continue\n",
    " \n",
    "            # loop through the articles putting what we need in a CSV   \n",
    "            try:\n",
    "                for article in articles[\"response\"][\"docs\"]:\n",
    "                    # if (article[\"source\"] == \"The New York Times\" and article[\"document_type\"] == \"article\"):\n",
    "                    keywords = \"\"\n",
    "                    keywords = getMultiples(article[\"keywords\"],\"value\")\n",
    " \n",
    "                    # should probably pull these if/else checks into a module\n",
    "                    variables = [\n",
    "                        article[\"pub_date\"], \n",
    "                        keywords, \n",
    "                        str(article[\"headline\"][\"main\"]).decode(\"utf8\").replace(\"\\n\",\"\") if \"main\" in article[\"headline\"].keys() else \"\", \n",
    "                        str(article[\"source\"]).decode(\"utf8\") if \"source\" in article.keys() else \"\", \n",
    "                        str(article[\"document_type\"]).decode(\"utf8\") if \"document_type\" in article.keys() else \"\", \n",
    "                        article[\"web_url\"] if \"web_url\" in article.keys() else \"\",\n",
    "                        str(article[\"news_desk\"]).decode(\"utf8\") if \"news_desk\" in article.keys() else \"\",\n",
    "                        str(article[\"section_name\"]).decode(\"utf8\") if \"section_name\" in article.keys() else \"\",\n",
    "                        str(article[\"snippet\"]).decode(\"utf8\").replace(\"\\n\",\"\") if \"snippet\" in article.keys() else \"\",\n",
    "                        str(article[\"lead_paragraph\"]).decode(\"utf8\").replace(\"\\n\",\"\") if \"lead_paragraph\" in article.keys() else \"\",\n",
    "                        ]\n",
    "                    line = \"\\t\".join(variables)\n",
    "                    out_file.write(line.encode(\"utf8\")+\"\\n\")\n",
    "            except KeyError as e:\n",
    "                logging.error(\"KeyError in %s page %s: %s %s\", date, file_number, e.errno, e.strerror)\n",
    "                continue\n",
    "            except (KeyboardInterrupt, SystemExit):\n",
    "                raise\n",
    "            except: \n",
    "                logging.error(\"Error on %s page %s: %s\", date, file_number, sys.exc_info()[0])\n",
    "                continue\n",
    " \n",
    "            out_file.close()\n",
    "        else:\n",
    "            break"
   ]
  },
  {
   "cell_type": "code",
   "execution_count": 42,
   "metadata": {
    "collapsed": false
   },
   "outputs": [],
   "source": [
    "import urllib\n",
    "import json\n",
    "import datetime\n",
    "import time\n",
    "import sys\n",
    "import argparse\n",
    "import logging\n",
    " \n",
    "# helper function to iterate through dates\n",
    "def daterange( start_date, end_date ):\n",
    "    if start_date <= end_date:\n",
    "        for n in range( ( end_date - start_date ).days + 1 ):\n",
    "            yield start_date + datetime.timedelta( n )\n",
    "    else:\n",
    "        for n in range( ( start_date - end_date ).days + 1 ):\n",
    "            yield start_date - datetime.timedelta( n )\n",
    " \n",
    "# helper function to get json into a form I can work with       \n",
    "def convert(input):\n",
    "    if isinstance(input, dict):\n",
    "        return {convert(key): convert(value) for key, value in input.iteritems()}\n",
    "    elif isinstance(input, list):\n",
    "        return [convert(element) for element in input]\n",
    "    elif isinstance(input, unicode):\n",
    "        return input.encode('utf-8')\n",
    "    else:\n",
    "        return input\n",
    " \n",
    "# helpful function to figure out what to name individual JSON files        \n",
    "def getJsonFileName(date, page, json_file_path):\n",
    "    json_file_name = \".\".join([date,str(page),'json'])\n",
    "    json_file_name = \"\".join([json_file_path,json_file_name])\n",
    "    return json_file_name\n",
    " \n",
    "# helpful function for processing keywords, mostly    \n",
    "def getMultiples(items, key):\n",
    "    values_list = \"\"\n",
    "    if len(items) > 0:\n",
    "        num_keys = 0\n",
    "        for item in items:\n",
    "            if num_keys == 0:\n",
    "                values_list = item[key]                \n",
    "            else:\n",
    "                values_list =  \"; \".join([values_list,item[key]])\n",
    "            num_keys += 1\n",
    "    return values_list\n",
    " \n",
    "# get the articles from the NYTimes Article API    \n",
    "def getArticles(date, api_key, json_file_path):\n",
    "    # LOOP THROUGH THE 101 PAGES NYTIMES ALLOWS FOR THAT DATE\n",
    "    for page in range(101):\n",
    "        try:\n",
    "            request_string = \"http://api.nytimes.com/svc/search/v2/articlesearch.json?begin_date=\" + date + \"&end_date=\" + date + \"&page=\" + str(page) + \"&api-key=\" + api_key\n",
    "            response = urllib.urlopen(request_string)\n",
    "            content = response.read()\n",
    "            if content:\n",
    "                \n",
    "                articles = convert(json.loads(content))\n",
    "                # if there are articles here\n",
    "                if len(articles[\"response\"][\"docs\"]) >= 1:\n",
    "                    json_file_name = getJsonFileName(date, page, json_file_path)\n",
    "                    json_file = open(json_file_name, 'w')\n",
    "                    json_file.write(content)\n",
    "                    json_file.close()\n",
    "                # if no more articles, go to next date\n",
    "                else:\n",
    "                    return\n",
    "            # else:\n",
    "            #     break\n",
    "            time.sleep(3)\n",
    "        except HTTPError as e:\n",
    "            logging.error(\"HTTPError on page %s on %s (err no. %s: %s) Here's the URL of the call: %s\", page, date, e.code, e.reason, request_string)\n",
    "        except: \n",
    "            logging.error(\"Error on %s page %s: %s\", date, file_number, sys.exc_info()[0])\n",
    "            continue\n",
    " \n",
    "# parse the JSON files you stored into a tab-delimited file\n",
    "def parseArticles(date, csv_file_name, json_file_path):\n",
    "    for file_number in range(101):\n",
    "        # get the articles and put them into a dictionary\n",
    "        try:\n",
    "            file_name = getJsonFileName(date,file_number, json_file_path)\n",
    "            in_file = open(file_name, 'r')\n",
    "            articles = convert(json.loads(in_file.read()))\n",
    "            in_file.close()\n",
    "        except IOError as e:\n",
    "            logging.error(\"IOError in %s page %s: %s %s\", date, file_number, e.errno, e.strerror)\n",
    "            continue\n",
    " \n",
    "        # if there are articles in that document, parse them\n",
    "        if len(articles[\"response\"][\"docs\"]) >= 1:  \n",
    "            # open the CSV for appending\n",
    "            try:\n",
    "                out_file = open(csv_file_name, 'ab')\n",
    "            except IOError as e:\n",
    "                logging.error(\"IOError: %s %s\", date, file_number, e.errno, e.strerror)\n",
    "                continue\n",
    " \n",
    "            # loop through the articles putting what we need in a CSV   \n",
    "            try:\n",
    "                for article in articles[\"response\"][\"docs\"]:\n",
    "                    # if (article[\"source\"] == \"The New York Times\" and article[\"document_type\"] == \"article\"):\n",
    "                    keywords = \"\"\n",
    "                    keywords = getMultiples(article[\"keywords\"],\"value\")\n",
    " \n",
    "                    # should probably pull these if/else checks into a module\n",
    "                    variables = [\n",
    "                        article[\"pub_date\"], \n",
    "                        keywords, \n",
    "                        str(article[\"headline\"][\"main\"]).decode(\"utf8\").replace(\"\\n\",\"\") if \"main\" in article[\"headline\"].keys() else \"\", \n",
    "                        str(article[\"source\"]).decode(\"utf8\") if \"source\" in article.keys() else \"\", \n",
    "                        str(article[\"document_type\"]).decode(\"utf8\") if \"document_type\" in article.keys() else \"\", \n",
    "                        article[\"web_url\"] if \"web_url\" in article.keys() else \"\",\n",
    "                        str(article[\"news_desk\"]).decode(\"utf8\") if \"news_desk\" in article.keys() else \"\",\n",
    "                        str(article[\"section_name\"]).decode(\"utf8\") if \"section_name\" in article.keys() else \"\",\n",
    "                        str(article[\"snippet\"]).decode(\"utf8\").replace(\"\\n\",\"\") if \"snippet\" in article.keys() else \"\",\n",
    "                        str(article[\"lead_paragraph\"]).decode(\"utf8\").replace(\"\\n\",\"\") if \"lead_paragraph\" in article.keys() else \"\",\n",
    "                        ]\n",
    "                    line = \"\\t\".join(variables)\n",
    "                    out_file.write(line.encode(\"utf8\")+\"\\n\")\n",
    "            except KeyError as e:\n",
    "                logging.error(\"KeyError in %s page %s: %s %s\", date, file_number, e.errno, e.strerror)\n",
    "                continue\n",
    "            except (KeyboardInterrupt, SystemExit):\n",
    "                raise\n",
    "            except: \n",
    "                logging.error(\"Error on %s page %s: %s\", date, file_number, sys.exc_info()[0])\n",
    "                continue\n",
    " \n",
    "            out_file.close()\n",
    "        else:\n",
    "            break\n",
    " \n",
    "# Main function where stuff gets done\n",
    " \n",
    "def main():\n",
    "    parser = argparse.ArgumentParser(description=\"A Python tool for grabbing data from the New York Times Article API.\")\n",
    "    parser.add_argument('-j','--json', required=True, help=\"path to the folder where you want the JSON files stored\")\n",
    "    parser.add_argument('-c','--csv', required=True, help=\"path to the file where you want the CSV file stored\")\n",
    "    parser.add_argument('-k','--key', required=True, help=\"your NY Times Article API key\")\n",
    "    # parser.add_argument('-s','--start-date', required=True, help=\"start date for collecting articles\")\n",
    "    # parser.add_argument('-e','--end-date', required=True, help=\"end date for collecting articles\")\n",
    "    args = parser.parse_args()\n",
    " \n",
    "    json_file_path = args.json\n",
    "    csv_file_name = args.csv\n",
    "    api_key = args.key    \n",
    "    start = datetime.date( year = 2013, month = 1, day = 1 )\n",
    "    end = datetime.date( year = 2013, month = 1, day = 1 )\n",
    "    log_file = \"\".join([json_file_path,\"getTimesArticles_testing.log\"])\n",
    "    logging.basicConfig(filename=log_file, level=logging.INFO)\n",
    " \n",
    "    logging.info(\"Getting started.\") \n",
    "    try:\n",
    "        # LOOP THROUGH THE SPECIFIED DATES\n",
    "        for date in daterange( start, end ):\n",
    "            date = date.strftime(\"%Y%m%d\")\n",
    "            logging.info(\"Working on %s.\" % date)\n",
    "            getArticles(date, api_key, json_file_path)\n",
    "            parseArticles(date, csv_file_name, json_file_path)\n",
    "    except:\n",
    "        logging.error(\"Unexpected error: %s\", str(sys.exc_info()[0]))\n",
    "    finally:\n",
    "        logging.info(\"Finished.\")\n",
    " \n",
    "if __name__ == '__main__' :\n",
    "    main()"
   ]
  },
  {
   "cell_type": "code",
   "execution_count": null,
   "metadata": {
    "collapsed": true
   },
   "outputs": [],
   "source": [
    "getArticles(date, api_key, json_file_path)"
   ]
  },
  {
   "cell_type": "code",
   "execution_count": null,
   "metadata": {
    "collapsed": true
   },
   "outputs": [],
   "source": [
    ""
   ]
  },
  {
   "cell_type": "code",
   "execution_count": 89,
   "metadata": {
    "collapsed": true
   },
   "outputs": [],
   "source": [
    "## the guy way of getting the papers"
   ]
  },
  {
   "cell_type": "code",
   "execution_count": 146,
   "metadata": {
    "collapsed": false
   },
   "outputs": [
    {
     "name": "stdout",
     "output_type": "stream",
     "text": [
      "here\n",
      "http://api.nytimes.com/svc/search/v2/articlesearch.json?begin_date=20130101&end_date=20130101&page=0&api-key=923f498f9f764c228a68501cf957355b\n",
      "there is content\n",
      "error in date\n"
     ]
    }
   ],
   "source": [
    "import urllib\n",
    "import json\n",
    "import datetime\n",
    "import time\n",
    "import sys\n",
    "import argparse\n",
    "import logging\n",
    "from urllib.error import HTTPError\n",
    " \n",
    "# helper function to iterate through dates\n",
    "def daterange( start_date, end_date ):\n",
    "    if start_date <= end_date:\n",
    "        for n in range( ( end_date - start_date ).days + 1 ):\n",
    "            yield start_date + datetime.timedelta( n )\n",
    "    else:\n",
    "        for n in range( ( start_date - end_date ).days + 1 ):\n",
    "            yield start_date - datetime.timedelta( n )\n",
    " \n",
    "# helper function to get json into a form I can work with       \n",
    "def convert(input):\n",
    "    if isinstance(input, dict):\n",
    "        return {convert(key): convert(value) for key, value in input.items()}\n",
    "    elif isinstance(input, list):\n",
    "        return [convert(element) for element in input]\n",
    "    elif isinstance(input, str):\n",
    "        return input.encode('utf-8')\n",
    "    else:\n",
    "        return input\n",
    " \n",
    "# helpful function to figure out what to name individual JSON files        \n",
    "def getJsonFileName(date, page, json_file_path):\n",
    "    json_file_name = \".\".join([date,str(page),'json'])\n",
    "    json_file_name = \"\".join([json_file_path,json_file_name])\n",
    "    return json_file_name\n",
    " \n",
    "# helpful function for processing keywords, mostly    \n",
    "def getMultiples(items, key):\n",
    "    values_list = \"\"\n",
    "    if len(items) > 0:\n",
    "        num_keys = 0\n",
    "        for item in items:\n",
    "            if num_keys == 0:\n",
    "                values_list = item[key]                \n",
    "            else:\n",
    "                values_list =  \"; \".join([values_list,item[key]])\n",
    "            num_keys += 1\n",
    "    return values_list\n",
    " \n",
    "# get the articles from the NYTimes Article API    \n",
    "def getArticles(date, api_key, json_file_path):\n",
    "    # LOOP THROUGH THE 101 PAGES NYTIMES ALLOWS FOR THAT DATE\n",
    "    for page in range(101):\n",
    "        try:\n",
    "            request_string = \"http://api.nytimes.com/svc/search/v2/articlesearch.json?begin_date=\" + date + \"&end_date=\" + date + \"&page=\" + str(page) + \"&api-key=\" + api_key\n",
    "            print(request_string)\n",
    "            \n",
    "            response = urllib.request.urlopen(request_string)\n",
    "            content = response.read()\n",
    "            \n",
    "            if content:\n",
    "                print(\"there is content\")\n",
    "                articles = convert(json.loads(content))\n",
    "                # if there are articles here\n",
    "                if len(articles[\"response\"][\"docs\"]) >= 1:\n",
    "                    print(\"getting the paper\")\n",
    "                    json_file_name = getJsonFileName(date, page, json_file_path)\n",
    "                    json_file = open(json_file_name, 'w')\n",
    "                    json_file.write(content)\n",
    "                    json_file.close()\n",
    "                # if no more articles, go to next date\n",
    "                else:\n",
    "                    return\n",
    "            else:\n",
    "                time.sleep(3)\n",
    "        except HTTPError as e:\n",
    "            print(\"error in http \")\n",
    "            logging.error(\"HTTPError on page %s on %s (err no. %s: %s) Here's the URL of the call: %s\", page, date, e.code, e.reason, request_string)\n",
    "        except:\n",
    "            print(\"error in date\")\n",
    "            logging.error(\"Error on %s page %s: %s\", date, file_number, sys.exc_info()[0])\n",
    "            continue\n",
    " \n",
    "# parse the JSON files you stored into a tab-delimited file\n",
    "def parseArticles(date, csv_file_name, json_file_path):\n",
    "    for file_number in range(101):\n",
    "        # get the articles and put them into a dictionary\n",
    "        try:\n",
    "            file_name = getJsonFileName(date,file_number, json_file_path)\n",
    "            in_file = open(file_name, 'r')\n",
    "            articles = convert(json.loads(in_file.read()))\n",
    "            in_file.close()\n",
    "        except IOError as e:\n",
    "            logging.error(\"IOError in %s page %s: %s %s\", date, file_number, e.errno, e.strerror)\n",
    "            continue\n",
    " \n",
    "        # if there are articles in that document, parse them\n",
    "        if len(articles[\"response\"][\"docs\"]) >= 1:  \n",
    "            # open the CSV for appending\n",
    "            try:\n",
    "                out_file = open(csv_file_name, 'ab')\n",
    "            except IOError as e:\n",
    "                logging.error(\"IOError: %s %s\", date, file_number, e.errno, e.strerror)\n",
    "                continue\n",
    " \n",
    "            # loop through the articles putting what we need in a CSV   \n",
    "            try:\n",
    "                for article in articles[\"response\"][\"docs\"]:\n",
    "                    # if (article[\"source\"] == \"The New York Times\" and article[\"document_type\"] == \"article\"):\n",
    "                    keywords = \"\"\n",
    "                    keywords = getMultiples(article[\"keywords\"],\"value\")\n",
    " \n",
    "                    # should probably pull these if/else checks into a module\n",
    "                    variables = [\n",
    "                        article[\"pub_date\"], \n",
    "                        keywords, \n",
    "                        str(article[\"headline\"][\"main\"]).decode(\"utf8\").replace(\"\\n\",\"\") if \"main\" in article[\"headline\"].keys() else \"\", \n",
    "                        str(article[\"source\"]).decode(\"utf8\") if \"source\" in article.keys() else \"\", \n",
    "                        str(article[\"document_type\"]).decode(\"utf8\") if \"document_type\" in article.keys() else \"\", \n",
    "                        article[\"web_url\"] if \"web_url\" in article.keys() else \"\",\n",
    "                        str(article[\"news_desk\"]).decode(\"utf8\") if \"news_desk\" in article.keys() else \"\",\n",
    "                        str(article[\"section_name\"]).decode(\"utf8\") if \"section_name\" in article.keys() else \"\",\n",
    "                        str(article[\"snippet\"]).decode(\"utf8\").replace(\"\\n\",\"\") if \"snippet\" in article.keys() else \"\",\n",
    "                        str(article[\"lead_paragraph\"]).decode(\"utf8\").replace(\"\\n\",\"\") if \"lead_paragraph\" in article.keys() else \"\",\n",
    "                        ]\n",
    "                    line = \"\\t\".join(variables)\n",
    "                    out_file.write(line.encode(\"utf8\")+\"\\n\")\n",
    "            except KeyError as e:\n",
    "                logging.error(\"KeyError in %s page %s: %s %s\", date, file_number, e.errno, e.strerror)\n",
    "                continue\n",
    "            except (KeyboardInterrupt, SystemExit):\n",
    "                raise\n",
    "            except: \n",
    "                logging.error(\"Error on %s page %s: %s\", date, file_number, sys.exc_info()[0])\n",
    "                continue\n",
    " \n",
    "            out_file.close()\n",
    "        else:\n",
    "            break\n",
    " \n",
    "# Main function where stuff gets done\n",
    "json_file_path = \"test.json\"\n",
    "csv_file_name = \"test.csv\"    \n",
    "start = datetime.date( year = 2013, month = 1, day = 1 )\n",
    "end = datetime.date( year = 2013, month = 1, day = 1 )\n",
    "\n",
    "log_file = \"\".join([json_file_path,\"getTimesArticles_testing.log\"])\n",
    "logging.basicConfig(filename=log_file, level=logging.INFO)\n",
    " \n",
    "logging.info(\"Getting started.\") \n",
    "try:\n",
    "    # LOOP THROUGH THE SPECIFIED DATES\n",
    "    for date in daterange( start, end ):\n",
    "        print(\"here\")\n",
    "        date = date.strftime(\"%Y%m%d\")\n",
    "        logging.info(\"Working on %s.\" % date)\n",
    "        getArticles(date, api_key, json_file_path)\n",
    "        parseArticles(date, csv_file_name, json_file_path)\n",
    "except:\n",
    "    logging.error(\"Unexpected error: %s\", str(sys.exc_info()[0]))\n",
    "finally:\n",
    "    logging.info(\"Finished.\")"
   ]
  },
  {
   "cell_type": "code",
   "execution_count": null,
   "metadata": {
    "collapsed": true
   },
   "outputs": [],
   "source": [
    ""
   ]
  },
  {
   "cell_type": "code",
   "execution_count": 126,
   "metadata": {
    "collapsed": true
   },
   "outputs": [],
   "source": [
    "start = datetime.date( year = 2013, month = 1, day = 1 )\n",
    "end = datetime.date( year = 2013, month = 1, day = 1 )"
   ]
  },
  {
   "cell_type": "code",
   "execution_count": 128,
   "metadata": {
    "collapsed": false
   },
   "outputs": [],
   "source": [
    "date = start.strftime(\"%Y%m%d\")"
   ]
  },
  {
   "cell_type": "code",
   "execution_count": 147,
   "metadata": {
    "collapsed": false
   },
   "outputs": [
    {
     "name": "stdout",
     "output_type": "stream",
     "text": [
      "http://api.nytimes.com/svc/search/v2/articlesearch.json?begin_date=20130101&end_date=20130101&page=0&api-key=923f498f9f764c228a68501cf957355b\n",
      "there is content\n",
      "error in date\n"
     ]
    },
    {
     "ename": "NameError",
     "evalue": "name 'file_number' is not defined",
     "traceback": [
      "\u001b[0;31m---------------------------------------------------------------------------\u001b[0m",
      "\u001b[0;31mKeyError\u001b[0m                                  Traceback (most recent call last)",
      "\u001b[0;32m<ipython-input-146-6ecac1e9c6e1>\u001b[0m in \u001b[0;36mgetArticles\u001b[0;34m(date, api_key, json_file_path)\u001b[0m\n\u001b[1;32m     63\u001b[0m                 \u001b[0;31m# if there are articles here\u001b[0m\u001b[0;34m\u001b[0m\u001b[0;34m\u001b[0m\u001b[0m\n\u001b[0;32m---> 64\u001b[0;31m                 \u001b[0;32mif\u001b[0m \u001b[0mlen\u001b[0m\u001b[0;34m(\u001b[0m\u001b[0marticles\u001b[0m\u001b[0;34m[\u001b[0m\u001b[0;34m\"response\"\u001b[0m\u001b[0;34m]\u001b[0m\u001b[0;34m[\u001b[0m\u001b[0;34m\"docs\"\u001b[0m\u001b[0;34m]\u001b[0m\u001b[0;34m)\u001b[0m \u001b[0;34m>=\u001b[0m \u001b[0;36m1\u001b[0m\u001b[0;34m:\u001b[0m\u001b[0;34m\u001b[0m\u001b[0m\n\u001b[0m\u001b[1;32m     65\u001b[0m                     \u001b[0mprint\u001b[0m\u001b[0;34m(\u001b[0m\u001b[0;34m\"getting the paper\"\u001b[0m\u001b[0;34m)\u001b[0m\u001b[0;34m\u001b[0m\u001b[0m\n",
      "\u001b[0;31mKeyError\u001b[0m: 'response'",
      "\nDuring handling of the above exception, another exception occurred:\n",
      "\u001b[0;31mNameError\u001b[0m                                 Traceback (most recent call last)",
      "\u001b[0;32m<ipython-input-147-7403b5be8da2>\u001b[0m in \u001b[0;36m<module>\u001b[0;34m()\u001b[0m\n\u001b[1;32m      1\u001b[0m \u001b[0mdate\u001b[0m \u001b[0;34m=\u001b[0m \u001b[0;34m\"20130101\"\u001b[0m\u001b[0;34m\u001b[0m\u001b[0m\n\u001b[0;32m----> 2\u001b[0;31m \u001b[0mgetArticles\u001b[0m\u001b[0;34m(\u001b[0m\u001b[0mdate\u001b[0m\u001b[0;34m,\u001b[0m \u001b[0mapi_key\u001b[0m\u001b[0;34m,\u001b[0m \u001b[0;34m\"test.json\"\u001b[0m\u001b[0;34m)\u001b[0m\u001b[0;34m\u001b[0m\u001b[0m\n\u001b[0m",
      "\u001b[0;32m<ipython-input-146-6ecac1e9c6e1>\u001b[0m in \u001b[0;36mgetArticles\u001b[0;34m(date, api_key, json_file_path)\u001b[0m\n\u001b[1;32m     78\u001b[0m         \u001b[0;32mexcept\u001b[0m\u001b[0;34m:\u001b[0m\u001b[0;34m\u001b[0m\u001b[0m\n\u001b[1;32m     79\u001b[0m             \u001b[0mprint\u001b[0m\u001b[0;34m(\u001b[0m\u001b[0;34m\"error in date\"\u001b[0m\u001b[0;34m)\u001b[0m\u001b[0;34m\u001b[0m\u001b[0m\n\u001b[0;32m---> 80\u001b[0;31m             \u001b[0mlogging\u001b[0m\u001b[0;34m.\u001b[0m\u001b[0merror\u001b[0m\u001b[0;34m(\u001b[0m\u001b[0;34m\"Error on %s page %s: %s\"\u001b[0m\u001b[0;34m,\u001b[0m \u001b[0mdate\u001b[0m\u001b[0;34m,\u001b[0m \u001b[0mfile_number\u001b[0m\u001b[0;34m,\u001b[0m \u001b[0msys\u001b[0m\u001b[0;34m.\u001b[0m\u001b[0mexc_info\u001b[0m\u001b[0;34m(\u001b[0m\u001b[0;34m)\u001b[0m\u001b[0;34m[\u001b[0m\u001b[0;36m0\u001b[0m\u001b[0;34m]\u001b[0m\u001b[0;34m)\u001b[0m\u001b[0;34m\u001b[0m\u001b[0m\n\u001b[0m\u001b[1;32m     81\u001b[0m             \u001b[0;32mcontinue\u001b[0m\u001b[0;34m\u001b[0m\u001b[0m\n\u001b[1;32m     82\u001b[0m \u001b[0;34m\u001b[0m\u001b[0m\n",
      "\u001b[0;31mNameError\u001b[0m: name 'file_number' is not defined"
     ],
     "output_type": "error"
    }
   ],
   "source": [
    "date = \"20130101\"\n",
    "getArticles(date, api_key, \"test.json\")"
   ]
  },
  {
   "cell_type": "code",
   "execution_count": 2,
   "metadata": {
    "collapsed": true
   },
   "outputs": [],
   "source": [
    "# the newest way"
   ]
  },
  {
   "cell_type": "code",
   "execution_count": null,
   "metadata": {
    "collapsed": false
   },
   "outputs": [],
   "source": [
    "'''step 1: input query information'''\n",
    "apiUrl='http://api.nytimes.com/svc/search/v2/articlesearch.json?q=occupy+wall+street'\n",
    "apiDate='begin_date=20110901&end_date=20120214'             # set the date here\n",
    "fields='fields=body%2Curl%2Ctitle%2Cdate%2Cdes_facet%2Cdesk_facet%2Cbyline'\n",
    "offset='offset=0'\n",
    "key='api-key='+api_key  # input your key here\n",
    "\n"
   ]
  },
  {
   "cell_type": "code",
   "execution_count": null,
   "metadata": {
    "collapsed": true
   },
   "outputs": [],
   "source": [
    ""
   ]
  },
  {
   "cell_type": "code",
   "execution_count": null,
   "metadata": {
    "collapsed": true
   },
   "outputs": [],
   "source": [
    ""
   ]
  },
  {
   "cell_type": "code",
   "execution_count": null,
   "metadata": {
    "collapsed": true
   },
   "outputs": [],
   "source": [
    "'''step 2: get the number of offset/pages'''\n",
    "link=[apiUrl, apiDate, fields, offset, key]\n",
    "ReqUrl='&'.join(link)\n",
    "print(ReqUrl)\n",
    "jstr = urllib.request.urlopen(ReqUrl).read()  # t = jstr.strip('()')\n",
    "ts = json.loads( jstr )\n",
    "#print(ts)\n",
    "number=10 #  the number of queries, maximal is 10, you can not change it\n",
    "print(number) \n",
    "seq=range(number)  # this is not a good way\n",
    "#print(seq) \n",
    "\n",
    "'''step 3: crawl the data and dump into csv'''\n",
    "import csv\n",
    "addressForSavingData= \"nyt.csv\"\n",
    "file = open(addressForSavingData,'wb') # save to csv file\n",
    "for i in seq:\n",
    "    nums=str(i)\n",
    "    offsets=''.join(['offset=', nums]) # I made error here, and print is a good way to test\n",
    "    links=[apiUrl, query, apiDate, fields, offsets, key]\n",
    "    ReqUrls='&'.join(links)\n",
    "    print(\"*_____________*\", ReqUrls) \n",
    "    jstrs = urllib.request.urlopen(ReqUrl).read()\n",
    "    t = jstrs.strip('()')\n",
    "    tss= json.loads( t )  # error no joson object\n",
    "    result = tss['results']\n",
    "    for ob in result:\n",
    "        title=ob['title']  # body=ob['body']   # body,url,title,date,des_facet,desk_facet,byline\n",
    "        print(title) \n",
    "        url=ob['url']\n",
    "        date=ob['date'] # desk_facet=ob['desk_facet']  # byline=ob['byline'] # some author names don't exist\n",
    "        w = csv.writer(file,delimiter=',',quotechar='|', quoting=csv.QUOTE_MINIMAL)\n",
    "        w.writerow((date, title, url)) # write it out\n",
    "file.close()\n",
    "pass\n",
    "\n"
   ]
  },
  {
   "cell_type": "code",
   "execution_count": null,
   "metadata": {
    "collapsed": true
   },
   "outputs": [],
   "source": [
    ""
   ]
  },
  {
   "cell_type": "code",
   "execution_count": null,
   "metadata": {
    "collapsed": true
   },
   "outputs": [],
   "source": [
    ""
   ]
  },
  {
   "cell_type": "code",
   "execution_count": null,
   "metadata": {
    "collapsed": true
   },
   "outputs": [],
   "source": [
    ""
   ]
  },
  {
   "cell_type": "code",
   "execution_count": null,
   "metadata": {
    "collapsed": true
   },
   "outputs": [],
   "source": [
    ""
   ]
  },
  {
   "cell_type": "code",
   "execution_count": null,
   "metadata": {
    "collapsed": true
   },
   "outputs": [],
   "source": [
    ""
   ]
  },
  {
   "cell_type": "code",
   "execution_count": null,
   "metadata": {
    "collapsed": true
   },
   "outputs": [],
   "source": [
    ""
   ]
  },
  {
   "cell_type": "code",
   "execution_count": null,
   "metadata": {
    "collapsed": true
   },
   "outputs": [],
   "source": [
    ""
   ]
  },
  {
   "cell_type": "code",
   "execution_count": 47,
   "metadata": {
    "collapsed": false
   },
   "outputs": [],
   "source": [
    "##### OK BACK TO MY WAY ---- SKETCH OF THE MODULE\n",
    "\n",
    "request_string = \"http://api.nytimes.com/svc/search/v2/articlesearch.json?begin_date=\" + date + \"&end_date=\" + date + \"&page=\" + str(page) + \"&api-key=\" + api_key"
   ]
  },
  {
   "cell_type": "code",
   "execution_count": 58,
   "metadata": {
    "collapsed": true
   },
   "outputs": [],
   "source": [
    "def NYTquery(begin_date, end_date, page=1, api_key = '923f498f9f764c228a68501cf957355b'):\n",
    "    # initial settings, will be part of class variable:\n",
    "    base_url = 'https://api.nytimes.com/svc/search/v2/articlesearch.json?begin_date='\n",
    "    \n",
    "    # function own variables, needed for the query:\n",
    "    \n",
    "    #search_query\n",
    "    search_query = str(begin_date) + \"&end_date=\" + str(end_date) + \"&page=\" + str(page) + \"&api-key=\" + api_key\n",
    "    \n",
    "    # actual NYT query\n",
    "    response = urllib.request.urlopen(base_url+search_query).read()\n",
    "    \n",
    "    # parse the response using feedparser\n",
    "    return response"
   ]
  },
  {
   "cell_type": "code",
   "execution_count": 48,
   "metadata": {
    "collapsed": true
   },
   "outputs": [],
   "source": [
    "base_url = 'https://api.nytimes.com/svc/search/v2/articlesearch.json?begin_date='"
   ]
  },
  {
   "cell_type": "code",
   "execution_count": 50,
   "metadata": {
    "collapsed": false
   },
   "outputs": [],
   "source": [
    "search_query = str(20161201) + \"&end_date=\" + str(20161231) + \"&page=\" + str(1) + \"&api-key=\" + api_key"
   ]
  },
  {
   "cell_type": "code",
   "execution_count": 61,
   "metadata": {
    "collapsed": false
   },
   "outputs": [],
   "source": [
    "data = NYTquery(20161201,20161231)"
   ]
  },
  {
   "cell_type": "code",
   "execution_count": 71,
   "metadata": {
    "collapsed": false
   },
   "outputs": [
    {
     "data": {
      "text/plain": [
       "b'{\"response\":{\"meta\":{\"hits\":20942,\"time\":45,\"offset\":10},\"docs\":[{\"web_url\":\"http:\\\\/\\\\/www.nytimes.com\\\\/reuters\\\\/2016\\\\/12\\\\/31\\\\/world\\\\/europe\\\\/31reuters-mideast-crisis-syria-blast.html\",\"snippet\":\"Two suicide bombers detonated their explosives, killing at least two security officers in the Syrian coastal city of Tartous, Syrian state television reported after midnight on Sunday....\",\"lead_paragraph\":\"Two suicide bombers detonated their explosives, killing at least two security officers in the Syrian coastal city of Tartous, Syrian state television reported after midnight on Sunday.\",\"abstract\":null,\"print_page\":null,\"blog\":[],\"source\":\"Reuters\",\"multimedia\":[],\"headline\":{\"main\":\"Two Suicide Attackers Kill at Least Two in Syria\\'s Tartous: State TV, Monitors\",\"print_headline\":\"Two Suicide Attackers Kill at Least Two in Syria\\'s Tartous: State TV, Monitors\"},\"keywords\":[],\"pub_date\":\"2016-12-31T23:27:28+0000\",\"document_type\":\"article\",\"news_desk\":null,\"section_name\":\"World\",\"subsection_name\":\"Europe\",\"byline\":{\"person\":[],\"original\":\"By REUTERS\",\"organization\":\"REUTERS\"},\"type_of_material\":\"News\",\"_id\":\"58683eea95d0e03926078817\",\"word_count\":\"229\",\"slideshow_credits\":null},{\"web_url\":\"http:\\\\/\\\\/www.nytimes.com\\\\/aponline\\\\/2016\\\\/12\\\\/31\\\\/world\\\\/ap-cn-canada-impaired-pilot.html\",\"snippet\":\"Canadian police have charged a pilot for Sunwing Airlines with impairment after he was allegedly found passed out over his seat before takeoff early Saturday....\",\"lead_paragraph\":\"Canadian police have charged a pilot for Sunwing Airlines with impairment after he was allegedly found passed out over his seat before takeoff early Saturday.\",\"abstract\":null,\"print_page\":null,\"blog\":[],\"source\":\"AP\",\"multimedia\":[],\"headline\":{\"main\":\"Police Say Pilot on Canadian Airline Found Passed Out Drunk\",\"print_headline\":\"Police Say Pilot on Canadian Airline Found Passed Out Drunk\"},\"keywords\":[],\"pub_date\":\"2016-12-31T23:09:40+0000\",\"document_type\":\"article\",\"news_desk\":null,\"section_name\":\"World\",\"subsection_name\":null,\"byline\":{\"person\":[],\"original\":\"By THE ASSOCIATED PRESS\",\"organization\":\"THE ASSOCIATED PRESS\"},\"type_of_material\":\"News\",\"_id\":\"58683aba95d0e03926078816\",\"word_count\":\"472\",\"slideshow_credits\":null},{\"web_url\":\"http:\\\\/\\\\/www.nytimes.com\\\\/reuters\\\\/2016\\\\/12\\\\/31\\\\/world\\\\/africa\\\\/31reuters-congo-politics.html\",\"snippet\":\"Congo\\'s opposition leaders signed a deal with the party of President Joseph Kabila on Saturday that will require him to step down after elections that must take place before the end of 2017....\",\"lead_paragraph\":\"Congo\\'s opposition leaders signed a deal with the party of President Joseph Kabila on Saturday that will require him to step down after elections that must take place before the end of 2017.\",\"abstract\":null,\"print_page\":null,\"blog\":[],\"source\":\"Reuters\",\"multimedia\":[],\"headline\":{\"main\":\"Congo Rulng Party, Opposition Sign Deal for Kabila to Step Down\",\"print_headline\":\"Congo Rulng Party, Opposition Sign Deal for Kabila to Step Down\"},\"keywords\":[],\"pub_date\":\"2016-12-31T23:03:27+0000\",\"document_type\":\"article\",\"news_desk\":null,\"section_name\":\"World\",\"subsection_name\":\"Africa\",\"byline\":{\"person\":[],\"original\":\"By REUTERS\",\"organization\":\"REUTERS\"},\"type_of_material\":\"News\",\"_id\":\"5868394595d0e03926078815\",\"word_count\":\"339\",\"slideshow_credits\":null},{\"web_url\":\"http:\\\\/\\\\/www.nytimes.com\\\\/aponline\\\\/2016\\\\/12\\\\/31\\\\/us\\\\/ap-us-music-burrell-gays.html\",\"snippet\":\"Gospel singer Kim Burrell says she makes \\\\\"no excuses or apologies\\\\\" for a sermon at a Houston church where she referred to gays and lesbians as perverted....\",\"lead_paragraph\":\"Gospel singer Kim Burrell says she makes \\\\\"no excuses or apologies\\\\\" for a sermon at a Houston church where she referred to gays and lesbians as perverted.\",\"abstract\":null,\"print_page\":null,\"blog\":[],\"source\":\"AP\",\"multimedia\":[],\"headline\":{\"main\":\"Kim Burrell Under Fire for Comments About Gays and Lesbians\",\"print_headline\":\"Kim Burrell Under Fire for Comments About Gays and Lesbians\"},\"keywords\":[],\"pub_date\":\"2016-12-31T23:00:40+0000\",\"document_type\":\"article\",\"news_desk\":null,\"section_name\":\"U.S.\",\"subsection_name\":null,\"byline\":{\"person\":[],\"original\":\"By THE ASSOCIATED PRESS\",\"organization\":\"THE ASSOCIATED PRESS\"},\"type_of_material\":\"News\",\"_id\":\"586838a195d0e03926078814\",\"word_count\":\"215\",\"slideshow_credits\":null},{\"web_url\":\"http:\\\\/\\\\/www.nytimes.com\\\\/2016\\\\/12\\\\/31\\\\/us\\\\/politics\\\\/chief-justice-salutes-trial-judges-for-tackling-daunting-workload.html\",\"snippet\":\"Chief Justice John G. Roberts Jr. noted in his annual report that federal trial judges typically have 500 cases on their docket each year. The Supreme Court issued 62 decisions in its last term....\",\"lead_paragraph\":\"Chief Justice John G. Roberts Jr. noted in his annual report that federal trial judges typically have 500 cases on their docket each year. The Supreme Court issued 62 decisions in its last term.\",\"abstract\":null,\"print_page\":\"16\",\"blog\":[],\"source\":\"The New York Times\",\"multimedia\":[{\"width\":190,\"url\":\"images\\\\/2017\\\\/01\\\\/01\\\\/us\\\\/01SCOTUS\\\\/01SCOTUS-thumbWide.jpg\",\"height\":126,\"subtype\":\"wide\",\"legacy\":{\"wide\":\"images\\\\/2017\\\\/01\\\\/01\\\\/us\\\\/01SCOTUS\\\\/01SCOTUS-thumbWide.jpg\",\"wideheight\":\"126\",\"widewidth\":\"190\"},\"type\":\"image\"},{\"width\":600,\"url\":\"images\\\\/2017\\\\/01\\\\/01\\\\/us\\\\/01SCOTUS\\\\/01SCOTUS-articleLarge.jpg\",\"height\":403,\"subtype\":\"xlarge\",\"legacy\":{\"xlargewidth\":\"600\",\"xlarge\":\"images\\\\/2017\\\\/01\\\\/01\\\\/us\\\\/01SCOTUS\\\\/01SCOTUS-articleLarge.jpg\",\"xlargeheight\":\"403\"},\"type\":\"image\"},{\"width\":75,\"url\":\"images\\\\/2017\\\\/01\\\\/01\\\\/us\\\\/01SCOTUS\\\\/01SCOTUS-thumbStandard.jpg\",\"height\":75,\"subtype\":\"thumbnail\",\"legacy\":{\"thumbnailheight\":\"75\",\"thumbnail\":\"images\\\\/2017\\\\/01\\\\/01\\\\/us\\\\/01SCOTUS\\\\/01SCOTUS-thumbStandard.jpg\",\"thumbnailwidth\":\"75\"},\"type\":\"image\"}],\"headline\":{\"main\":\"Chief Justice Salutes Trial Judges for Tackling \\\\u2018Daunting Workload\\\\u2019\",\"print_headline\":\"Chief Justice Salutes Trial Judges\\\\u2019 Quiet Dedication\"},\"keywords\":[{\"rank\":\"1\",\"is_major\":\"N\",\"name\":\"persons\",\"value\":\"Roberts, John G Jr\"},{\"rank\":\"2\",\"is_major\":\"N\",\"name\":\"organizations\",\"value\":\"Supreme Court (US)\"},{\"rank\":\"3\",\"is_major\":\"N\",\"name\":\"subject\",\"value\":\"Courts and the Judiciary\"},{\"rank\":\"4\",\"is_major\":\"N\",\"name\":\"subject\",\"value\":\"Suits and Litigation (Civil)\"}],\"pub_date\":\"2016-12-31T23:00:24+0000\",\"document_type\":\"article\",\"news_desk\":\"National\",\"section_name\":\"U.S.\",\"subsection_name\":\"Politics\",\"byline\":{\"contributor\":\"\",\"person\":[{\"organization\":\"\",\"role\":\"reported\",\"firstname\":\"Adam\",\"rank\":1,\"lastname\":\"LIPTAK\"}],\"original\":\"By ADAM LIPTAK\"},\"type_of_material\":\"News\",\"_id\":\"5868389295d0e03926078813\",\"word_count\":\"605\",\"slideshow_credits\":null},{\"web_url\":\"http:\\\\/\\\\/www.nytimes.com\\\\/2016\\\\/12\\\\/31\\\\/crosswords\\\\/rolling-in-the-aisles.html\",\"snippet\":\"Matthew Sewell ushers in the new year....\",\"lead_paragraph\":\"Matthew Sewell ushers in the new year.\",\"abstract\":null,\"print_page\":null,\"blog\":[],\"source\":\"The New York Times\",\"multimedia\":[{\"width\":190,\"url\":\"images\\\\/2017\\\\/01\\\\/03\\\\/crosswords\\\\/01wordplay-dr-strangelove\\\\/02wordplay-dr-strangelove-thumbWide.jpg\",\"height\":126,\"subtype\":\"wide\",\"legacy\":{\"wide\":\"images\\\\/2017\\\\/01\\\\/03\\\\/crosswords\\\\/01wordplay-dr-strangelove\\\\/02wordplay-dr-strangelove-thumbWide.jpg\",\"wideheight\":\"126\",\"widewidth\":\"190\"},\"type\":\"image\"},{\"width\":600,\"url\":\"images\\\\/2017\\\\/01\\\\/03\\\\/crosswords\\\\/01wordplay-dr-strangelove\\\\/02wordplay-dr-strangelove-articleLarge.jpg\",\"height\":430,\"subtype\":\"xlarge\",\"legacy\":{\"xlargewidth\":\"600\",\"xlarge\":\"images\\\\/2017\\\\/01\\\\/03\\\\/crosswords\\\\/01wordplay-dr-strangelove\\\\/02wordplay-dr-strangelove-articleLarge.jpg\",\"xlargeheight\":\"430\"},\"type\":\"image\"},{\"width\":75,\"url\":\"images\\\\/2017\\\\/01\\\\/03\\\\/crosswords\\\\/01wordplay-dr-strangelove\\\\/02wordplay-dr-strangelove-thumbStandard.jpg\",\"height\":75,\"subtype\":\"thumbnail\",\"legacy\":{\"thumbnailheight\":\"75\",\"thumbnail\":\"images\\\\/2017\\\\/01\\\\/03\\\\/crosswords\\\\/01wordplay-dr-strangelove\\\\/02wordplay-dr-strangelove-thumbStandard.jpg\",\"thumbnailwidth\":\"75\"},\"type\":\"image\"}],\"headline\":{\"main\":\"Rolling in the Aisles\",\"content_kicker\":\"Wordplay\",\"kicker\":\"Wordplay\"},\"keywords\":[{\"rank\":\"1\",\"is_major\":\"N\",\"name\":\"subject\",\"value\":\"Crossword Puzzles\"}],\"pub_date\":\"2016-12-31T23:00:02+0000\",\"document_type\":\"article\",\"news_desk\":\"Games\",\"section_name\":\"Crosswords & Games\",\"subsection_name\":null,\"byline\":{\"person\":[{\"organization\":\"\",\"role\":\"reported\",\"firstname\":\"Caitlin\",\"rank\":1,\"lastname\":\"LOVINGER\"}],\"original\":\"By CAITLIN LOVINGER\"},\"type_of_material\":\"News\",\"_id\":\"5868387595d0e03926078812\",\"word_count\":\"756\",\"slideshow_credits\":null},{\"web_url\":\"http:\\\\/\\\\/www.nytimes.com\\\\/video\\\\/world\\\\/middleeast\\\\/100000004849036\\\\/un-security-council-adopts-syria-resolution.html\",\"snippet\":\"The United Nations Security Council on Saturday unanimously endorsed the agreement brokered by Russia and Turkey for a cease-fire in Syria that has been in force for two days....\",\"lead_paragraph\":\"The United Nations Security Council on Saturday unanimously endorsed the agreement brokered by Russia and Turkey for a cease-fire in Syria that has been in force for two days.\",\"abstract\":null,\"print_page\":null,\"blog\":[],\"source\":\"Reuters\",\"multimedia\":[{\"width\":190,\"url\":\"images\\\\/2017\\\\/01\\\\/01\\\\/world\\\\/01SYRIA\\\\/01SYRIA-thumbWide.jpg\",\"height\":126,\"subtype\":\"wide\",\"legacy\":{\"wide\":\"images\\\\/2017\\\\/01\\\\/01\\\\/world\\\\/01SYRIA\\\\/01SYRIA-thumbWide.jpg\",\"wideheight\":\"126\",\"widewidth\":\"190\"},\"type\":\"image\"},{\"width\":600,\"url\":\"images\\\\/2017\\\\/01\\\\/01\\\\/world\\\\/01SYRIA\\\\/01SYRIA-articleLarge.jpg\",\"height\":447,\"subtype\":\"xlarge\",\"legacy\":{\"xlargewidth\":\"600\",\"xlarge\":\"images\\\\/2017\\\\/01\\\\/01\\\\/world\\\\/01SYRIA\\\\/01SYRIA-articleLarge.jpg\",\"xlargeheight\":\"447\"},\"type\":\"image\"},{\"width\":75,\"url\":\"images\\\\/2017\\\\/01\\\\/01\\\\/world\\\\/01SYRIA\\\\/01SYRIA-thumbStandard.jpg\",\"height\":75,\"subtype\":\"thumbnail\",\"legacy\":{\"thumbnailheight\":\"75\",\"thumbnail\":\"images\\\\/2017\\\\/01\\\\/01\\\\/world\\\\/01SYRIA\\\\/01SYRIA-thumbStandard.jpg\",\"thumbnailwidth\":\"75\"},\"type\":\"image\"}],\"headline\":{\"main\":\"U.N. Security Council Adopts Syria Resolution\"},\"keywords\":[{\"rank\":\"1\",\"is_major\":\"N\",\"name\":\"subject\",\"value\":\"International Relations\"},{\"rank\":\"2\",\"is_major\":\"N\",\"name\":\"organizations\",\"value\":\"Security Council (UN)\"},{\"rank\":\"3\",\"is_major\":\"N\",\"name\":\"glocations\",\"value\":\"Syria\"},{\"rank\":\"4\",\"is_major\":\"N\",\"name\":\"glocations\",\"value\":\"Russia\"},{\"rank\":\"5\",\"is_major\":\"N\",\"name\":\"glocations\",\"value\":\"Turkey\"}],\"pub_date\":\"2016-12-31T22:47:14+0000\",\"document_type\":\"multimedia\",\"news_desk\":\"World \\\\/ Middle East\",\"section_name\":\"World\",\"subsection_name\":\"Middle East\",\"byline\":{\"person\":[],\"original\":\"By REUTERS\",\"organization\":\"REUTERS\"},\"type_of_material\":null,\"_id\":\"5868357695d0e03926078811\",\"word_count\":\"29\",\"slideshow_credits\":null},{\"web_url\":\"http:\\\\/\\\\/www.nytimes.com\\\\/aponline\\\\/2016\\\\/12\\\\/31\\\\/sports\\\\/ncaabasketball\\\\/ap-bkw-t25-ohio-st-indiana.html\",\"snippet\":\"Kelsey Mitchell scored 31 points and Stephanie Mavunga grabbed a career-high 17 rebounds and scored 14 points as No. 14 Ohio State beat Indiana 92-82 on Saturday....\",\"lead_paragraph\":\"Kelsey Mitchell scored 31 points and Stephanie Mavunga grabbed a career-high 17 rebounds and scored 14 points as No. 14 Ohio State beat Indiana 92-82 on Saturday.\",\"abstract\":null,\"print_page\":null,\"blog\":[],\"source\":\"AP\",\"multimedia\":[],\"headline\":{\"main\":\"Mitchell, Mavunga Launch Ohio St. Past Indiana 92-82\",\"print_headline\":\"Mitchell, Mavunga Launch Ohio St. Past Indiana 92-82\"},\"keywords\":[],\"pub_date\":\"2016-12-31T22:45:38+0000\",\"document_type\":\"article\",\"news_desk\":null,\"section_name\":\"Sports\",\"subsection_name\":\"College Basketball\",\"byline\":{\"person\":[],\"original\":\"By THE ASSOCIATED PRESS\",\"organization\":\"THE ASSOCIATED PRESS\"},\"type_of_material\":\"News\",\"_id\":\"5868351895d0e03926078810\",\"word_count\":\"159\",\"slideshow_credits\":null},{\"web_url\":\"http:\\\\/\\\\/www.nytimes.com\\\\/aponline\\\\/2016\\\\/12\\\\/31\\\\/world\\\\/africa\\\\/ap-af-congo-politics.html\",\"snippet\":\"Political parties in Congo signed a deal late Saturday that calls for President Joseph Kabila to leave power after an election that now will be held by the end of next year instead of mid-2018 as his party originally proposed....\",\"lead_paragraph\":\"Political parties in Congo signed a deal late Saturday that calls for President Joseph Kabila to leave power after an election that now will be held by the end of next year instead of mid-2018 as his party originally proposed.\",\"abstract\":null,\"print_page\":null,\"blog\":[],\"source\":\"AP\",\"multimedia\":[],\"headline\":{\"main\":\"Congo President to Leave After 2017 Vote Under New Deal\",\"print_headline\":\"Congo President to Leave After 2017 Vote Under New Deal\"},\"keywords\":[],\"pub_date\":\"2016-12-31T22:45:37+0000\",\"document_type\":\"article\",\"news_desk\":null,\"section_name\":\"World\",\"subsection_name\":\"Africa\",\"byline\":{\"person\":[],\"original\":\"By THE ASSOCIATED PRESS\",\"organization\":\"THE ASSOCIATED PRESS\"},\"type_of_material\":\"News\",\"_id\":\"5868351595d0e0392607880f\",\"word_count\":\"694\",\"slideshow_credits\":null},{\"web_url\":\"http:\\\\/\\\\/www.nytimes.com\\\\/aponline\\\\/2016\\\\/12\\\\/31\\\\/us\\\\/ap-us-lgbt-rights-health-lawsuit.html\",\"snippet\":\"A federal judge in Texas on Saturday ordered a halt to another Obama administration effort to strengthen transgender rights, this time over health rules that social conservatives say could force doctors to violate their religious beliefs....\",\"lead_paragraph\":\"A federal judge in Texas on Saturday ordered a halt to another Obama administration effort to strengthen transgender rights, this time over health rules that social conservatives say could force doctors to violate their religious beliefs.\",\"abstract\":null,\"print_page\":null,\"blog\":[],\"source\":\"AP\",\"multimedia\":[],\"headline\":{\"main\":\"Texas Judge Halts Federal Transgender Health Protections\",\"print_headline\":\"Texas Judge Halts Federal Transgender Health Protections\"},\"keywords\":[],\"pub_date\":\"2016-12-31T22:42:36+0000\",\"document_type\":\"article\",\"news_desk\":null,\"section_name\":\"U.S.\",\"subsection_name\":null,\"byline\":{\"person\":[],\"original\":\"By THE ASSOCIATED PRESS\",\"organization\":\"THE ASSOCIATED PRESS\"},\"type_of_material\":\"News\",\"_id\":\"5868346195d0e0392607880e\",\"word_count\":\"573\",\"slideshow_credits\":null}]},\"status\":\"OK\",\"copyright\":\"Copyright (c) 2013 The New York Times Company.  All Rights Reserved.\"}'"
      ]
     },
     "execution_count": 71,
     "metadata": {},
     "output_type": "execute_result"
    }
   ],
   "source": [
    "data"
   ]
  },
  {
   "cell_type": "code",
   "execution_count": 80,
   "metadata": {
    "collapsed": true
   },
   "outputs": [],
   "source": [
    "content = data"
   ]
  },
  {
   "cell_type": "code",
   "execution_count": 138,
   "metadata": {
    "collapsed": true
   },
   "outputs": [],
   "source": [
    "# helper function to get json into a form I can work with       \n",
    "def convert(input):\n",
    "    if isinstance(input, dict):\n",
    "        return {convert(key): convert(value) for key, value in input.items()}\n",
    "    elif isinstance(input, list):\n",
    "        return [convert(element) for element in input]\n",
    "    elif isinstance(input, str):\n",
    "        return input.encode('utf-8')\n",
    "    else:\n",
    "        return input"
   ]
  },
  {
   "cell_type": "code",
   "execution_count": 139,
   "metadata": {
    "collapsed": false
   },
   "outputs": [],
   "source": [
    "articles = convert(json.loads(content))"
   ]
  },
  {
   "cell_type": "code",
   "execution_count": 140,
   "metadata": {
    "collapsed": false
   },
   "outputs": [
    {
     "data": {
      "text/plain": [
       "{b'copyright': b'Copyright (c) 2013 The New York Times Company.  All Rights Reserved.',\n",
       " b'response': {b'docs': [{b'_id': b'58683eea95d0e03926078817',\n",
       "    b'abstract': None,\n",
       "    b'blog': [],\n",
       "    b'byline': {b'organization': b'REUTERS',\n",
       "     b'original': b'By REUTERS',\n",
       "     b'person': []},\n",
       "    b'document_type': b'article',\n",
       "    b'headline': {b'main': b\"Two Suicide Attackers Kill at Least Two in Syria's Tartous: State TV, Monitors\",\n",
       "     b'print_headline': b\"Two Suicide Attackers Kill at Least Two in Syria's Tartous: State TV, Monitors\"},\n",
       "    b'keywords': [],\n",
       "    b'lead_paragraph': b'Two suicide bombers detonated their explosives, killing at least two security officers in the Syrian coastal city of Tartous, Syrian state television reported after midnight on Sunday.',\n",
       "    b'multimedia': [],\n",
       "    b'news_desk': None,\n",
       "    b'print_page': None,\n",
       "    b'pub_date': b'2016-12-31T23:27:28+0000',\n",
       "    b'section_name': b'World',\n",
       "    b'slideshow_credits': None,\n",
       "    b'snippet': b'Two suicide bombers detonated their explosives, killing at least two security officers in the Syrian coastal city of Tartous, Syrian state television reported after midnight on Sunday....',\n",
       "    b'source': b'Reuters',\n",
       "    b'subsection_name': b'Europe',\n",
       "    b'type_of_material': b'News',\n",
       "    b'web_url': b'http://www.nytimes.com/reuters/2016/12/31/world/europe/31reuters-mideast-crisis-syria-blast.html',\n",
       "    b'word_count': b'229'},\n",
       "   {b'_id': b'58683aba95d0e03926078816',\n",
       "    b'abstract': None,\n",
       "    b'blog': [],\n",
       "    b'byline': {b'organization': b'THE ASSOCIATED PRESS',\n",
       "     b'original': b'By THE ASSOCIATED PRESS',\n",
       "     b'person': []},\n",
       "    b'document_type': b'article',\n",
       "    b'headline': {b'main': b'Police Say Pilot on Canadian Airline Found Passed Out Drunk',\n",
       "     b'print_headline': b'Police Say Pilot on Canadian Airline Found Passed Out Drunk'},\n",
       "    b'keywords': [],\n",
       "    b'lead_paragraph': b'Canadian police have charged a pilot for Sunwing Airlines with impairment after he was allegedly found passed out over his seat before takeoff early Saturday.',\n",
       "    b'multimedia': [],\n",
       "    b'news_desk': None,\n",
       "    b'print_page': None,\n",
       "    b'pub_date': b'2016-12-31T23:09:40+0000',\n",
       "    b'section_name': b'World',\n",
       "    b'slideshow_credits': None,\n",
       "    b'snippet': b'Canadian police have charged a pilot for Sunwing Airlines with impairment after he was allegedly found passed out over his seat before takeoff early Saturday....',\n",
       "    b'source': b'AP',\n",
       "    b'subsection_name': None,\n",
       "    b'type_of_material': b'News',\n",
       "    b'web_url': b'http://www.nytimes.com/aponline/2016/12/31/world/ap-cn-canada-impaired-pilot.html',\n",
       "    b'word_count': b'472'},\n",
       "   {b'_id': b'5868394595d0e03926078815',\n",
       "    b'abstract': None,\n",
       "    b'blog': [],\n",
       "    b'byline': {b'organization': b'REUTERS',\n",
       "     b'original': b'By REUTERS',\n",
       "     b'person': []},\n",
       "    b'document_type': b'article',\n",
       "    b'headline': {b'main': b'Congo Rulng Party, Opposition Sign Deal for Kabila to Step Down',\n",
       "     b'print_headline': b'Congo Rulng Party, Opposition Sign Deal for Kabila to Step Down'},\n",
       "    b'keywords': [],\n",
       "    b'lead_paragraph': b\"Congo's opposition leaders signed a deal with the party of President Joseph Kabila on Saturday that will require him to step down after elections that must take place before the end of 2017.\",\n",
       "    b'multimedia': [],\n",
       "    b'news_desk': None,\n",
       "    b'print_page': None,\n",
       "    b'pub_date': b'2016-12-31T23:03:27+0000',\n",
       "    b'section_name': b'World',\n",
       "    b'slideshow_credits': None,\n",
       "    b'snippet': b\"Congo's opposition leaders signed a deal with the party of President Joseph Kabila on Saturday that will require him to step down after elections that must take place before the end of 2017....\",\n",
       "    b'source': b'Reuters',\n",
       "    b'subsection_name': b'Africa',\n",
       "    b'type_of_material': b'News',\n",
       "    b'web_url': b'http://www.nytimes.com/reuters/2016/12/31/world/africa/31reuters-congo-politics.html',\n",
       "    b'word_count': b'339'},\n",
       "   {b'_id': b'586838a195d0e03926078814',\n",
       "    b'abstract': None,\n",
       "    b'blog': [],\n",
       "    b'byline': {b'organization': b'THE ASSOCIATED PRESS',\n",
       "     b'original': b'By THE ASSOCIATED PRESS',\n",
       "     b'person': []},\n",
       "    b'document_type': b'article',\n",
       "    b'headline': {b'main': b'Kim Burrell Under Fire for Comments About Gays and Lesbians',\n",
       "     b'print_headline': b'Kim Burrell Under Fire for Comments About Gays and Lesbians'},\n",
       "    b'keywords': [],\n",
       "    b'lead_paragraph': b'Gospel singer Kim Burrell says she makes \"no excuses or apologies\" for a sermon at a Houston church where she referred to gays and lesbians as perverted.',\n",
       "    b'multimedia': [],\n",
       "    b'news_desk': None,\n",
       "    b'print_page': None,\n",
       "    b'pub_date': b'2016-12-31T23:00:40+0000',\n",
       "    b'section_name': b'U.S.',\n",
       "    b'slideshow_credits': None,\n",
       "    b'snippet': b'Gospel singer Kim Burrell says she makes \"no excuses or apologies\" for a sermon at a Houston church where she referred to gays and lesbians as perverted....',\n",
       "    b'source': b'AP',\n",
       "    b'subsection_name': None,\n",
       "    b'type_of_material': b'News',\n",
       "    b'web_url': b'http://www.nytimes.com/aponline/2016/12/31/us/ap-us-music-burrell-gays.html',\n",
       "    b'word_count': b'215'},\n",
       "   {b'_id': b'5868389295d0e03926078813',\n",
       "    b'abstract': None,\n",
       "    b'blog': [],\n",
       "    b'byline': {b'contributor': b'',\n",
       "     b'original': b'By ADAM LIPTAK',\n",
       "     b'person': [{b'firstname': b'Adam',\n",
       "       b'lastname': b'LIPTAK',\n",
       "       b'organization': b'',\n",
       "       b'rank': 1,\n",
       "       b'role': b'reported'}]},\n",
       "    b'document_type': b'article',\n",
       "    b'headline': {b'main': b'Chief Justice Salutes Trial Judges for Tackling \\xe2\\x80\\x98Daunting Workload\\xe2\\x80\\x99',\n",
       "     b'print_headline': b'Chief Justice Salutes Trial Judges\\xe2\\x80\\x99 Quiet Dedication'},\n",
       "    b'keywords': [{b'is_major': b'N',\n",
       "      b'name': b'persons',\n",
       "      b'rank': b'1',\n",
       "      b'value': b'Roberts, John G Jr'},\n",
       "     {b'is_major': b'N',\n",
       "      b'name': b'organizations',\n",
       "      b'rank': b'2',\n",
       "      b'value': b'Supreme Court (US)'},\n",
       "     {b'is_major': b'N',\n",
       "      b'name': b'subject',\n",
       "      b'rank': b'3',\n",
       "      b'value': b'Courts and the Judiciary'},\n",
       "     {b'is_major': b'N',\n",
       "      b'name': b'subject',\n",
       "      b'rank': b'4',\n",
       "      b'value': b'Suits and Litigation (Civil)'}],\n",
       "    b'lead_paragraph': b'Chief Justice John G. Roberts Jr. noted in his annual report that federal trial judges typically have 500 cases on their docket each year. The Supreme Court issued 62 decisions in its last term.',\n",
       "    b'multimedia': [{b'height': 126,\n",
       "      b'legacy': {b'wide': b'images/2017/01/01/us/01SCOTUS/01SCOTUS-thumbWide.jpg',\n",
       "       b'wideheight': b'126',\n",
       "       b'widewidth': b'190'},\n",
       "      b'subtype': b'wide',\n",
       "      b'type': b'image',\n",
       "      b'url': b'images/2017/01/01/us/01SCOTUS/01SCOTUS-thumbWide.jpg',\n",
       "      b'width': 190},\n",
       "     {b'height': 403,\n",
       "      b'legacy': {b'xlarge': b'images/2017/01/01/us/01SCOTUS/01SCOTUS-articleLarge.jpg',\n",
       "       b'xlargeheight': b'403',\n",
       "       b'xlargewidth': b'600'},\n",
       "      b'subtype': b'xlarge',\n",
       "      b'type': b'image',\n",
       "      b'url': b'images/2017/01/01/us/01SCOTUS/01SCOTUS-articleLarge.jpg',\n",
       "      b'width': 600},\n",
       "     {b'height': 75,\n",
       "      b'legacy': {b'thumbnail': b'images/2017/01/01/us/01SCOTUS/01SCOTUS-thumbStandard.jpg',\n",
       "       b'thumbnailheight': b'75',\n",
       "       b'thumbnailwidth': b'75'},\n",
       "      b'subtype': b'thumbnail',\n",
       "      b'type': b'image',\n",
       "      b'url': b'images/2017/01/01/us/01SCOTUS/01SCOTUS-thumbStandard.jpg',\n",
       "      b'width': 75}],\n",
       "    b'news_desk': b'National',\n",
       "    b'print_page': b'16',\n",
       "    b'pub_date': b'2016-12-31T23:00:24+0000',\n",
       "    b'section_name': b'U.S.',\n",
       "    b'slideshow_credits': None,\n",
       "    b'snippet': b'Chief Justice John G. Roberts Jr. noted in his annual report that federal trial judges typically have 500 cases on their docket each year. The Supreme Court issued 62 decisions in its last term....',\n",
       "    b'source': b'The New York Times',\n",
       "    b'subsection_name': b'Politics',\n",
       "    b'type_of_material': b'News',\n",
       "    b'web_url': b'http://www.nytimes.com/2016/12/31/us/politics/chief-justice-salutes-trial-judges-for-tackling-daunting-workload.html',\n",
       "    b'word_count': b'605'},\n",
       "   {b'_id': b'5868387595d0e03926078812',\n",
       "    b'abstract': None,\n",
       "    b'blog': [],\n",
       "    b'byline': {b'original': b'By CAITLIN LOVINGER',\n",
       "     b'person': [{b'firstname': b'Caitlin',\n",
       "       b'lastname': b'LOVINGER',\n",
       "       b'organization': b'',\n",
       "       b'rank': 1,\n",
       "       b'role': b'reported'}]},\n",
       "    b'document_type': b'article',\n",
       "    b'headline': {b'content_kicker': b'Wordplay',\n",
       "     b'kicker': b'Wordplay',\n",
       "     b'main': b'Rolling in the Aisles'},\n",
       "    b'keywords': [{b'is_major': b'N',\n",
       "      b'name': b'subject',\n",
       "      b'rank': b'1',\n",
       "      b'value': b'Crossword Puzzles'}],\n",
       "    b'lead_paragraph': b'Matthew Sewell ushers in the new year.',\n",
       "    b'multimedia': [{b'height': 126,\n",
       "      b'legacy': {b'wide': b'images/2017/01/03/crosswords/01wordplay-dr-strangelove/02wordplay-dr-strangelove-thumbWide.jpg',\n",
       "       b'wideheight': b'126',\n",
       "       b'widewidth': b'190'},\n",
       "      b'subtype': b'wide',\n",
       "      b'type': b'image',\n",
       "      b'url': b'images/2017/01/03/crosswords/01wordplay-dr-strangelove/02wordplay-dr-strangelove-thumbWide.jpg',\n",
       "      b'width': 190},\n",
       "     {b'height': 430,\n",
       "      b'legacy': {b'xlarge': b'images/2017/01/03/crosswords/01wordplay-dr-strangelove/02wordplay-dr-strangelove-articleLarge.jpg',\n",
       "       b'xlargeheight': b'430',\n",
       "       b'xlargewidth': b'600'},\n",
       "      b'subtype': b'xlarge',\n",
       "      b'type': b'image',\n",
       "      b'url': b'images/2017/01/03/crosswords/01wordplay-dr-strangelove/02wordplay-dr-strangelove-articleLarge.jpg',\n",
       "      b'width': 600},\n",
       "     {b'height': 75,\n",
       "      b'legacy': {b'thumbnail': b'images/2017/01/03/crosswords/01wordplay-dr-strangelove/02wordplay-dr-strangelove-thumbStandard.jpg',\n",
       "       b'thumbnailheight': b'75',\n",
       "       b'thumbnailwidth': b'75'},\n",
       "      b'subtype': b'thumbnail',\n",
       "      b'type': b'image',\n",
       "      b'url': b'images/2017/01/03/crosswords/01wordplay-dr-strangelove/02wordplay-dr-strangelove-thumbStandard.jpg',\n",
       "      b'width': 75}],\n",
       "    b'news_desk': b'Games',\n",
       "    b'print_page': None,\n",
       "    b'pub_date': b'2016-12-31T23:00:02+0000',\n",
       "    b'section_name': b'Crosswords & Games',\n",
       "    b'slideshow_credits': None,\n",
       "    b'snippet': b'Matthew Sewell ushers in the new year....',\n",
       "    b'source': b'The New York Times',\n",
       "    b'subsection_name': None,\n",
       "    b'type_of_material': b'News',\n",
       "    b'web_url': b'http://www.nytimes.com/2016/12/31/crosswords/rolling-in-the-aisles.html',\n",
       "    b'word_count': b'756'},\n",
       "   {b'_id': b'5868357695d0e03926078811',\n",
       "    b'abstract': None,\n",
       "    b'blog': [],\n",
       "    b'byline': {b'organization': b'REUTERS',\n",
       "     b'original': b'By REUTERS',\n",
       "     b'person': []},\n",
       "    b'document_type': b'multimedia',\n",
       "    b'headline': {b'main': b'U.N. Security Council Adopts Syria Resolution'},\n",
       "    b'keywords': [{b'is_major': b'N',\n",
       "      b'name': b'subject',\n",
       "      b'rank': b'1',\n",
       "      b'value': b'International Relations'},\n",
       "     {b'is_major': b'N',\n",
       "      b'name': b'organizations',\n",
       "      b'rank': b'2',\n",
       "      b'value': b'Security Council (UN)'},\n",
       "     {b'is_major': b'N',\n",
       "      b'name': b'glocations',\n",
       "      b'rank': b'3',\n",
       "      b'value': b'Syria'},\n",
       "     {b'is_major': b'N',\n",
       "      b'name': b'glocations',\n",
       "      b'rank': b'4',\n",
       "      b'value': b'Russia'},\n",
       "     {b'is_major': b'N',\n",
       "      b'name': b'glocations',\n",
       "      b'rank': b'5',\n",
       "      b'value': b'Turkey'}],\n",
       "    b'lead_paragraph': b'The United Nations Security Council on Saturday unanimously endorsed the agreement brokered by Russia and Turkey for a cease-fire in Syria that has been in force for two days.',\n",
       "    b'multimedia': [{b'height': 126,\n",
       "      b'legacy': {b'wide': b'images/2017/01/01/world/01SYRIA/01SYRIA-thumbWide.jpg',\n",
       "       b'wideheight': b'126',\n",
       "       b'widewidth': b'190'},\n",
       "      b'subtype': b'wide',\n",
       "      b'type': b'image',\n",
       "      b'url': b'images/2017/01/01/world/01SYRIA/01SYRIA-thumbWide.jpg',\n",
       "      b'width': 190},\n",
       "     {b'height': 447,\n",
       "      b'legacy': {b'xlarge': b'images/2017/01/01/world/01SYRIA/01SYRIA-articleLarge.jpg',\n",
       "       b'xlargeheight': b'447',\n",
       "       b'xlargewidth': b'600'},\n",
       "      b'subtype': b'xlarge',\n",
       "      b'type': b'image',\n",
       "      b'url': b'images/2017/01/01/world/01SYRIA/01SYRIA-articleLarge.jpg',\n",
       "      b'width': 600},\n",
       "     {b'height': 75,\n",
       "      b'legacy': {b'thumbnail': b'images/2017/01/01/world/01SYRIA/01SYRIA-thumbStandard.jpg',\n",
       "       b'thumbnailheight': b'75',\n",
       "       b'thumbnailwidth': b'75'},\n",
       "      b'subtype': b'thumbnail',\n",
       "      b'type': b'image',\n",
       "      b'url': b'images/2017/01/01/world/01SYRIA/01SYRIA-thumbStandard.jpg',\n",
       "      b'width': 75}],\n",
       "    b'news_desk': b'World / Middle East',\n",
       "    b'print_page': None,\n",
       "    b'pub_date': b'2016-12-31T22:47:14+0000',\n",
       "    b'section_name': b'World',\n",
       "    b'slideshow_credits': None,\n",
       "    b'snippet': b'The United Nations Security Council on Saturday unanimously endorsed the agreement brokered by Russia and Turkey for a cease-fire in Syria that has been in force for two days....',\n",
       "    b'source': b'Reuters',\n",
       "    b'subsection_name': b'Middle East',\n",
       "    b'type_of_material': None,\n",
       "    b'web_url': b'http://www.nytimes.com/video/world/middleeast/100000004849036/un-security-council-adopts-syria-resolution.html',\n",
       "    b'word_count': b'29'},\n",
       "   {b'_id': b'5868351895d0e03926078810',\n",
       "    b'abstract': None,\n",
       "    b'blog': [],\n",
       "    b'byline': {b'organization': b'THE ASSOCIATED PRESS',\n",
       "     b'original': b'By THE ASSOCIATED PRESS',\n",
       "     b'person': []},\n",
       "    b'document_type': b'article',\n",
       "    b'headline': {b'main': b'Mitchell, Mavunga Launch Ohio St. Past Indiana 92-82',\n",
       "     b'print_headline': b'Mitchell, Mavunga Launch Ohio St. Past Indiana 92-82'},\n",
       "    b'keywords': [],\n",
       "    b'lead_paragraph': b'Kelsey Mitchell scored 31 points and Stephanie Mavunga grabbed a career-high 17 rebounds and scored 14 points as No. 14 Ohio State beat Indiana 92-82 on Saturday.',\n",
       "    b'multimedia': [],\n",
       "    b'news_desk': None,\n",
       "    b'print_page': None,\n",
       "    b'pub_date': b'2016-12-31T22:45:38+0000',\n",
       "    b'section_name': b'Sports',\n",
       "    b'slideshow_credits': None,\n",
       "    b'snippet': b'Kelsey Mitchell scored 31 points and Stephanie Mavunga grabbed a career-high 17 rebounds and scored 14 points as No. 14 Ohio State beat Indiana 92-82 on Saturday....',\n",
       "    b'source': b'AP',\n",
       "    b'subsection_name': b'College Basketball',\n",
       "    b'type_of_material': b'News',\n",
       "    b'web_url': b'http://www.nytimes.com/aponline/2016/12/31/sports/ncaabasketball/ap-bkw-t25-ohio-st-indiana.html',\n",
       "    b'word_count': b'159'},\n",
       "   {b'_id': b'5868351595d0e0392607880f',\n",
       "    b'abstract': None,\n",
       "    b'blog': [],\n",
       "    b'byline': {b'organization': b'THE ASSOCIATED PRESS',\n",
       "     b'original': b'By THE ASSOCIATED PRESS',\n",
       "     b'person': []},\n",
       "    b'document_type': b'article',\n",
       "    b'headline': {b'main': b'Congo President to Leave After 2017 Vote Under New Deal',\n",
       "     b'print_headline': b'Congo President to Leave After 2017 Vote Under New Deal'},\n",
       "    b'keywords': [],\n",
       "    b'lead_paragraph': b'Political parties in Congo signed a deal late Saturday that calls for President Joseph Kabila to leave power after an election that now will be held by the end of next year instead of mid-2018 as his party originally proposed.',\n",
       "    b'multimedia': [],\n",
       "    b'news_desk': None,\n",
       "    b'print_page': None,\n",
       "    b'pub_date': b'2016-12-31T22:45:37+0000',\n",
       "    b'section_name': b'World',\n",
       "    b'slideshow_credits': None,\n",
       "    b'snippet': b'Political parties in Congo signed a deal late Saturday that calls for President Joseph Kabila to leave power after an election that now will be held by the end of next year instead of mid-2018 as his party originally proposed....',\n",
       "    b'source': b'AP',\n",
       "    b'subsection_name': b'Africa',\n",
       "    b'type_of_material': b'News',\n",
       "    b'web_url': b'http://www.nytimes.com/aponline/2016/12/31/world/africa/ap-af-congo-politics.html',\n",
       "    b'word_count': b'694'},\n",
       "   {b'_id': b'5868346195d0e0392607880e',\n",
       "    b'abstract': None,\n",
       "    b'blog': [],\n",
       "    b'byline': {b'organization': b'THE ASSOCIATED PRESS',\n",
       "     b'original': b'By THE ASSOCIATED PRESS',\n",
       "     b'person': []},\n",
       "    b'document_type': b'article',\n",
       "    b'headline': {b'main': b'Texas Judge Halts Federal Transgender Health Protections',\n",
       "     b'print_headline': b'Texas Judge Halts Federal Transgender Health Protections'},\n",
       "    b'keywords': [],\n",
       "    b'lead_paragraph': b'A federal judge in Texas on Saturday ordered a halt to another Obama administration effort to strengthen transgender rights, this time over health rules that social conservatives say could force doctors to violate their religious beliefs.',\n",
       "    b'multimedia': [],\n",
       "    b'news_desk': None,\n",
       "    b'print_page': None,\n",
       "    b'pub_date': b'2016-12-31T22:42:36+0000',\n",
       "    b'section_name': b'U.S.',\n",
       "    b'slideshow_credits': None,\n",
       "    b'snippet': b'A federal judge in Texas on Saturday ordered a halt to another Obama administration effort to strengthen transgender rights, this time over health rules that social conservatives say could force doctors to violate their religious beliefs....',\n",
       "    b'source': b'AP',\n",
       "    b'subsection_name': None,\n",
       "    b'type_of_material': b'News',\n",
       "    b'web_url': b'http://www.nytimes.com/aponline/2016/12/31/us/ap-us-lgbt-rights-health-lawsuit.html',\n",
       "    b'word_count': b'573'}],\n",
       "  b'meta': {b'hits': 20942, b'offset': 10, b'time': 45}},\n",
       " b'status': b'OK'}"
      ]
     },
     "execution_count": 140,
     "metadata": {},
     "output_type": "execute_result"
    }
   ],
   "source": [
    "articles"
   ]
  },
  {
   "cell_type": "code",
   "execution_count": 134,
   "metadata": {
    "collapsed": false
   },
   "outputs": [
    {
     "ename": "NameError",
     "evalue": "name 'unicode' is not defined",
     "traceback": [
      "\u001b[0;31m---------------------------------------------------------------------------\u001b[0m",
      "\u001b[0;31mNameError\u001b[0m                                 Traceback (most recent call last)",
      "\u001b[0;32m<ipython-input-134-5b90171041ed>\u001b[0m in \u001b[0;36m<module>\u001b[0;34m()\u001b[0m\n\u001b[1;32m      1\u001b[0m \u001b[0;32mif\u001b[0m \u001b[0mcontent\u001b[0m\u001b[0;34m:\u001b[0m\u001b[0;34m\u001b[0m\u001b[0m\n\u001b[0;32m----> 2\u001b[0;31m     \u001b[0marticles\u001b[0m \u001b[0;34m=\u001b[0m \u001b[0mconvert\u001b[0m\u001b[0;34m(\u001b[0m\u001b[0mjson\u001b[0m\u001b[0;34m.\u001b[0m\u001b[0mloads\u001b[0m\u001b[0;34m(\u001b[0m\u001b[0mcontent\u001b[0m\u001b[0;34m)\u001b[0m\u001b[0;34m)\u001b[0m\u001b[0;34m\u001b[0m\u001b[0m\n\u001b[0m\u001b[1;32m      3\u001b[0m     \u001b[0;31m# if there are articles here\u001b[0m\u001b[0;34m\u001b[0m\u001b[0;34m\u001b[0m\u001b[0m\n\u001b[1;32m      4\u001b[0m     \u001b[0;32mif\u001b[0m \u001b[0mlen\u001b[0m\u001b[0;34m(\u001b[0m\u001b[0marticles\u001b[0m\u001b[0;34m[\u001b[0m\u001b[0;34m\"response\"\u001b[0m\u001b[0;34m]\u001b[0m\u001b[0;34m[\u001b[0m\u001b[0;34m\"docs\"\u001b[0m\u001b[0;34m]\u001b[0m\u001b[0;34m)\u001b[0m \u001b[0;34m>=\u001b[0m \u001b[0;36m1\u001b[0m\u001b[0;34m:\u001b[0m\u001b[0;34m\u001b[0m\u001b[0m\n\u001b[1;32m      5\u001b[0m         \u001b[0;31m#json_file_name = getJsonFileName(date, page, json_file_path)\u001b[0m\u001b[0;34m\u001b[0m\u001b[0;34m\u001b[0m\u001b[0m\n",
      "\u001b[0;32m<ipython-input-133-379c215a4077>\u001b[0m in \u001b[0;36mconvert\u001b[0;34m(input)\u001b[0m\n\u001b[1;32m      2\u001b[0m \u001b[0;32mdef\u001b[0m \u001b[0mconvert\u001b[0m\u001b[0;34m(\u001b[0m\u001b[0minput\u001b[0m\u001b[0;34m)\u001b[0m\u001b[0;34m:\u001b[0m\u001b[0;34m\u001b[0m\u001b[0m\n\u001b[1;32m      3\u001b[0m     \u001b[0;32mif\u001b[0m \u001b[0misinstance\u001b[0m\u001b[0;34m(\u001b[0m\u001b[0minput\u001b[0m\u001b[0;34m,\u001b[0m \u001b[0mdict\u001b[0m\u001b[0;34m)\u001b[0m\u001b[0;34m:\u001b[0m\u001b[0;34m\u001b[0m\u001b[0m\n\u001b[0;32m----> 4\u001b[0;31m         \u001b[0;32mreturn\u001b[0m \u001b[0;34m{\u001b[0m\u001b[0mconvert\u001b[0m\u001b[0;34m(\u001b[0m\u001b[0mkey\u001b[0m\u001b[0;34m)\u001b[0m\u001b[0;34m:\u001b[0m \u001b[0mconvert\u001b[0m\u001b[0;34m(\u001b[0m\u001b[0mvalue\u001b[0m\u001b[0;34m)\u001b[0m \u001b[0;32mfor\u001b[0m \u001b[0mkey\u001b[0m\u001b[0;34m,\u001b[0m \u001b[0mvalue\u001b[0m \u001b[0;32min\u001b[0m \u001b[0minput\u001b[0m\u001b[0;34m.\u001b[0m\u001b[0mitems\u001b[0m\u001b[0;34m(\u001b[0m\u001b[0;34m)\u001b[0m\u001b[0;34m}\u001b[0m\u001b[0;34m\u001b[0m\u001b[0m\n\u001b[0m\u001b[1;32m      5\u001b[0m     \u001b[0;32melif\u001b[0m \u001b[0misinstance\u001b[0m\u001b[0;34m(\u001b[0m\u001b[0minput\u001b[0m\u001b[0;34m,\u001b[0m \u001b[0mlist\u001b[0m\u001b[0;34m)\u001b[0m\u001b[0;34m:\u001b[0m\u001b[0;34m\u001b[0m\u001b[0m\n\u001b[1;32m      6\u001b[0m         \u001b[0;32mreturn\u001b[0m \u001b[0;34m[\u001b[0m\u001b[0mconvert\u001b[0m\u001b[0;34m(\u001b[0m\u001b[0melement\u001b[0m\u001b[0;34m)\u001b[0m \u001b[0;32mfor\u001b[0m \u001b[0melement\u001b[0m \u001b[0;32min\u001b[0m \u001b[0minput\u001b[0m\u001b[0;34m]\u001b[0m\u001b[0;34m\u001b[0m\u001b[0m\n",
      "\u001b[0;32m<ipython-input-133-379c215a4077>\u001b[0m in \u001b[0;36m<dictcomp>\u001b[0;34m(.0)\u001b[0m\n\u001b[1;32m      2\u001b[0m \u001b[0;32mdef\u001b[0m \u001b[0mconvert\u001b[0m\u001b[0;34m(\u001b[0m\u001b[0minput\u001b[0m\u001b[0;34m)\u001b[0m\u001b[0;34m:\u001b[0m\u001b[0;34m\u001b[0m\u001b[0m\n\u001b[1;32m      3\u001b[0m     \u001b[0;32mif\u001b[0m \u001b[0misinstance\u001b[0m\u001b[0;34m(\u001b[0m\u001b[0minput\u001b[0m\u001b[0;34m,\u001b[0m \u001b[0mdict\u001b[0m\u001b[0;34m)\u001b[0m\u001b[0;34m:\u001b[0m\u001b[0;34m\u001b[0m\u001b[0m\n\u001b[0;32m----> 4\u001b[0;31m         \u001b[0;32mreturn\u001b[0m \u001b[0;34m{\u001b[0m\u001b[0mconvert\u001b[0m\u001b[0;34m(\u001b[0m\u001b[0mkey\u001b[0m\u001b[0;34m)\u001b[0m\u001b[0;34m:\u001b[0m \u001b[0mconvert\u001b[0m\u001b[0;34m(\u001b[0m\u001b[0mvalue\u001b[0m\u001b[0;34m)\u001b[0m \u001b[0;32mfor\u001b[0m \u001b[0mkey\u001b[0m\u001b[0;34m,\u001b[0m \u001b[0mvalue\u001b[0m \u001b[0;32min\u001b[0m \u001b[0minput\u001b[0m\u001b[0;34m.\u001b[0m\u001b[0mitems\u001b[0m\u001b[0;34m(\u001b[0m\u001b[0;34m)\u001b[0m\u001b[0;34m}\u001b[0m\u001b[0;34m\u001b[0m\u001b[0m\n\u001b[0m\u001b[1;32m      5\u001b[0m     \u001b[0;32melif\u001b[0m \u001b[0misinstance\u001b[0m\u001b[0;34m(\u001b[0m\u001b[0minput\u001b[0m\u001b[0;34m,\u001b[0m \u001b[0mlist\u001b[0m\u001b[0;34m)\u001b[0m\u001b[0;34m:\u001b[0m\u001b[0;34m\u001b[0m\u001b[0m\n\u001b[1;32m      6\u001b[0m         \u001b[0;32mreturn\u001b[0m \u001b[0;34m[\u001b[0m\u001b[0mconvert\u001b[0m\u001b[0;34m(\u001b[0m\u001b[0melement\u001b[0m\u001b[0;34m)\u001b[0m \u001b[0;32mfor\u001b[0m \u001b[0melement\u001b[0m \u001b[0;32min\u001b[0m \u001b[0minput\u001b[0m\u001b[0;34m]\u001b[0m\u001b[0;34m\u001b[0m\u001b[0m\n",
      "\u001b[0;32m<ipython-input-133-379c215a4077>\u001b[0m in \u001b[0;36mconvert\u001b[0;34m(input)\u001b[0m\n\u001b[1;32m      2\u001b[0m \u001b[0;32mdef\u001b[0m \u001b[0mconvert\u001b[0m\u001b[0;34m(\u001b[0m\u001b[0minput\u001b[0m\u001b[0;34m)\u001b[0m\u001b[0;34m:\u001b[0m\u001b[0;34m\u001b[0m\u001b[0m\n\u001b[1;32m      3\u001b[0m     \u001b[0;32mif\u001b[0m \u001b[0misinstance\u001b[0m\u001b[0;34m(\u001b[0m\u001b[0minput\u001b[0m\u001b[0;34m,\u001b[0m \u001b[0mdict\u001b[0m\u001b[0;34m)\u001b[0m\u001b[0;34m:\u001b[0m\u001b[0;34m\u001b[0m\u001b[0m\n\u001b[0;32m----> 4\u001b[0;31m         \u001b[0;32mreturn\u001b[0m \u001b[0;34m{\u001b[0m\u001b[0mconvert\u001b[0m\u001b[0;34m(\u001b[0m\u001b[0mkey\u001b[0m\u001b[0;34m)\u001b[0m\u001b[0;34m:\u001b[0m \u001b[0mconvert\u001b[0m\u001b[0;34m(\u001b[0m\u001b[0mvalue\u001b[0m\u001b[0;34m)\u001b[0m \u001b[0;32mfor\u001b[0m \u001b[0mkey\u001b[0m\u001b[0;34m,\u001b[0m \u001b[0mvalue\u001b[0m \u001b[0;32min\u001b[0m \u001b[0minput\u001b[0m\u001b[0;34m.\u001b[0m\u001b[0mitems\u001b[0m\u001b[0;34m(\u001b[0m\u001b[0;34m)\u001b[0m\u001b[0;34m}\u001b[0m\u001b[0;34m\u001b[0m\u001b[0m\n\u001b[0m\u001b[1;32m      5\u001b[0m     \u001b[0;32melif\u001b[0m \u001b[0misinstance\u001b[0m\u001b[0;34m(\u001b[0m\u001b[0minput\u001b[0m\u001b[0;34m,\u001b[0m \u001b[0mlist\u001b[0m\u001b[0;34m)\u001b[0m\u001b[0;34m:\u001b[0m\u001b[0;34m\u001b[0m\u001b[0m\n\u001b[1;32m      6\u001b[0m         \u001b[0;32mreturn\u001b[0m \u001b[0;34m[\u001b[0m\u001b[0mconvert\u001b[0m\u001b[0;34m(\u001b[0m\u001b[0melement\u001b[0m\u001b[0;34m)\u001b[0m \u001b[0;32mfor\u001b[0m \u001b[0melement\u001b[0m \u001b[0;32min\u001b[0m \u001b[0minput\u001b[0m\u001b[0;34m]\u001b[0m\u001b[0;34m\u001b[0m\u001b[0m\n",
      "\u001b[0;32m<ipython-input-133-379c215a4077>\u001b[0m in \u001b[0;36m<dictcomp>\u001b[0;34m(.0)\u001b[0m\n\u001b[1;32m      2\u001b[0m \u001b[0;32mdef\u001b[0m \u001b[0mconvert\u001b[0m\u001b[0;34m(\u001b[0m\u001b[0minput\u001b[0m\u001b[0;34m)\u001b[0m\u001b[0;34m:\u001b[0m\u001b[0;34m\u001b[0m\u001b[0m\n\u001b[1;32m      3\u001b[0m     \u001b[0;32mif\u001b[0m \u001b[0misinstance\u001b[0m\u001b[0;34m(\u001b[0m\u001b[0minput\u001b[0m\u001b[0;34m,\u001b[0m \u001b[0mdict\u001b[0m\u001b[0;34m)\u001b[0m\u001b[0;34m:\u001b[0m\u001b[0;34m\u001b[0m\u001b[0m\n\u001b[0;32m----> 4\u001b[0;31m         \u001b[0;32mreturn\u001b[0m \u001b[0;34m{\u001b[0m\u001b[0mconvert\u001b[0m\u001b[0;34m(\u001b[0m\u001b[0mkey\u001b[0m\u001b[0;34m)\u001b[0m\u001b[0;34m:\u001b[0m \u001b[0mconvert\u001b[0m\u001b[0;34m(\u001b[0m\u001b[0mvalue\u001b[0m\u001b[0;34m)\u001b[0m \u001b[0;32mfor\u001b[0m \u001b[0mkey\u001b[0m\u001b[0;34m,\u001b[0m \u001b[0mvalue\u001b[0m \u001b[0;32min\u001b[0m \u001b[0minput\u001b[0m\u001b[0;34m.\u001b[0m\u001b[0mitems\u001b[0m\u001b[0;34m(\u001b[0m\u001b[0;34m)\u001b[0m\u001b[0;34m}\u001b[0m\u001b[0;34m\u001b[0m\u001b[0m\n\u001b[0m\u001b[1;32m      5\u001b[0m     \u001b[0;32melif\u001b[0m \u001b[0misinstance\u001b[0m\u001b[0;34m(\u001b[0m\u001b[0minput\u001b[0m\u001b[0;34m,\u001b[0m \u001b[0mlist\u001b[0m\u001b[0;34m)\u001b[0m\u001b[0;34m:\u001b[0m\u001b[0;34m\u001b[0m\u001b[0m\n\u001b[1;32m      6\u001b[0m         \u001b[0;32mreturn\u001b[0m \u001b[0;34m[\u001b[0m\u001b[0mconvert\u001b[0m\u001b[0;34m(\u001b[0m\u001b[0melement\u001b[0m\u001b[0;34m)\u001b[0m \u001b[0;32mfor\u001b[0m \u001b[0melement\u001b[0m \u001b[0;32min\u001b[0m \u001b[0minput\u001b[0m\u001b[0;34m]\u001b[0m\u001b[0;34m\u001b[0m\u001b[0m\n",
      "\u001b[0;32m<ipython-input-133-379c215a4077>\u001b[0m in \u001b[0;36mconvert\u001b[0;34m(input)\u001b[0m\n\u001b[1;32m      2\u001b[0m \u001b[0;32mdef\u001b[0m \u001b[0mconvert\u001b[0m\u001b[0;34m(\u001b[0m\u001b[0minput\u001b[0m\u001b[0;34m)\u001b[0m\u001b[0;34m:\u001b[0m\u001b[0;34m\u001b[0m\u001b[0m\n\u001b[1;32m      3\u001b[0m     \u001b[0;32mif\u001b[0m \u001b[0misinstance\u001b[0m\u001b[0;34m(\u001b[0m\u001b[0minput\u001b[0m\u001b[0;34m,\u001b[0m \u001b[0mdict\u001b[0m\u001b[0;34m)\u001b[0m\u001b[0;34m:\u001b[0m\u001b[0;34m\u001b[0m\u001b[0m\n\u001b[0;32m----> 4\u001b[0;31m         \u001b[0;32mreturn\u001b[0m \u001b[0;34m{\u001b[0m\u001b[0mconvert\u001b[0m\u001b[0;34m(\u001b[0m\u001b[0mkey\u001b[0m\u001b[0;34m)\u001b[0m\u001b[0;34m:\u001b[0m \u001b[0mconvert\u001b[0m\u001b[0;34m(\u001b[0m\u001b[0mvalue\u001b[0m\u001b[0;34m)\u001b[0m \u001b[0;32mfor\u001b[0m \u001b[0mkey\u001b[0m\u001b[0;34m,\u001b[0m \u001b[0mvalue\u001b[0m \u001b[0;32min\u001b[0m \u001b[0minput\u001b[0m\u001b[0;34m.\u001b[0m\u001b[0mitems\u001b[0m\u001b[0;34m(\u001b[0m\u001b[0;34m)\u001b[0m\u001b[0;34m}\u001b[0m\u001b[0;34m\u001b[0m\u001b[0m\n\u001b[0m\u001b[1;32m      5\u001b[0m     \u001b[0;32melif\u001b[0m \u001b[0misinstance\u001b[0m\u001b[0;34m(\u001b[0m\u001b[0minput\u001b[0m\u001b[0;34m,\u001b[0m \u001b[0mlist\u001b[0m\u001b[0;34m)\u001b[0m\u001b[0;34m:\u001b[0m\u001b[0;34m\u001b[0m\u001b[0m\n\u001b[1;32m      6\u001b[0m         \u001b[0;32mreturn\u001b[0m \u001b[0;34m[\u001b[0m\u001b[0mconvert\u001b[0m\u001b[0;34m(\u001b[0m\u001b[0melement\u001b[0m\u001b[0;34m)\u001b[0m \u001b[0;32mfor\u001b[0m \u001b[0melement\u001b[0m \u001b[0;32min\u001b[0m \u001b[0minput\u001b[0m\u001b[0;34m]\u001b[0m\u001b[0;34m\u001b[0m\u001b[0m\n",
      "\u001b[0;32m<ipython-input-133-379c215a4077>\u001b[0m in \u001b[0;36m<dictcomp>\u001b[0;34m(.0)\u001b[0m\n\u001b[1;32m      2\u001b[0m \u001b[0;32mdef\u001b[0m \u001b[0mconvert\u001b[0m\u001b[0;34m(\u001b[0m\u001b[0minput\u001b[0m\u001b[0;34m)\u001b[0m\u001b[0;34m:\u001b[0m\u001b[0;34m\u001b[0m\u001b[0m\n\u001b[1;32m      3\u001b[0m     \u001b[0;32mif\u001b[0m \u001b[0misinstance\u001b[0m\u001b[0;34m(\u001b[0m\u001b[0minput\u001b[0m\u001b[0;34m,\u001b[0m \u001b[0mdict\u001b[0m\u001b[0;34m)\u001b[0m\u001b[0;34m:\u001b[0m\u001b[0;34m\u001b[0m\u001b[0m\n\u001b[0;32m----> 4\u001b[0;31m         \u001b[0;32mreturn\u001b[0m \u001b[0;34m{\u001b[0m\u001b[0mconvert\u001b[0m\u001b[0;34m(\u001b[0m\u001b[0mkey\u001b[0m\u001b[0;34m)\u001b[0m\u001b[0;34m:\u001b[0m \u001b[0mconvert\u001b[0m\u001b[0;34m(\u001b[0m\u001b[0mvalue\u001b[0m\u001b[0;34m)\u001b[0m \u001b[0;32mfor\u001b[0m \u001b[0mkey\u001b[0m\u001b[0;34m,\u001b[0m \u001b[0mvalue\u001b[0m \u001b[0;32min\u001b[0m \u001b[0minput\u001b[0m\u001b[0;34m.\u001b[0m\u001b[0mitems\u001b[0m\u001b[0;34m(\u001b[0m\u001b[0;34m)\u001b[0m\u001b[0;34m}\u001b[0m\u001b[0;34m\u001b[0m\u001b[0m\n\u001b[0m\u001b[1;32m      5\u001b[0m     \u001b[0;32melif\u001b[0m \u001b[0misinstance\u001b[0m\u001b[0;34m(\u001b[0m\u001b[0minput\u001b[0m\u001b[0;34m,\u001b[0m \u001b[0mlist\u001b[0m\u001b[0;34m)\u001b[0m\u001b[0;34m:\u001b[0m\u001b[0;34m\u001b[0m\u001b[0m\n\u001b[1;32m      6\u001b[0m         \u001b[0;32mreturn\u001b[0m \u001b[0;34m[\u001b[0m\u001b[0mconvert\u001b[0m\u001b[0;34m(\u001b[0m\u001b[0melement\u001b[0m\u001b[0;34m)\u001b[0m \u001b[0;32mfor\u001b[0m \u001b[0melement\u001b[0m \u001b[0;32min\u001b[0m \u001b[0minput\u001b[0m\u001b[0;34m]\u001b[0m\u001b[0;34m\u001b[0m\u001b[0m\n",
      "\u001b[0;32m<ipython-input-133-379c215a4077>\u001b[0m in \u001b[0;36mconvert\u001b[0;34m(input)\u001b[0m\n\u001b[1;32m      5\u001b[0m     \u001b[0;32melif\u001b[0m \u001b[0misinstance\u001b[0m\u001b[0;34m(\u001b[0m\u001b[0minput\u001b[0m\u001b[0;34m,\u001b[0m \u001b[0mlist\u001b[0m\u001b[0;34m)\u001b[0m\u001b[0;34m:\u001b[0m\u001b[0;34m\u001b[0m\u001b[0m\n\u001b[1;32m      6\u001b[0m         \u001b[0;32mreturn\u001b[0m \u001b[0;34m[\u001b[0m\u001b[0mconvert\u001b[0m\u001b[0;34m(\u001b[0m\u001b[0melement\u001b[0m\u001b[0;34m)\u001b[0m \u001b[0;32mfor\u001b[0m \u001b[0melement\u001b[0m \u001b[0;32min\u001b[0m \u001b[0minput\u001b[0m\u001b[0;34m]\u001b[0m\u001b[0;34m\u001b[0m\u001b[0m\n\u001b[0;32m----> 7\u001b[0;31m     \u001b[0;32melif\u001b[0m \u001b[0misinstance\u001b[0m\u001b[0;34m(\u001b[0m\u001b[0minput\u001b[0m\u001b[0;34m,\u001b[0m \u001b[0municode\u001b[0m\u001b[0;34m)\u001b[0m\u001b[0;34m:\u001b[0m\u001b[0;34m\u001b[0m\u001b[0m\n\u001b[0m\u001b[1;32m      8\u001b[0m         \u001b[0;32mreturn\u001b[0m \u001b[0minput\u001b[0m\u001b[0;34m.\u001b[0m\u001b[0mencode\u001b[0m\u001b[0;34m(\u001b[0m\u001b[0;34m'utf-8'\u001b[0m\u001b[0;34m)\u001b[0m\u001b[0;34m\u001b[0m\u001b[0m\n\u001b[1;32m      9\u001b[0m     \u001b[0;32melse\u001b[0m\u001b[0;34m:\u001b[0m\u001b[0;34m\u001b[0m\u001b[0m\n",
      "\u001b[0;31mNameError\u001b[0m: name 'unicode' is not defined"
     ],
     "output_type": "error"
    }
   ],
   "source": [
    "if content:\n",
    "    articles = convert(json.loads(content))\n",
    "    # if there are articles here\n",
    "    if len(articles[\"response\"][\"docs\"]) >= 1:\n",
    "        #json_file_name = getJsonFileName(date, page, json_file_path)\n",
    "        json_file = open('tester.json', 'w')\n",
    "        json_file.write(content)\n",
    "        json_file.close()"
   ]
  },
  {
   "cell_type": "code",
   "execution_count": 84,
   "metadata": {
    "collapsed": false
   },
   "outputs": [],
   "source": [
    "kk = json.loads(content)"
   ]
  },
  {
   "cell_type": "code",
   "execution_count": 86,
   "metadata": {
    "collapsed": false
   },
   "outputs": [
    {
     "data": {
      "text/plain": [
       "{'copyright': 'Copyright (c) 2013 The New York Times Company.  All Rights Reserved.',\n",
       " 'response': {'docs': [{'_id': '58683eea95d0e03926078817',\n",
       "    'abstract': None,\n",
       "    'blog': [],\n",
       "    'byline': {'organization': 'REUTERS',\n",
       "     'original': 'By REUTERS',\n",
       "     'person': []},\n",
       "    'document_type': 'article',\n",
       "    'headline': {'main': \"Two Suicide Attackers Kill at Least Two in Syria's Tartous: State TV, Monitors\",\n",
       "     'print_headline': \"Two Suicide Attackers Kill at Least Two in Syria's Tartous: State TV, Monitors\"},\n",
       "    'keywords': [],\n",
       "    'lead_paragraph': 'Two suicide bombers detonated their explosives, killing at least two security officers in the Syrian coastal city of Tartous, Syrian state television reported after midnight on Sunday.',\n",
       "    'multimedia': [],\n",
       "    'news_desk': None,\n",
       "    'print_page': None,\n",
       "    'pub_date': '2016-12-31T23:27:28+0000',\n",
       "    'section_name': 'World',\n",
       "    'slideshow_credits': None,\n",
       "    'snippet': 'Two suicide bombers detonated their explosives, killing at least two security officers in the Syrian coastal city of Tartous, Syrian state television reported after midnight on Sunday....',\n",
       "    'source': 'Reuters',\n",
       "    'subsection_name': 'Europe',\n",
       "    'type_of_material': 'News',\n",
       "    'web_url': 'http://www.nytimes.com/reuters/2016/12/31/world/europe/31reuters-mideast-crisis-syria-blast.html',\n",
       "    'word_count': '229'},\n",
       "   {'_id': '58683aba95d0e03926078816',\n",
       "    'abstract': None,\n",
       "    'blog': [],\n",
       "    'byline': {'organization': 'THE ASSOCIATED PRESS',\n",
       "     'original': 'By THE ASSOCIATED PRESS',\n",
       "     'person': []},\n",
       "    'document_type': 'article',\n",
       "    'headline': {'main': 'Police Say Pilot on Canadian Airline Found Passed Out Drunk',\n",
       "     'print_headline': 'Police Say Pilot on Canadian Airline Found Passed Out Drunk'},\n",
       "    'keywords': [],\n",
       "    'lead_paragraph': 'Canadian police have charged a pilot for Sunwing Airlines with impairment after he was allegedly found passed out over his seat before takeoff early Saturday.',\n",
       "    'multimedia': [],\n",
       "    'news_desk': None,\n",
       "    'print_page': None,\n",
       "    'pub_date': '2016-12-31T23:09:40+0000',\n",
       "    'section_name': 'World',\n",
       "    'slideshow_credits': None,\n",
       "    'snippet': 'Canadian police have charged a pilot for Sunwing Airlines with impairment after he was allegedly found passed out over his seat before takeoff early Saturday....',\n",
       "    'source': 'AP',\n",
       "    'subsection_name': None,\n",
       "    'type_of_material': 'News',\n",
       "    'web_url': 'http://www.nytimes.com/aponline/2016/12/31/world/ap-cn-canada-impaired-pilot.html',\n",
       "    'word_count': '472'},\n",
       "   {'_id': '5868394595d0e03926078815',\n",
       "    'abstract': None,\n",
       "    'blog': [],\n",
       "    'byline': {'organization': 'REUTERS',\n",
       "     'original': 'By REUTERS',\n",
       "     'person': []},\n",
       "    'document_type': 'article',\n",
       "    'headline': {'main': 'Congo Rulng Party, Opposition Sign Deal for Kabila to Step Down',\n",
       "     'print_headline': 'Congo Rulng Party, Opposition Sign Deal for Kabila to Step Down'},\n",
       "    'keywords': [],\n",
       "    'lead_paragraph': \"Congo's opposition leaders signed a deal with the party of President Joseph Kabila on Saturday that will require him to step down after elections that must take place before the end of 2017.\",\n",
       "    'multimedia': [],\n",
       "    'news_desk': None,\n",
       "    'print_page': None,\n",
       "    'pub_date': '2016-12-31T23:03:27+0000',\n",
       "    'section_name': 'World',\n",
       "    'slideshow_credits': None,\n",
       "    'snippet': \"Congo's opposition leaders signed a deal with the party of President Joseph Kabila on Saturday that will require him to step down after elections that must take place before the end of 2017....\",\n",
       "    'source': 'Reuters',\n",
       "    'subsection_name': 'Africa',\n",
       "    'type_of_material': 'News',\n",
       "    'web_url': 'http://www.nytimes.com/reuters/2016/12/31/world/africa/31reuters-congo-politics.html',\n",
       "    'word_count': '339'},\n",
       "   {'_id': '586838a195d0e03926078814',\n",
       "    'abstract': None,\n",
       "    'blog': [],\n",
       "    'byline': {'organization': 'THE ASSOCIATED PRESS',\n",
       "     'original': 'By THE ASSOCIATED PRESS',\n",
       "     'person': []},\n",
       "    'document_type': 'article',\n",
       "    'headline': {'main': 'Kim Burrell Under Fire for Comments About Gays and Lesbians',\n",
       "     'print_headline': 'Kim Burrell Under Fire for Comments About Gays and Lesbians'},\n",
       "    'keywords': [],\n",
       "    'lead_paragraph': 'Gospel singer Kim Burrell says she makes \"no excuses or apologies\" for a sermon at a Houston church where she referred to gays and lesbians as perverted.',\n",
       "    'multimedia': [],\n",
       "    'news_desk': None,\n",
       "    'print_page': None,\n",
       "    'pub_date': '2016-12-31T23:00:40+0000',\n",
       "    'section_name': 'U.S.',\n",
       "    'slideshow_credits': None,\n",
       "    'snippet': 'Gospel singer Kim Burrell says she makes \"no excuses or apologies\" for a sermon at a Houston church where she referred to gays and lesbians as perverted....',\n",
       "    'source': 'AP',\n",
       "    'subsection_name': None,\n",
       "    'type_of_material': 'News',\n",
       "    'web_url': 'http://www.nytimes.com/aponline/2016/12/31/us/ap-us-music-burrell-gays.html',\n",
       "    'word_count': '215'},\n",
       "   {'_id': '5868389295d0e03926078813',\n",
       "    'abstract': None,\n",
       "    'blog': [],\n",
       "    'byline': {'contributor': '',\n",
       "     'original': 'By ADAM LIPTAK',\n",
       "     'person': [{'firstname': 'Adam',\n",
       "       'lastname': 'LIPTAK',\n",
       "       'organization': '',\n",
       "       'rank': 1,\n",
       "       'role': 'reported'}]},\n",
       "    'document_type': 'article',\n",
       "    'headline': {'main': 'Chief Justice Salutes Trial Judges for Tackling ‘Daunting Workload’',\n",
       "     'print_headline': 'Chief Justice Salutes Trial Judges’ Quiet Dedication'},\n",
       "    'keywords': [{'is_major': 'N',\n",
       "      'name': 'persons',\n",
       "      'rank': '1',\n",
       "      'value': 'Roberts, John G Jr'},\n",
       "     {'is_major': 'N',\n",
       "      'name': 'organizations',\n",
       "      'rank': '2',\n",
       "      'value': 'Supreme Court (US)'},\n",
       "     {'is_major': 'N',\n",
       "      'name': 'subject',\n",
       "      'rank': '3',\n",
       "      'value': 'Courts and the Judiciary'},\n",
       "     {'is_major': 'N',\n",
       "      'name': 'subject',\n",
       "      'rank': '4',\n",
       "      'value': 'Suits and Litigation (Civil)'}],\n",
       "    'lead_paragraph': 'Chief Justice John G. Roberts Jr. noted in his annual report that federal trial judges typically have 500 cases on their docket each year. The Supreme Court issued 62 decisions in its last term.',\n",
       "    'multimedia': [{'height': 126,\n",
       "      'legacy': {'wide': 'images/2017/01/01/us/01SCOTUS/01SCOTUS-thumbWide.jpg',\n",
       "       'wideheight': '126',\n",
       "       'widewidth': '190'},\n",
       "      'subtype': 'wide',\n",
       "      'type': 'image',\n",
       "      'url': 'images/2017/01/01/us/01SCOTUS/01SCOTUS-thumbWide.jpg',\n",
       "      'width': 190},\n",
       "     {'height': 403,\n",
       "      'legacy': {'xlarge': 'images/2017/01/01/us/01SCOTUS/01SCOTUS-articleLarge.jpg',\n",
       "       'xlargeheight': '403',\n",
       "       'xlargewidth': '600'},\n",
       "      'subtype': 'xlarge',\n",
       "      'type': 'image',\n",
       "      'url': 'images/2017/01/01/us/01SCOTUS/01SCOTUS-articleLarge.jpg',\n",
       "      'width': 600},\n",
       "     {'height': 75,\n",
       "      'legacy': {'thumbnail': 'images/2017/01/01/us/01SCOTUS/01SCOTUS-thumbStandard.jpg',\n",
       "       'thumbnailheight': '75',\n",
       "       'thumbnailwidth': '75'},\n",
       "      'subtype': 'thumbnail',\n",
       "      'type': 'image',\n",
       "      'url': 'images/2017/01/01/us/01SCOTUS/01SCOTUS-thumbStandard.jpg',\n",
       "      'width': 75}],\n",
       "    'news_desk': 'National',\n",
       "    'print_page': '16',\n",
       "    'pub_date': '2016-12-31T23:00:24+0000',\n",
       "    'section_name': 'U.S.',\n",
       "    'slideshow_credits': None,\n",
       "    'snippet': 'Chief Justice John G. Roberts Jr. noted in his annual report that federal trial judges typically have 500 cases on their docket each year. The Supreme Court issued 62 decisions in its last term....',\n",
       "    'source': 'The New York Times',\n",
       "    'subsection_name': 'Politics',\n",
       "    'type_of_material': 'News',\n",
       "    'web_url': 'http://www.nytimes.com/2016/12/31/us/politics/chief-justice-salutes-trial-judges-for-tackling-daunting-workload.html',\n",
       "    'word_count': '605'},\n",
       "   {'_id': '5868387595d0e03926078812',\n",
       "    'abstract': None,\n",
       "    'blog': [],\n",
       "    'byline': {'original': 'By CAITLIN LOVINGER',\n",
       "     'person': [{'firstname': 'Caitlin',\n",
       "       'lastname': 'LOVINGER',\n",
       "       'organization': '',\n",
       "       'rank': 1,\n",
       "       'role': 'reported'}]},\n",
       "    'document_type': 'article',\n",
       "    'headline': {'content_kicker': 'Wordplay',\n",
       "     'kicker': 'Wordplay',\n",
       "     'main': 'Rolling in the Aisles'},\n",
       "    'keywords': [{'is_major': 'N',\n",
       "      'name': 'subject',\n",
       "      'rank': '1',\n",
       "      'value': 'Crossword Puzzles'}],\n",
       "    'lead_paragraph': 'Matthew Sewell ushers in the new year.',\n",
       "    'multimedia': [{'height': 126,\n",
       "      'legacy': {'wide': 'images/2017/01/03/crosswords/01wordplay-dr-strangelove/02wordplay-dr-strangelove-thumbWide.jpg',\n",
       "       'wideheight': '126',\n",
       "       'widewidth': '190'},\n",
       "      'subtype': 'wide',\n",
       "      'type': 'image',\n",
       "      'url': 'images/2017/01/03/crosswords/01wordplay-dr-strangelove/02wordplay-dr-strangelove-thumbWide.jpg',\n",
       "      'width': 190},\n",
       "     {'height': 430,\n",
       "      'legacy': {'xlarge': 'images/2017/01/03/crosswords/01wordplay-dr-strangelove/02wordplay-dr-strangelove-articleLarge.jpg',\n",
       "       'xlargeheight': '430',\n",
       "       'xlargewidth': '600'},\n",
       "      'subtype': 'xlarge',\n",
       "      'type': 'image',\n",
       "      'url': 'images/2017/01/03/crosswords/01wordplay-dr-strangelove/02wordplay-dr-strangelove-articleLarge.jpg',\n",
       "      'width': 600},\n",
       "     {'height': 75,\n",
       "      'legacy': {'thumbnail': 'images/2017/01/03/crosswords/01wordplay-dr-strangelove/02wordplay-dr-strangelove-thumbStandard.jpg',\n",
       "       'thumbnailheight': '75',\n",
       "       'thumbnailwidth': '75'},\n",
       "      'subtype': 'thumbnail',\n",
       "      'type': 'image',\n",
       "      'url': 'images/2017/01/03/crosswords/01wordplay-dr-strangelove/02wordplay-dr-strangelove-thumbStandard.jpg',\n",
       "      'width': 75}],\n",
       "    'news_desk': 'Games',\n",
       "    'print_page': None,\n",
       "    'pub_date': '2016-12-31T23:00:02+0000',\n",
       "    'section_name': 'Crosswords & Games',\n",
       "    'slideshow_credits': None,\n",
       "    'snippet': 'Matthew Sewell ushers in the new year....',\n",
       "    'source': 'The New York Times',\n",
       "    'subsection_name': None,\n",
       "    'type_of_material': 'News',\n",
       "    'web_url': 'http://www.nytimes.com/2016/12/31/crosswords/rolling-in-the-aisles.html',\n",
       "    'word_count': '756'},\n",
       "   {'_id': '5868357695d0e03926078811',\n",
       "    'abstract': None,\n",
       "    'blog': [],\n",
       "    'byline': {'organization': 'REUTERS',\n",
       "     'original': 'By REUTERS',\n",
       "     'person': []},\n",
       "    'document_type': 'multimedia',\n",
       "    'headline': {'main': 'U.N. Security Council Adopts Syria Resolution'},\n",
       "    'keywords': [{'is_major': 'N',\n",
       "      'name': 'subject',\n",
       "      'rank': '1',\n",
       "      'value': 'International Relations'},\n",
       "     {'is_major': 'N',\n",
       "      'name': 'organizations',\n",
       "      'rank': '2',\n",
       "      'value': 'Security Council (UN)'},\n",
       "     {'is_major': 'N', 'name': 'glocations', 'rank': '3', 'value': 'Syria'},\n",
       "     {'is_major': 'N', 'name': 'glocations', 'rank': '4', 'value': 'Russia'},\n",
       "     {'is_major': 'N', 'name': 'glocations', 'rank': '5', 'value': 'Turkey'}],\n",
       "    'lead_paragraph': 'The United Nations Security Council on Saturday unanimously endorsed the agreement brokered by Russia and Turkey for a cease-fire in Syria that has been in force for two days.',\n",
       "    'multimedia': [{'height': 126,\n",
       "      'legacy': {'wide': 'images/2017/01/01/world/01SYRIA/01SYRIA-thumbWide.jpg',\n",
       "       'wideheight': '126',\n",
       "       'widewidth': '190'},\n",
       "      'subtype': 'wide',\n",
       "      'type': 'image',\n",
       "      'url': 'images/2017/01/01/world/01SYRIA/01SYRIA-thumbWide.jpg',\n",
       "      'width': 190},\n",
       "     {'height': 447,\n",
       "      'legacy': {'xlarge': 'images/2017/01/01/world/01SYRIA/01SYRIA-articleLarge.jpg',\n",
       "       'xlargeheight': '447',\n",
       "       'xlargewidth': '600'},\n",
       "      'subtype': 'xlarge',\n",
       "      'type': 'image',\n",
       "      'url': 'images/2017/01/01/world/01SYRIA/01SYRIA-articleLarge.jpg',\n",
       "      'width': 600},\n",
       "     {'height': 75,\n",
       "      'legacy': {'thumbnail': 'images/2017/01/01/world/01SYRIA/01SYRIA-thumbStandard.jpg',\n",
       "       'thumbnailheight': '75',\n",
       "       'thumbnailwidth': '75'},\n",
       "      'subtype': 'thumbnail',\n",
       "      'type': 'image',\n",
       "      'url': 'images/2017/01/01/world/01SYRIA/01SYRIA-thumbStandard.jpg',\n",
       "      'width': 75}],\n",
       "    'news_desk': 'World / Middle East',\n",
       "    'print_page': None,\n",
       "    'pub_date': '2016-12-31T22:47:14+0000',\n",
       "    'section_name': 'World',\n",
       "    'slideshow_credits': None,\n",
       "    'snippet': 'The United Nations Security Council on Saturday unanimously endorsed the agreement brokered by Russia and Turkey for a cease-fire in Syria that has been in force for two days....',\n",
       "    'source': 'Reuters',\n",
       "    'subsection_name': 'Middle East',\n",
       "    'type_of_material': None,\n",
       "    'web_url': 'http://www.nytimes.com/video/world/middleeast/100000004849036/un-security-council-adopts-syria-resolution.html',\n",
       "    'word_count': '29'},\n",
       "   {'_id': '5868351895d0e03926078810',\n",
       "    'abstract': None,\n",
       "    'blog': [],\n",
       "    'byline': {'organization': 'THE ASSOCIATED PRESS',\n",
       "     'original': 'By THE ASSOCIATED PRESS',\n",
       "     'person': []},\n",
       "    'document_type': 'article',\n",
       "    'headline': {'main': 'Mitchell, Mavunga Launch Ohio St. Past Indiana 92-82',\n",
       "     'print_headline': 'Mitchell, Mavunga Launch Ohio St. Past Indiana 92-82'},\n",
       "    'keywords': [],\n",
       "    'lead_paragraph': 'Kelsey Mitchell scored 31 points and Stephanie Mavunga grabbed a career-high 17 rebounds and scored 14 points as No. 14 Ohio State beat Indiana 92-82 on Saturday.',\n",
       "    'multimedia': [],\n",
       "    'news_desk': None,\n",
       "    'print_page': None,\n",
       "    'pub_date': '2016-12-31T22:45:38+0000',\n",
       "    'section_name': 'Sports',\n",
       "    'slideshow_credits': None,\n",
       "    'snippet': 'Kelsey Mitchell scored 31 points and Stephanie Mavunga grabbed a career-high 17 rebounds and scored 14 points as No. 14 Ohio State beat Indiana 92-82 on Saturday....',\n",
       "    'source': 'AP',\n",
       "    'subsection_name': 'College Basketball',\n",
       "    'type_of_material': 'News',\n",
       "    'web_url': 'http://www.nytimes.com/aponline/2016/12/31/sports/ncaabasketball/ap-bkw-t25-ohio-st-indiana.html',\n",
       "    'word_count': '159'},\n",
       "   {'_id': '5868351595d0e0392607880f',\n",
       "    'abstract': None,\n",
       "    'blog': [],\n",
       "    'byline': {'organization': 'THE ASSOCIATED PRESS',\n",
       "     'original': 'By THE ASSOCIATED PRESS',\n",
       "     'person': []},\n",
       "    'document_type': 'article',\n",
       "    'headline': {'main': 'Congo President to Leave After 2017 Vote Under New Deal',\n",
       "     'print_headline': 'Congo President to Leave After 2017 Vote Under New Deal'},\n",
       "    'keywords': [],\n",
       "    'lead_paragraph': 'Political parties in Congo signed a deal late Saturday that calls for President Joseph Kabila to leave power after an election that now will be held by the end of next year instead of mid-2018 as his party originally proposed.',\n",
       "    'multimedia': [],\n",
       "    'news_desk': None,\n",
       "    'print_page': None,\n",
       "    'pub_date': '2016-12-31T22:45:37+0000',\n",
       "    'section_name': 'World',\n",
       "    'slideshow_credits': None,\n",
       "    'snippet': 'Political parties in Congo signed a deal late Saturday that calls for President Joseph Kabila to leave power after an election that now will be held by the end of next year instead of mid-2018 as his party originally proposed....',\n",
       "    'source': 'AP',\n",
       "    'subsection_name': 'Africa',\n",
       "    'type_of_material': 'News',\n",
       "    'web_url': 'http://www.nytimes.com/aponline/2016/12/31/world/africa/ap-af-congo-politics.html',\n",
       "    'word_count': '694'},\n",
       "   {'_id': '5868346195d0e0392607880e',\n",
       "    'abstract': None,\n",
       "    'blog': [],\n",
       "    'byline': {'organization': 'THE ASSOCIATED PRESS',\n",
       "     'original': 'By THE ASSOCIATED PRESS',\n",
       "     'person': []},\n",
       "    'document_type': 'article',\n",
       "    'headline': {'main': 'Texas Judge Halts Federal Transgender Health Protections',\n",
       "     'print_headline': 'Texas Judge Halts Federal Transgender Health Protections'},\n",
       "    'keywords': [],\n",
       "    'lead_paragraph': 'A federal judge in Texas on Saturday ordered a halt to another Obama administration effort to strengthen transgender rights, this time over health rules that social conservatives say could force doctors to violate their religious beliefs.',\n",
       "    'multimedia': [],\n",
       "    'news_desk': None,\n",
       "    'print_page': None,\n",
       "    'pub_date': '2016-12-31T22:42:36+0000',\n",
       "    'section_name': 'U.S.',\n",
       "    'slideshow_credits': None,\n",
       "    'snippet': 'A federal judge in Texas on Saturday ordered a halt to another Obama administration effort to strengthen transgender rights, this time over health rules that social conservatives say could force doctors to violate their religious beliefs....',\n",
       "    'source': 'AP',\n",
       "    'subsection_name': None,\n",
       "    'type_of_material': 'News',\n",
       "    'web_url': 'http://www.nytimes.com/aponline/2016/12/31/us/ap-us-lgbt-rights-health-lawsuit.html',\n",
       "    'word_count': '573'}],\n",
       "  'meta': {'hits': 20942, 'offset': 10, 'time': 45}},\n",
       " 'status': 'OK'}"
      ]
     },
     "execution_count": 86,
     "metadata": {},
     "output_type": "execute_result"
    }
   ],
   "source": [
    "kk"
   ]
  },
  {
   "cell_type": "code",
   "execution_count": null,
   "metadata": {
    "collapsed": true
   },
   "outputs": [],
   "source": [
    ""
   ]
  },
  {
   "cell_type": "code",
   "execution_count": null,
   "metadata": {
    "collapsed": true
   },
   "outputs": [],
   "source": [
    ""
   ]
  },
  {
   "cell_type": "code",
   "execution_count": null,
   "metadata": {
    "collapsed": true
   },
   "outputs": [],
   "source": [
    ""
   ]
  },
  {
   "cell_type": "code",
   "execution_count": null,
   "metadata": {
    "collapsed": true
   },
   "outputs": [],
   "source": [
    ""
   ]
  },
  {
   "cell_type": "code",
   "execution_count": null,
   "metadata": {
    "collapsed": true
   },
   "outputs": [],
   "source": [
    ""
   ]
  },
  {
   "cell_type": "code",
   "execution_count": null,
   "metadata": {
    "collapsed": true
   },
   "outputs": [],
   "source": [
    ""
   ]
  },
  {
   "cell_type": "code",
   "execution_count": null,
   "metadata": {
    "collapsed": true
   },
   "outputs": [],
   "source": [
    ""
   ]
  },
  {
   "cell_type": "code",
   "execution_count": 66,
   "metadata": {
    "collapsed": true
   },
   "outputs": [],
   "source": [
    "import pandas as pd"
   ]
  },
  {
   "cell_type": "code",
   "execution_count": 57,
   "metadata": {
    "collapsed": false
   },
   "outputs": [
    {
     "data": {
      "text/plain": [
       "'https://api.nytimes.com/svc/search/v2/articlesearch.json?begin_date=20161201&end_date=20161231&page=1&api-key=923f498f9f764c228a68501cf957355b'"
      ]
     },
     "execution_count": 57,
     "metadata": {},
     "output_type": "execute_result"
    }
   ],
   "source": [
    "base_url+search_query"
   ]
  },
  {
   "cell_type": "code",
   "execution_count": null,
   "metadata": {
    "collapsed": true
   },
   "outputs": [],
   "source": [
    "## ok now turn the json to csv."
   ]
  },
  {
   "cell_type": "code",
   "execution_count": 60,
   "metadata": {
    "collapsed": true
   },
   "outputs": [],
   "source": [
    "import json\n",
    "import csv"
   ]
  },
  {
   "cell_type": "code",
   "execution_count": 68,
   "metadata": {
    "collapsed": false
   },
   "outputs": [],
   "source": [
    "df = pd.read_json(data)"
   ]
  },
  {
   "cell_type": "code",
   "execution_count": 72,
   "metadata": {
    "collapsed": false
   },
   "outputs": [],
   "source": [
    "csv = df.to_csv()"
   ]
  },
  {
   "cell_type": "code",
   "execution_count": 76,
   "metadata": {
    "collapsed": false
   },
   "outputs": [],
   "source": [
    "## flattening the json"
   ]
  },
  {
   "cell_type": "code",
   "execution_count": 77,
   "metadata": {
    "collapsed": true
   },
   "outputs": [],
   "source": [
    "def flattenjson( b, delim ):\n",
    "    val = {}\n",
    "    for i in b.keys():\n",
    "        if isinstance( b[i], dict ):\n",
    "            get = flattenjson( b[i], delim )\n",
    "            for j in get.keys():\n",
    "                val[ i + delim + j ] = get[j]\n",
    "        else:\n",
    "            val[i] = b[i]\n",
    "\n",
    "    return val"
   ]
  },
  {
   "cell_type": "code",
   "execution_count": 79,
   "metadata": {
    "collapsed": false
   },
   "outputs": [
    {
     "data": {
      "text/plain": [
       "bytes"
      ]
     },
     "execution_count": 79,
     "metadata": {},
     "output_type": "execute_result"
    }
   ],
   "source": [
    "type(data)"
   ]
  },
  {
   "cell_type": "code",
   "execution_count": null,
   "metadata": {
    "collapsed": true
   },
   "outputs": [],
   "source": [
    ""
   ]
  },
  {
   "cell_type": "code",
   "execution_count": null,
   "metadata": {
    "collapsed": true
   },
   "outputs": [],
   "source": [
    ""
   ]
  },
  {
   "cell_type": "code",
   "execution_count": null,
   "metadata": {
    "collapsed": true
   },
   "outputs": [],
   "source": [
    ""
   ]
  },
  {
   "cell_type": "code",
   "execution_count": null,
   "metadata": {
    "collapsed": true
   },
   "outputs": [],
   "source": [
    ""
   ]
  },
  {
   "cell_type": "code",
   "execution_count": null,
   "metadata": {
    "collapsed": true
   },
   "outputs": [],
   "source": [
    ""
   ]
  }
 ],
 "metadata": {
  "kernelspec": {
   "display_name": "Python 3",
   "language": "python",
   "name": "python3"
  }
 },
 "nbformat": 4,
 "nbformat_minor": 0
}