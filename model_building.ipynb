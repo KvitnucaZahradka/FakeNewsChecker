{
 "cells": [
  {
   "cell_type": "code",
   "execution_count": 53,
   "metadata": {
    "collapsed": true
   },
   "outputs": [],
   "source": [
    "import pickle"
   ]
  },
  {
   "cell_type": "code",
   "execution_count": 54,
   "metadata": {
    "collapsed": false
   },
   "outputs": [],
   "source": [
    "import numpy as np\n",
    "import pandas as pd"
   ]
  },
  {
   "cell_type": "code",
   "execution_count": 80,
   "metadata": {
    "collapsed": true
   },
   "outputs": [],
   "source": [
    "import random"
   ]
  },
  {
   "cell_type": "code",
   "execution_count": 55,
   "metadata": {
    "collapsed": false
   },
   "outputs": [],
   "source": [
    "import NLPanalysis"
   ]
  },
  {
   "cell_type": "code",
   "execution_count": 90,
   "metadata": {
    "collapsed": true
   },
   "outputs": [],
   "source": [
    "import os"
   ]
  },
  {
   "cell_type": "code",
   "execution_count": 209,
   "metadata": {
    "collapsed": true
   },
   "outputs": [],
   "source": [
    "import helpful_functions"
   ]
  },
  {
   "cell_type": "code",
   "execution_count": 56,
   "metadata": {
    "collapsed": true
   },
   "outputs": [],
   "source": [
    "## this python notebook has a clear pipeline how to build a model from the data to model"
   ]
  },
  {
   "cell_type": "code",
   "execution_count": 57,
   "metadata": {
    "collapsed": false
   },
   "outputs": [],
   "source": [
    "### FUNCTIONS"
   ]
  },
  {
   "cell_type": "code",
   "execution_count": 58,
   "metadata": {
    "collapsed": true
   },
   "outputs": [],
   "source": [
    "### safely open the saved pickle file\n",
    "def safelyOpen(nameOfSavedDictionary):\n",
    "    try:\n",
    "        with open(nameOfSavedDictionary + '.pickle', 'rb') as handle:\n",
    "            return pickle.load(handle)\n",
    "    except FileNotFoundError:\n",
    "        print(\"File was not found \")"
   ]
  },
  {
   "cell_type": "code",
   "execution_count": 59,
   "metadata": {
    "collapsed": true
   },
   "outputs": [],
   "source": [
    "## function that converts the particular panda data frame to dictionary\n",
    "## this function is Fake News from Kaggle-source specific\n",
    "def createDictionary(pandaData, columnName):\n",
    "    ## subsetting the pandaData\n",
    "    ddt = pandaData.ix[:,str(columnName)]\n",
    "    ## creating the dictionary\n",
    "    return ddt.to_dict()\n",
    "    "
   ]
  },
  {
   "cell_type": "code",
   "execution_count": 60,
   "metadata": {
    "collapsed": true
   },
   "outputs": [],
   "source": [
    "## this function cleans the text of the fake news a bit\n",
    "def cleanTextInFakeDictionary(dicFake):\n",
    "    dicFake = {new_key: cleanText(dicFake[new_key],'fake') for new_key in dicFake.keys()}\n",
    "    return dicFake"
   ]
  },
  {
   "cell_type": "code",
   "execution_count": 61,
   "metadata": {
    "collapsed": true
   },
   "outputs": [],
   "source": [
    "## updating final by temp, if final has the same key as temp, then temp value is gonna prevail\n",
    "def add_dict(final, temp):\n",
    "    z = dict(final, **temp)\n",
    "    final.update(z)\n"
   ]
  },
  {
   "cell_type": "code",
   "execution_count": null,
   "metadata": {
    "collapsed": false
   },
   "outputs": [],
   "source": []
  },
  {
   "cell_type": "code",
   "execution_count": 62,
   "metadata": {
    "collapsed": true
   },
   "outputs": [],
   "source": [
    "###"
   ]
  },
  {
   "cell_type": "code",
   "execution_count": 63,
   "metadata": {
    "collapsed": true
   },
   "outputs": [],
   "source": [
    "### safely open data"
   ]
  },
  {
   "cell_type": "code",
   "execution_count": 64,
   "metadata": {
    "collapsed": false
   },
   "outputs": [],
   "source": [
    "dataFake = safelyOpen('fakeKaggleEnglishOver300')"
   ]
  },
  {
   "cell_type": "code",
   "execution_count": 65,
   "metadata": {
    "collapsed": false
   },
   "outputs": [],
   "source": [
    "dicFake =  createDictionary(dataFake, 'text')"
   ]
  },
  {
   "cell_type": "code",
   "execution_count": 66,
   "metadata": {
    "collapsed": false
   },
   "outputs": [],
   "source": [
    "dataFake = dicFake"
   ]
  },
  {
   "cell_type": "code",
   "execution_count": 67,
   "metadata": {
    "collapsed": true
   },
   "outputs": [],
   "source": [
    "dataTrue2015 = safelyOpen('nytRawText2015')\n",
    "dataTrue2016 = safelyOpen('nytRawText2016')"
   ]
  },
  {
   "cell_type": "code",
   "execution_count": 68,
   "metadata": {
    "collapsed": true
   },
   "outputs": [],
   "source": [
    "dataTrue = dataTrue2016"
   ]
  },
  {
   "cell_type": "code",
   "execution_count": 78,
   "metadata": {
    "collapsed": true
   },
   "outputs": [],
   "source": [
    "## ading up 2015 dictionary"
   ]
  },
  {
   "cell_type": "code",
   "execution_count": 70,
   "metadata": {
    "collapsed": true
   },
   "outputs": [],
   "source": [
    "add_dict(dataTrue, dataTrue2015)"
   ]
  },
  {
   "cell_type": "code",
   "execution_count": null,
   "metadata": {
    "collapsed": false
   },
   "outputs": [],
   "source": []
  },
  {
   "cell_type": "code",
   "execution_count": 47,
   "metadata": {
    "collapsed": false
   },
   "outputs": [],
   "source": [
    "## producing golden true and golden fake data"
   ]
  },
  {
   "cell_type": "code",
   "execution_count": null,
   "metadata": {
    "collapsed": true
   },
   "outputs": [],
   "source": []
  },
  {
   "cell_type": "code",
   "execution_count": 74,
   "metadata": {
    "collapsed": true
   },
   "outputs": [],
   "source": [
    "lenGoldenFake = int(0.2*len(dataFake))\n",
    "lenGoldenTrue = int(0.2*len(dataTrue))"
   ]
  },
  {
   "cell_type": "code",
   "execution_count": 75,
   "metadata": {
    "collapsed": true
   },
   "outputs": [],
   "source": [
    "## fake data split"
   ]
  },
  {
   "cell_type": "code",
   "execution_count": 77,
   "metadata": {
    "collapsed": false
   },
   "outputs": [],
   "source": [
    "dataFakeGoldVectorKeys = list(dataFake.keys())[0:lenGoldenFake]\n",
    "dataFakeCalculationKeys = list(dataFake.keys())[lenGoldenFake:len(dataFake)]"
   ]
  },
  {
   "cell_type": "code",
   "execution_count": 81,
   "metadata": {
    "collapsed": false
   },
   "outputs": [],
   "source": [
    "random.shuffle(dataFakeGoldVectorKeys)\n",
    "random.shuffle(dataFakeCalculationKeys)"
   ]
  },
  {
   "cell_type": "code",
   "execution_count": 82,
   "metadata": {
    "collapsed": true
   },
   "outputs": [],
   "source": [
    "## true data split"
   ]
  },
  {
   "cell_type": "code",
   "execution_count": 83,
   "metadata": {
    "collapsed": true
   },
   "outputs": [],
   "source": [
    "dataTrueGoldVectorKeys = list(dataTrue.keys())[0:lenGoldenTrue]\n",
    "dataTrueCalculationKeys = list(dataTrue.keys())[lenGoldenTrue:len(dataTrue)]"
   ]
  },
  {
   "cell_type": "code",
   "execution_count": 85,
   "metadata": {
    "collapsed": false
   },
   "outputs": [],
   "source": [
    "random.shuffle(dataTrueGoldVectorKeys)\n",
    "random.shuffle(dataTrueCalculationKeys)"
   ]
  },
  {
   "cell_type": "code",
   "execution_count": 86,
   "metadata": {
    "collapsed": true
   },
   "outputs": [],
   "source": [
    "## golden true and golden fake"
   ]
  },
  {
   "cell_type": "code",
   "execution_count": 87,
   "metadata": {
    "collapsed": true
   },
   "outputs": [],
   "source": [
    "goldenFake = {key: dataFake[key] for key in dataFakeGoldVectorKeys}\n",
    "goldenTrue = {key: dataTrue[key] for key in dataTrueGoldVectorKeys}"
   ]
  },
  {
   "cell_type": "code",
   "execution_count": 114,
   "metadata": {
    "collapsed": false
   },
   "outputs": [],
   "source": [
    "import random"
   ]
  },
  {
   "cell_type": "code",
   "execution_count": 129,
   "metadata": {
    "collapsed": false
   },
   "outputs": [],
   "source": [
    "random.seed(77)\n",
    "def random_choice():\n",
    "    return random.randint(0, len(good_urls) - 1)"
   ]
  },
  {
   "cell_type": "code",
   "execution_count": 126,
   "metadata": {
    "collapsed": false
   },
   "outputs": [],
   "source": [
    "good_urls = ['nytimes.com', 'wsj.com', 'abcnews.go.com', 'cnn.com', 'cbsnews.com', 'foxnews.com', 'msnbc.com',\n",
    "                  'nbcnews.com','oann.com', 'latimes.com', 'usatoday.com', 'washingtonpost.com', 'newsweek.com',\n",
    "                  'time.com', 'usnews.com', 'theguardian.com', 'telegraph.co.uk', 'thetimes.co.uk', 'ft.com',\n",
    "                  'independent.co.uk', 'bbc.com', 'standard.co.uk', 'dailymail.co.uk', 'express.co.uk',\n",
    "                  'dailytelegraph.com.au', 'thestar.com','theglobeandmail.com', 'nationalpost.com',\n",
    "                   'calgaryherald.com', 'herald.ie', 'irishtimes.com', 'independent.ie', 'afr.com.au',\n",
    "                   'theaustralian.com.au', 'thesaturdaypaper.com.au']"
   ]
  },
  {
   "cell_type": "code",
   "execution_count": 208,
   "metadata": {
    "collapsed": false
   },
   "outputs": [],
   "source": [
    "urls = {key: good_urls[random_choice()] for key in dataTrue.keys()}"
   ]
  },
  {
   "cell_type": "code",
   "execution_count": 210,
   "metadata": {
    "collapsed": false
   },
   "outputs": [
    {
     "data": {
      "text/plain": [
       "['msnbc.com',\n",
       " 'usatoday.com',\n",
       " 'washingtonpost.com',\n",
       " 'abcnews.go.com',\n",
       " 'afr.com.au',\n",
       " 'dailytelegraph.com.au',\n",
       " 'nationalpost.com',\n",
       " 'newsweek.com',\n",
       " 'thetimes.co.uk',\n",
       " 'theglobeandmail.com',\n",
       " 'time.com',\n",
       " 'standard.co.uk',\n",
       " 'wsj.com',\n",
       " 'independent.ie',\n",
       " 'dailymail.co.uk',\n",
       " 'latimes.com',\n",
       " 'calgaryherald.com',\n",
       " 'ft.com',\n",
       " 'cnn.com',\n",
       " 'cbsnews.com',\n",
       " 'herald.ie',\n",
       " 'independent.co.uk',\n",
       " 'nbcnews.com',\n",
       " 'thesaturdaypaper.com.au',\n",
       " 'express.co.uk',\n",
       " 'nytimes.com',\n",
       " 'telegraph.co.uk',\n",
       " 'irishtimes.com',\n",
       " 'thestar.com',\n",
       " 'foxnews.com',\n",
       " 'theguardian.com',\n",
       " 'usnews.com',\n",
       " 'bbc.com',\n",
       " 'theaustralian.com.au',\n",
       " 'oann.com']"
      ]
     },
     "execution_count": 210,
     "metadata": {},
     "output_type": "execute_result"
    }
   ],
   "source": [
    "helpful_functions.uniqify(urls.values())"
   ]
  },
  {
   "cell_type": "code",
   "execution_count": 168,
   "metadata": {
    "collapsed": false
   },
   "outputs": [
    {
     "data": {
      "text/plain": [
       "'_ff'"
      ]
     },
     "execution_count": 168,
     "metadata": {},
     "output_type": "execute_result"
    }
   ],
   "source": [
    "'_'+('ff')"
   ]
  },
  {
   "cell_type": "code",
   "execution_count": 207,
   "metadata": {
    "collapsed": false
   },
   "outputs": [
    {
     "data": {
      "text/plain": [
       "'2017_1_30_21_37_22'"
      ]
     },
     "execution_count": 207,
     "metadata": {},
     "output_type": "execute_result"
    }
   ],
   "source": [
    "'_'.join([str(x) for x in list(time.localtime())[0:6]])"
   ]
  },
  {
   "cell_type": "code",
   "execution_count": null,
   "metadata": {
    "collapsed": false
   },
   "outputs": [],
   "source": []
  }
 ],
 "metadata": {
  "kernelspec": {
   "display_name": "Python 3",
   "language": "python",
   "name": "python3"
  },
  "language_info": {
   "codemirror_mode": {
    "name": "ipython",
    "version": 3
   },
   "file_extension": ".py",
   "mimetype": "text/x-python",
   "name": "python",
   "nbconvert_exporter": "python",
   "pygments_lexer": "ipython3",
   "version": "3.6.0"
  }
 },
 "nbformat": 4,
 "nbformat_minor": 2
}
