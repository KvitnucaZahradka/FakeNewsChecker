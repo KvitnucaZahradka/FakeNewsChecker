{
 "cells": [
  {
   "cell_type": "code",
   "execution_count": 1,
   "metadata": {
    "collapsed": false
   },
   "outputs": [],
   "source": [
    "from bs4 import BeautifulSoup as bs\n",
    "\n",
    "import json\n",
    "import re\n",
    "import os\n",
    "import time\n",
    "import random\n",
    "import datetime\n",
    "import calendar\n",
    "import logging\n",
    "\n",
    "import urllib\n",
    "import urllib.request\n",
    "from urllib.error import HTTPError\n",
    "\n",
    "import sklearn\n",
    "import matplotlib\n",
    "\n",
    "import numpy as np\n",
    "import pandas as pd\n",
    "import sklearn.preprocessing as prep\n",
    "\n",
    "\n",
    "\n",
    "import requests\n",
    "import html.parser\n",
    "from requests.exceptions import HTTPError\n",
    "from socket import error as SocketError\n",
    "from http.cookiejar import CookieJar\n",
    "\n",
    "import feedparser\n",
    "import pickle\n"
   ]
  },
  {
   "cell_type": "code",
   "execution_count": 2,
   "metadata": {
    "collapsed": false
   },
   "outputs": [],
   "source": [
    "import langdetect"
   ]
  },
  {
   "cell_type": "code",
   "execution_count": 5,
   "metadata": {
    "collapsed": false
   },
   "outputs": [
    {
     "data": {
      "text/plain": [
       "'en'"
      ]
     },
     "execution_count": 5,
     "metadata": {},
     "output_type": "execute_result"
    }
   ],
   "source": [
    "langdetect.detect(fakeKaggle.ix[450,'text'])"
   ]
  },
  {
   "cell_type": "code",
   "execution_count": 22,
   "metadata": {
    "collapsed": true
   },
   "outputs": [],
   "source": [
    "fak1 = 'http://www.infowars.com'\n",
    "fak2 = 'http://www.prntly.com'\n",
    "fak3 = 'http://www.infowars.com/category/us-news'"
   ]
  },
  {
   "cell_type": "code",
   "execution_count": null,
   "metadata": {
    "collapsed": true
   },
   "outputs": [],
   "source": [
    "queryFakeNewsUrl(fak3)"
   ]
  },
  {
   "cell_type": "code",
   "execution_count": 26,
   "metadata": {
    "collapsed": true
   },
   "outputs": [],
   "source": [
    "def queryFakeNewsUrl(url):\n",
    "    cj = CookieJar()\n",
    "    opener = urllib.request.build_opener(urllib.request.HTTPCookieProcessor(cj))\n",
    "    response = opener.open(url)\n",
    "    rd = response.read()\n",
    "    return bs(rd, \"html.parser\")"
   ]
  },
  {
   "cell_type": "code",
   "execution_count": 7,
   "metadata": {
    "collapsed": false
   },
   "outputs": [],
   "source": [
    "def openList(nameOfSavedList):\n",
    "    try:\n",
    "        with open(nameOfSavedList + '.pickle', 'rb') as handle:\n",
    "            return pickle.load(handle)\n",
    "    except FileNotFoundError:\n",
    "        print(\"File was not found, I will create empty dictionary with name \" + nameOfSavedDictionary)\n",
    "        createEmptyList(nameOfSavedList)\n",
    "        return openDict(nameOfSavedList)\n",
    "        \n",
    "        "
   ]
  },
  {
   "cell_type": "code",
   "execution_count": 8,
   "metadata": {
    "collapsed": true
   },
   "outputs": [],
   "source": [
    "def createEmptyList(nameOfList):\n",
    "    with open(nameOfList + '.pickle', 'wb') as handle:\n",
    "            pickle.dump({}, handle)"
   ]
  },
  {
   "cell_type": "code",
   "execution_count": 20,
   "metadata": {
    "collapsed": true
   },
   "outputs": [],
   "source": [
    "def saveListToFile(listToSave, listNameOnDisc):\n",
    "    with open(name + '.pickle', 'wb') as handle:\n",
    "        pickle.dump(dictionary, handle)"
   ]
  },
  {
   "cell_type": "code",
   "execution_count": 21,
   "metadata": {
    "collapsed": true
   },
   "outputs": [],
   "source": [
    "def extratctLinks(beautifulSoup, nameOfLinkListOnDrive, fakeNewsSource, linkClass):\n",
    "    links = []\n",
    "    if fakeNewsSource=='http://www.infowars.com' and linkClass==1:\n",
    "        for txt in beautifulSoup.find_all('a', class_='disqus-comment-count'):\n",
    "            potentialLink = txt.attrs['href']\n",
    "            \n",
    "            # add to a list of Links\n",
    "            if potentialLink not in links:\n",
    "                links.append(potentialLink)\n",
    "        \n",
    "        # saving news into the Locally saved list of fake news\n",
    "        lst = openList('fakeNewsList')\n",
    "        # extending the original list\n",
    "        lst.extend(links)\n",
    "        \n",
    "        # note this is potentially dangerous operation since it rewrites the original file\n",
    "        # should not be here because the new stuff only extends the old one\n",
    "        saveListToFile(lst,'fakeNewsList')\n"
   ]
  },
  {
   "cell_type": "code",
   "execution_count": 28,
   "metadata": {
    "collapsed": false
   },
   "outputs": [
    {
     "data": {
      "text/plain": [
       "['.DS_Store',\n",
       " '.idea',\n",
       " '.ipynb_checkpoints',\n",
       " '__pycache__',\n",
       " 'dirty_data_code_NYT.py',\n",
       " 'fake.csv',\n",
       " 'FakeData.ipynb',\n",
       " 'FakeData.py',\n",
       " 'getting_data.ipynb',\n",
       " 'kucapaca.pickle',\n",
       " 'newDict.pickle',\n",
       " 'nyt.csv',\n",
       " 'nyt.jsongetTimesArticles_testing.log',\n",
       " 'NytData.py',\n",
       " 'nytRawTestText2016.pickle',\n",
       " 'nytRawText2016.pickle',\n",
       " 'nytSnippets2016.pickle',\n",
       " 'testDic.pickle',\n",
       " 'trial.pickle',\n",
       " 'trialList.pickle',\n",
       " 'trialList1.pickle']"
      ]
     },
     "execution_count": 28,
     "metadata": {},
     "output_type": "execute_result"
    }
   ],
   "source": [
    "os.listdir()"
   ]
  },
  {
   "cell_type": "code",
   "execution_count": 3,
   "metadata": {
    "collapsed": false
   },
   "outputs": [],
   "source": [
    "fakeKaggle = pd.DataFrame.from_csv('fake.csv')"
   ]
  },
  {
   "cell_type": "code",
   "execution_count": 4,
   "metadata": {
    "collapsed": false
   },
   "outputs": [
    {
     "name": "stdout",
     "output_type": "stream",
     "text": [
      "Whether it's John McCain, Mitt Romney or Donald Trump, Democrats always run 'War on Women' tactic to destroy the Republican candidate \n",
      "  Natural News Editors Tags: war on women , democrats , campaign tactic (NaturalNews) Single women are a crucial element of the Democrat constituency, pushed to the polls with a crude combination of scare tactics and pandering that would be comical if it wasn't so effective in election after election. We may pause to remark that Republicans should have been much more prepared for this in 2016, but we should also look back to 2012 because it was used in 2012, regardless of how absurd it was to suggest Mitt Romney was leading a \"War on Women.\"(Article written by John Howard, republished from Breitbart.com )Even some liberals are recognizing the absurdity, given the emergence of \"Strange New Respect\" for Romney this year. Of course this new respect is pure political opportunism — and don't be surprised to hear liberals complaining in future election that the conservative Republican presidential candidate isn't as candid and relaxed about social issues as Donald Trump was in the good old days of 2016.We should practice a little political opportunism of our own, and put the Left's revised opinion of Romney to good use. What they said about him was absurd in almost every respect. They've wholeheartedly embraced his position on the geopolitical threat of Russia, which means they're tacitly admitting Barack Obama didn't know what the hell he was talking about. They razz Trump about not paying enough taxes, but they didn't care a whit that Romney paid stupendous amounts of tax, plus vast charitable contributions.Most pertinently, they turned Mitt Romney into a misogynist clod, and his wife Ann Romney into an out-of-touch Stepford Wife, on the thinnest of pretexts. Lefty polemicists today are acting like they were possessed by political demons when they spent the final weeks of the 2012 campaign shrieking about \"binders full of women ,\" and now they can't quite remember what they were going on about.As for Mrs. Romney, she was unceremoniously stripped of her feminine identity by liberals and treated like a space alien because she dared to endorse stay-at-home motherhood. When a mild backlash ensued, the White House memorably denied one of its slander ninja by claiming to know several different people with the same name. [1, 2]In the Democrat imagination and campaign ads, Republicans are constantly targeting American woman. You can draw a straight line from Anita Hill's hit on Clarence Thomas in the Nineties, to \"journalist\" George Stephanopoulos ambushing the Republican presidential field with a bizarre question about contraceptives in the 2012 primary.It's all pure opportunism, not principle. Romney was a choirboy, so they claimed his policies revealed his secret inner misogynist beast. Trump's policies include a family-leave plan, a culture-war cease-fire declared by Peter Thiel at the GOP convention, and an unease with late-term abortion that tracks with the majority of the country. There's precious little that could be twisted into a War on Women narrative, even by the people who used Sandra Fluke to portray spending ten bucks on contraceptives as the equivalent of female slavery. Therefore, the Left ignores Trump's policies and hits his character, while Bill Freakin' Clinton gets ready to move back into the White House.In the Nineties, Democrats argued that Clinton's sexual abuses had nothing to do with how he governed, so discussing them was a silly distraction we all needed to MoveOn.org from, even when he was in the dock for perjury. Liberals of that election cycle laughed out loud at the notion Bill Clinton's libido had any effect whatsoever on national policy. He was good for the abortion industry, so his treatment of actual women was irrelevant.Partisan feminism is at a strange crossroads, as the core feminist message of independence clashes with victim politics. Women are supposed to simultaneously feel strong, capable... and be utterly helpless before systemic male chauvinism. They can only achieve personal \"independence\" through total dependence on the Big Government, which is staffed and managed by the only men in America who supposedly aren't looking to exploit them. (You're not to think about the bureaucrats who keep getting caught surfing for pornography on government computers.) [3]The great left-wing project to rewire society in defiance of biology has saddled America with devastating social problems, but that's not a problem for the social engineers. Indeed, it's more of a feature than a bug.Everything from illegitimacy, to crime, to the enormous difficulty of raising children as a single mom becomes another opportunity for them to push increased government power on a fearful, atomized population, which is rapidly losing its ability to form non-government voluntary structures of enduring social value, such as thriving small businesses and stable marriages.The dirty little secret known to the Left all along, but denied vociferously by them until their plans were fully up and running, is that most of these societal changes hit women harder, due to everything from their voluntary career choices, to the realities of child-rearing.So in the world liberals have made, single women become more anxious than ever, about everything from campus rape to the \"implicit bias\" of a systematically misogynist workplace, and they rush to government for protection from the harms caused by that abusive government.Read more at: Breitbart.com\n"
     ]
    }
   ],
   "source": [
    "print(fakeKaggle.ix[6450,'text'])"
   ]
  },
  {
   "cell_type": "code",
   "execution_count": 61,
   "metadata": {
    "collapsed": false
   },
   "outputs": [
    {
     "data": {
      "text/plain": [
       "'0.19.2'"
      ]
     },
     "execution_count": 61,
     "metadata": {},
     "output_type": "execute_result"
    }
   ],
   "source": [
    "pd.__version__\n"
   ]
  },
  {
   "cell_type": "code",
   "execution_count": 62,
   "metadata": {
    "collapsed": true
   },
   "outputs": [],
   "source": [
    "### ok lets filter out the non-english text and text that is very short"
   ]
  },
  {
   "cell_type": "code",
   "execution_count": 63,
   "metadata": {
    "collapsed": true
   },
   "outputs": [],
   "source": [
    "textSample = fakeKaggle.ix[6450,'text']"
   ]
  },
  {
   "cell_type": "code",
   "execution_count": 66,
   "metadata": {
    "collapsed": false
   },
   "outputs": [
    {
     "data": {
      "text/plain": [
       "881"
      ]
     },
     "execution_count": 66,
     "metadata": {},
     "output_type": "execute_result"
    }
   ],
   "source": [
    "len(textSample.split(' '))"
   ]
  },
  {
   "cell_type": "code",
   "execution_count": 76,
   "metadata": {
    "collapsed": false
   },
   "outputs": [
    {
     "data": {
      "text/plain": [
       "str"
      ]
     },
     "execution_count": 76,
     "metadata": {},
     "output_type": "execute_result"
    }
   ],
   "source": [
    "type(fakeKaggle.ix[2,'text'])"
   ]
  },
  {
   "cell_type": "code",
   "execution_count": null,
   "metadata": {
    "collapsed": true
   },
   "outputs": [],
   "source": []
  },
  {
   "cell_type": "code",
   "execution_count": 82,
   "metadata": {
    "collapsed": false
   },
   "outputs": [],
   "source": [
    "df = pd.DataFrame(np.random.randn(5, 3), columns=['a', 'b', 'velocity'])"
   ]
  },
  {
   "cell_type": "code",
   "execution_count": 51,
   "metadata": {
    "collapsed": false
   },
   "outputs": [],
   "source": [
    "pd1 = pd.Series([1,2,3])\n",
    "pd2 = pd.Series([99,89,54])"
   ]
  },
  {
   "cell_type": "code",
   "execution_count": 52,
   "metadata": {
    "collapsed": false
   },
   "outputs": [],
   "source": [
    "pd1 = pd1.append(pd2)\n"
   ]
  },
  {
   "cell_type": "code",
   "execution_count": 53,
   "metadata": {
    "collapsed": false
   },
   "outputs": [
    {
     "data": {
      "text/plain": [
       "0     1\n",
       "1     2\n",
       "2     3\n",
       "0    99\n",
       "1    89\n",
       "2    54\n",
       "dtype: int64"
      ]
     },
     "execution_count": 53,
     "metadata": {},
     "output_type": "execute_result"
    }
   ],
   "source": [
    "pd1"
   ]
  },
  {
   "cell_type": "code",
   "execution_count": 64,
   "metadata": {
    "collapsed": false
   },
   "outputs": [
    {
     "data": {
      "text/plain": [
       "0     1\n",
       "1     2\n",
       "2     3\n",
       "3    99\n",
       "4    89\n",
       "5    54\n",
       "dtype: int64"
      ]
     },
     "execution_count": 64,
     "metadata": {},
     "output_type": "execute_result"
    }
   ],
   "source": [
    "pd1.reset_index(drop=True)"
   ]
  },
  {
   "cell_type": "code",
   "execution_count": 45,
   "metadata": {
    "collapsed": false
   },
   "outputs": [],
   "source": [
    "data1 = fakeKaggle.ix[0:22,:]\n"
   ]
  },
  {
   "cell_type": "code",
   "execution_count": null,
   "metadata": {
    "collapsed": false
   },
   "outputs": [],
   "source": []
  },
  {
   "cell_type": "code",
   "execution_count": null,
   "metadata": {
    "collapsed": true
   },
   "outputs": [],
   "source": []
  },
  {
   "cell_type": "code",
   "execution_count": 70,
   "metadata": {
    "collapsed": false
   },
   "outputs": [],
   "source": [
    "def saveData(pandaFrame, nameOfPandaFrameOnDisc):\n",
    "    with open(nameOfPandaFrameOnDisc + '.pickle', 'wb') as handle:\n",
    "        pickle.dump(pandaFrame, handle)"
   ]
  },
  {
   "cell_type": "code",
   "execution_count": 69,
   "metadata": {
    "collapsed": true
   },
   "outputs": [],
   "source": [
    "### I DID NOT USE THIS, even though it is OK\n",
    "\n",
    "# this creates a filter that allows only rows with text that: longer than 300 words and is written in \n",
    "# English/(or good enough Engrish)\n",
    "def filt(textSeries, lowerBoundOnText, index, language='en'):\n",
    "    mask = []\n",
    "    counter = 1\n",
    "    for mmbr in textSeries:\n",
    "        if counter%25:\n",
    "            \n",
    "            # note counter number is not included\n",
    "            ind = index[0:counter]\n",
    "            pdSeries = pd.Series(mask,index=ind)\n",
    "            saveData(pdSeries, 'maskFromKaggleFake')\n",
    "            \n",
    "            print('saving the data on disc and counter is :' + str(counter))\n",
    "        if ((len(str(mmbr).split(' '))>=lowerBoundOnText) and (langdetect.detect(str(mmbr))==language)):\n",
    "            mask.append(True)\n",
    "        else:\n",
    "            mask.append(False)\n",
    "        counter +=1\n",
    "        \n",
    "    pdSeries = pd.Series(mask,index=index) \n",
    "    saveData(pdSeries, 'maskFromKaggleFake')\n",
    "    return pdSeries"
   ]
  },
  {
   "cell_type": "code",
   "execution_count": 30,
   "metadata": {
    "collapsed": true
   },
   "outputs": [],
   "source": [
    "index = fakeKaggle.index[0:2]"
   ]
  },
  {
   "cell_type": "code",
   "execution_count": 41,
   "metadata": {
    "collapsed": false
   },
   "outputs": [
    {
     "data": {
      "text/plain": [
       "Index(['ord_in_thread', 'author', 'published', 'title', 'text', 'language',\n",
       "       'crawled', 'site_url', 'country', 'domain_rank', 'thread_title',\n",
       "       'spam_score', 'main_img_url', 'replies_count', 'participants_count',\n",
       "       'likes', 'comments', 'shares', 'type'],\n",
       "      dtype='object')"
      ]
     },
     "execution_count": 41,
     "metadata": {},
     "output_type": "execute_result"
    }
   ],
   "source": [
    "data1.columns"
   ]
  },
  {
   "cell_type": "code",
   "execution_count": 65,
   "metadata": {
    "collapsed": false
   },
   "outputs": [],
   "source": [
    "## trying my filter\n",
    "data1 = data1[data1.apply(lambda x: ((len(str(x['text']).split(' '))>=300) and \n",
    "                  (langdetect.detect(str(x['text']))=='en')), axis=1)]"
   ]
  },
  {
   "cell_type": "code",
   "execution_count": 66,
   "metadata": {
    "collapsed": false
   },
   "outputs": [],
   "source": [
    "## now lets filter out my fake data from Kaggle"
   ]
  },
  {
   "cell_type": "code",
   "execution_count": 73,
   "metadata": {
    "collapsed": false
   },
   "outputs": [],
   "source": [
    "fakeKaggleEnglish = fakeKaggle[fakeKaggle.apply(lambda x: ((len(str(x['text']).split(' '))>=300) and \n",
    "                  (langdetect.detect(str(x['text']))=='en')), axis=1)]\n",
    "saveData(fakeKaggleEnglish, 'fakeKaggleEnglishOver300')"
   ]
  },
  {
   "cell_type": "code",
   "execution_count": 74,
   "metadata": {
    "collapsed": false
   },
   "outputs": [
    {
     "data": {
      "text/plain": [
       "7409"
      ]
     },
     "execution_count": 74,
     "metadata": {},
     "output_type": "execute_result"
    }
   ],
   "source": [
    "len(fakeKaggleEnglish)"
   ]
  },
  {
   "cell_type": "code",
   "execution_count": 90,
   "metadata": {
    "collapsed": false
   },
   "outputs": [
    {
     "data": {
      "text/plain": [
       "'November 13, 2016 Why Polls Fail \\nToday I discussed the U.S. election with a friend who studied and practices statistics. I asked about the failure of the polls in this years presidential election. Her explanation: The polls are looking at future events but are biased by the past. The various companies and institutions adjust the polls they do by looking at their past prognoses and the real results of the past event. They then develop correcting factors, measured from the past, and apply it to new polls. If that correcting factor is wrong, possibly because of structural changes in the electorate, then the new polls will be corrected with a wrong factor and thus miss the real results. \\nPolls predicting the last presidential election were probably off by 3 or 5 points towards the Republican side. The pollsters then corrected the new polls for the Clinton-Trump race in favor of the Democratic side by giving that side an additional 3-5 points. They thereby corrected the new polls by the bias that was poll inherent during the last race. \\nBut structural changes, which we seem to have had during this election, messed up the result. Many people who usually vote for the Democratic ticket did not vote for Clinton. The \"not Clinton\" progressives, the \"bernie bros\" and \"deplorables\" who voted Obama in the last election stayed home, voted for a third party candidate or even for Trump. The pollsters did not anticipate such a deep change. Thus their correction factor was wrong. Thus the Clinton side turned out to be favored in polls but not in the relevant votes. \\nReal polling, which requires in depth-in person interviews with the participants, does not really happen anymore. It is simply to expensive. Polling today is largely done by telephone with participants selected by some database algorithm. It is skewed by many factors which require many corrections. All these corrections have some biases that do miss structural changes in the underlying population. \\nThe Clinton camp, the media and the pollsters missed what we had anticipated as \"not Clinton\". A basic setting in a part of the \"left\" electorate that remember who she is and what she has done and would under no circumstances vote for her. Clinton herself pushed the \"bernie bros\" and \"deplorables\" into that camp. This was a structural change that was solely based in the personality of the candidate. \\nIf Sanders would have been the candidate the now wrong poll correction factor in favor of Democrats would likely have been a correct one. The deep antipathy against Hillary Clinton in a decisive part of the electorate was a factor that the pseudo-science of cheap telephone polls could not catch. More expensive in depth interviews of the base population used by a pollster would probably have caught this factor and adjusted appropriately. \\nThere were some twenty to thirty different entities doing polls during this election cycle. Five to ten polling entities, with better budgets and preparations, would probably have led to better prognoses. Some media companies could probably join their poll budgets, split over multiple companies today, to have a common one with a better analysis of its base population.One that would have anticipated \"not Hillary\". \\nUnless that happens all polls will have to be read with a lot of doubt. What past bias is captured in these predictions of the future? What are their structural assumptions and are these still correct? What structural change might have happened? \\nEven then polls and their interpretation will always only capture a part of the story. Often a sound grasp of human and cultural behavior will allow for better prediction as all polls. As my friend the statistician say: \"The best prognostic instrument I have even today is my gut.\"   13, 2016 at 03:17 PM | Permalink'"
      ]
     },
     "execution_count": 90,
     "metadata": {},
     "output_type": "execute_result"
    }
   ],
   "source": [
    "fakeKaggleEnglish.ix[3444,'text']"
   ]
  },
  {
   "cell_type": "code",
   "execution_count": null,
   "metadata": {
    "collapsed": true
   },
   "outputs": [],
   "source": []
  },
  {
   "cell_type": "code",
   "execution_count": null,
   "metadata": {
    "collapsed": true
   },
   "outputs": [],
   "source": []
  },
  {
   "cell_type": "code",
   "execution_count": null,
   "metadata": {
    "collapsed": true
   },
   "outputs": [],
   "source": []
  },
  {
   "cell_type": "code",
   "execution_count": null,
   "metadata": {
    "collapsed": true
   },
   "outputs": [],
   "source": []
  }
 ],
 "metadata": {
  "kernelspec": {
   "display_name": "Python 3",
   "language": "python",
   "name": "python3"
  },
  "language_info": {
   "codemirror_mode": {
    "name": "ipython",
    "version": 3
   },
   "file_extension": ".py",
   "mimetype": "text/x-python",
   "name": "python",
   "nbconvert_exporter": "python",
   "pygments_lexer": "ipython3",
   "version": "3.6.0"
  }
 },
 "nbformat": 4,
 "nbformat_minor": 2
}
